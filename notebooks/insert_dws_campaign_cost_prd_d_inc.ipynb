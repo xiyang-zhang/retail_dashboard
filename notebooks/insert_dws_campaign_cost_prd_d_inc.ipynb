{
  "nbformat": 4,
  "nbformat_minor": 0,
  "metadata": {
    "colab": {
      "cell_execution_strategy": "setup",
      "provenance": [],
      "name": "insert_dws_campaign_cost_prd_d_inc"
    },
    "kernelspec": {
      "name": "python3",
      "display_name": "Python 3"
    },
    "language_info": {
      "name": "python"
    }
  },
  "cells": [
    {
      "cell_type": "markdown",
      "source": [
        "# insert_dws_campaign_cost_prd_d_inc\n",
        "\n",
        "- Name: insert_dws_campaign_cost_prd_d_inc\n",
        "\n",
        "- Description: insert data to dws_campaign_cost_prd_d_inc. Sum up cost of each product during each campaign, including total budget and it remaining budget for the previous 7 days.\n",
        "- Data modeling reference: https://docs.google.com/spreadsheets/d/1FlbiZEBue2SCAUo1WOkdtX5WbEDyDrZ9B2uiZUSiRio/edit?gid=801113373#gid=801113373\n",
        "- Target Table: dws_campaign_cost_prd_d_inc\n",
        "- Source Table: dwd_ads_d_inc, dwd_budget_d_in, dwd_campaign_d_inc\n",
        "- Created by: alvinxyzhang\n",
        "- Created Date: 2025-04-28\n",
        "- Version: v1.0"
      ],
      "metadata": {
        "id": "VI0xLxmm7HBa"
      }
    },
    {
      "cell_type": "code",
      "source": [
        "from google.cloud import bigquery\n",
        "import datetime\n",
        "import pandas as pd"
      ],
      "metadata": {
        "id": "36V7FCG2KaCK"
      },
      "execution_count": null,
      "outputs": []
    },
    {
      "cell_type": "markdown",
      "source": [
        "## Scheduled Task & Partition Table\n",
        "\n",
        "- https://cloud.google.com/bigquery/docs/parameterized-queries?cloudshell=true#python\n",
        "- https://cloud.google.com/bigquery/docs/creating-partitioned-tables#python\n",
        "- https://cloud.google.com/bigquery/docs/samples/bigquery-query-results-dataframe"
      ],
      "metadata": {
        "id": "IqppmS5lTMMz"
      }
    },
    {
      "cell_type": "code",
      "source": [
        "# Construct a BigQuery client object.\n",
        "client = bigquery.Client()\n",
        "\n",
        "table_schema = [\n",
        "        bigquery.SchemaField(\"date\", \"DATE\"),\n",
        "        bigquery.SchemaField(\"campaign_id\", \"INTEGER\"),\n",
        "        bigquery.SchemaField(\"product_id\", \"INTEGER\"),\n",
        "        bigquery.SchemaField(\"campaign_name\", \"STRING\"),\n",
        "        bigquery.SchemaField(\"campaign_type\", \"STRING\"),\n",
        "        bigquery.SchemaField(\"start_date\", \"DATE\"),\n",
        "        bigquery.SchemaField(\"end_date\", \"DATE\"),\n",
        "        bigquery.SchemaField(\"estimated_budget\", \"INTEGER\"),\n",
        "        bigquery.SchemaField(\"approved_budget\", \"INTEGER\"),\n",
        "        bigquery.SchemaField(\"real_spent_budget\", \"INTEGER\"),\n",
        "        bigquery.SchemaField(\"discount\", \"FLOAT\"),\n",
        "        bigquery.SchemaField(\"estimated_sales_increase\", \"FLOAT\"),\n",
        "        bigquery.SchemaField(\"count_product\", \"INTEGER\"),\n",
        "        bigquery.SchemaField(\"agency_or_specialist\", \"STRING\"),\n",
        "        bigquery.SchemaField(\"cost_in_store\", \"FLOAT\"),\n",
        "        bigquery.SchemaField(\"cost_flyer\", \"FLOAT\"),\n",
        "        bigquery.SchemaField(\"cost_community\", \"FLOAT\"),\n",
        "        bigquery.SchemaField(\"cost_loyalty\", \"FLOAT\"),\n",
        "        bigquery.SchemaField(\"cost_push\", \"FLOAT\"),\n",
        "        bigquery.SchemaField(\"ad_group\", \"INTEGER\"),\n",
        "        bigquery.SchemaField(\"cost_ad_total\", \"FLOAT\"),\n",
        "        bigquery.SchemaField(\"cost_ad_search\", \"FLOAT\"),\n",
        "        bigquery.SchemaField(\"cost_ad_display\", \"FLOAT\"),\n",
        "        bigquery.SchemaField(\"cost_ad_event\", \"FLOAT\"),\n",
        "        bigquery.SchemaField(\"cost_ad_retargeting\", \"FLOAT\"),\n",
        "        bigquery.SchemaField(\"cost_ad_email\", \"FLOAT\"),\n",
        "        bigquery.SchemaField(\"impressions_ad_total\", \"INTEGER\"),\n",
        "        bigquery.SchemaField(\"impressions_ad_search\", \"INTEGER\"),\n",
        "        bigquery.SchemaField(\"impressions_ad_display\", \"INTEGER\"),\n",
        "        bigquery.SchemaField(\"impressions_ad_event\", \"INTEGER\"),\n",
        "        bigquery.SchemaField(\"impressions_ad_retargeting\", \"INTEGER\"),\n",
        "        bigquery.SchemaField(\"impressions_ad_email\", \"INTEGER\"),\n",
        "        bigquery.SchemaField(\"clicks_ad_total\", \"INTEGER\"),\n",
        "        bigquery.SchemaField(\"clicks_ad_search\", \"INTEGER\"),\n",
        "        bigquery.SchemaField(\"clicks_ad_display\", \"INTEGER\"),\n",
        "        bigquery.SchemaField(\"clicks_ad_event\", \"INTEGER\"),\n",
        "        bigquery.SchemaField(\"clicks_ad_retargeting\", \"INTEGER\"),\n",
        "        bigquery.SchemaField(\"clicks_ad_email\", \"INTEGER\"),\n",
        "        bigquery.SchemaField(\"conversions_ad_total\", \"INTEGER\"),\n",
        "        bigquery.SchemaField(\"conversions_ad_search\", \"INTEGER\"),\n",
        "        bigquery.SchemaField(\"conversions_ad_display\", \"INTEGER\"),\n",
        "        bigquery.SchemaField(\"conversions_ad_event\", \"INTEGER\"),\n",
        "        bigquery.SchemaField(\"conversions_ad_retargeting\", \"INTEGER\"),\n",
        "        bigquery.SchemaField(\"conversions_ad_email\", \"INTEGER\")\n",
        "    ]\n",
        "\n",
        "insert_query = f\"\"\"\n",
        "    WITH campaign_tbl AS (\n",
        "      -- campaign summary table\n",
        "      SELECT campaign_id\n",
        "          , campaign_name\n",
        "          , campaign_type\n",
        "          , start_date\n",
        "          , end_date\n",
        "          , estimated_budget\n",
        "          , approved_budget\n",
        "          , real_spent_budget\n",
        "          , product_id\n",
        "          , discount\n",
        "          , estimated_sales_increase\n",
        "          , COUNT(DISTINCT product_id) OVER (PARTITION BY campaign_id) count_product\n",
        "      FROM `positive-karma-457703-i3.retail_dashboard.dwd_campaign_d_inc`\n",
        "      WHERE (start_date <= @start_date_ and end_date >= @start_date_)\n",
        "        # OR (start_date <= @end_date_ and end_date >= @end_date_)\n",
        "    )\n",
        "    , budget_tbl AS (\n",
        "      -- budget summation of the past one week including today\n",
        "      SELECT campaign_id\n",
        "          , agency_or_specialist\n",
        "          , product_id\n",
        "          , SUM(cost_in_store) AS cost_in_store\n",
        "          , SUM(cost_flyer) AS cost_flyer\n",
        "          , SUM(cost_community) AS cost_community\n",
        "          , SUM(cost_loyalty) AS cost_loyalty\n",
        "          , SUM(cost_push) AS cost_push\n",
        "      FROM (\n",
        "        SELECT `date`\n",
        "            , campaign_id\n",
        "            , agency_or_specialist\n",
        "            , product_id\n",
        "            , SUM(IF(activity = \"In-store Setup\", spent, 0)) / AVG(product_list_len) AS cost_in_store\n",
        "            , SUM(IF(activity = \"Flyer Launch\", spent, 0)) / AVG(product_list_len) AS cost_flyer\n",
        "            , SUM(IF(activity = \"Local Community Events\", spent, 0)) / AVG(product_list_len) AS cost_community\n",
        "            , SUM(IF(activity = \"Loyalty Program\", spent, 0)) / AVG(product_list_len) AS cost_loyalty\n",
        "            , SUM(IF(activity = \"Digital Push\", spent, 0)) / AVG(product_list_len) AS cost_push\n",
        "        FROM `positive-karma-457703-i3.retail_dashboard.dwd_budget_d_inc`\n",
        "        WHERE `date` >= @start_date_\n",
        "          AND `date` <= @end_date_\n",
        "        GROUP BY `date`\n",
        "              , campaign_id\n",
        "              , agency_or_specialist\n",
        "              , product_id\n",
        "      ) as t0\n",
        "      GROUP BY campaign_id\n",
        "            , agency_or_specialist\n",
        "            , product_id\n",
        "    )\n",
        "    , ad_tbl AS (\n",
        "      -- advertise to sum the cost over the last 7 days\n",
        "      SELECT campaign_id\n",
        "          , ad_group\n",
        "          , product_id\n",
        "          , agency_or_specialist\n",
        "          , SUM(cost) AS cost_ad_total\n",
        "          , SUM(IF(ads_campaign_type = \"online-search\", cost, 0))  AS cost_ad_search\n",
        "          , SUM(IF(ads_campaign_type = \"online-displays\", cost, 0))  AS cost_ad_display\n",
        "          , SUM(IF(ads_campaign_type = \"online-event\", cost, 0))  AS cost_ad_event\n",
        "          , SUM(IF(ads_campaign_type = \"retargeting-ads\", cost, 0))  AS cost_ad_retargeting\n",
        "          , SUM(IF(ads_campaign_type = \"email-ads\", cost, 0))  AS cost_ad_email\n",
        "          , SUM(impressions) AS impressions_ad_total\n",
        "          , SUM(IF(ads_campaign_type = \"online-search\", impressions, 0))  AS impressions_ad_search\n",
        "          , SUM(IF(ads_campaign_type = \"online-displays\", impressions, 0))  AS impressions_ad_display\n",
        "          , SUM(IF(ads_campaign_type = \"online-event\", impressions, 0))  AS impressions_ad_event\n",
        "          , SUM(IF(ads_campaign_type = \"retargeting-ads\", impressions, 0))  AS impressions_ad_retargeting\n",
        "          , SUM(IF(ads_campaign_type = \"email-ads\", impressions, 0))  AS impressions_ad_email\n",
        "          , SUM(clicks) AS clicks_ad_total\n",
        "          , SUM(IF(ads_campaign_type = \"online-search\", clicks, 0))  AS clicks_ad_search\n",
        "          , SUM(IF(ads_campaign_type = \"online-displays\", clicks, 0))  AS clicks_ad_display\n",
        "          , SUM(IF(ads_campaign_type = \"online-event\", clicks, 0))  AS clicks_ad_event\n",
        "          , SUM(IF(ads_campaign_type = \"retargeting-ads\", clicks, 0))  AS clicks_ad_retargeting\n",
        "          , SUM(IF(ads_campaign_type = \"email-ads\", clicks, 0))  AS clicks_ad_email\n",
        "          , SUM(conversions) AS conversions_ad_total\n",
        "          , SUM(IF(ads_campaign_type = \"online-search\", conversions, 0))  AS conversions_ad_search\n",
        "          , SUM(IF(ads_campaign_type = \"online-displays\", conversions, 0))  AS conversions_ad_display\n",
        "          , SUM(IF(ads_campaign_type = \"online-event\", conversions, 0))  AS conversions_ad_event\n",
        "          , SUM(IF(ads_campaign_type = \"retargeting-ads\", conversions, 0))  AS conversions_ad_retargeting\n",
        "          , SUM(IF(ads_campaign_type = \"email-ads\", conversions, 0))  AS conversions_ad_email\n",
        "      FROM `positive-karma-457703-i3.retail_dashboard.dwd_ads_d_inc`\n",
        "      WHERE `date` >= @start_date_\n",
        "        AND `date` <= @end_date_\n",
        "      GROUP BY campaign_id\n",
        "            , ad_group\n",
        "            , product_id\n",
        "            , agency_or_specialist\n",
        "    )\n",
        "\n",
        "    SELECT @end_date_ as `date`\n",
        "        , campaign_tbl.campaign_id\n",
        "        , campaign_tbl.product_id\n",
        "        , campaign_name\n",
        "        , campaign_type\n",
        "        , start_date\n",
        "        , end_date\n",
        "        , estimated_budget\n",
        "        , approved_budget\n",
        "        , real_spent_budget\n",
        "        , discount\n",
        "        , estimated_sales_increase\n",
        "        , count_product\n",
        "        -- budget_tbl\n",
        "        , budget_tbl.agency_or_specialist\n",
        "        , cost_in_store\n",
        "        , cost_flyer\n",
        "        , cost_community\n",
        "        , cost_loyalty\n",
        "        , cost_push\n",
        "        -- ads_tbl\n",
        "        , ad_group\n",
        "        , cost_ad_total\n",
        "        , cost_ad_search\n",
        "        , cost_ad_display\n",
        "        , cost_ad_event\n",
        "        , cost_ad_retargeting\n",
        "        , cost_ad_email\n",
        "        , impressions_ad_total\n",
        "        , impressions_ad_search\n",
        "        , impressions_ad_display\n",
        "        , impressions_ad_event\n",
        "        , impressions_ad_retargeting\n",
        "        , impressions_ad_email\n",
        "        , clicks_ad_total\n",
        "        , clicks_ad_search\n",
        "        , clicks_ad_display\n",
        "        , clicks_ad_event\n",
        "        , clicks_ad_retargeting\n",
        "        , clicks_ad_email\n",
        "        , conversions_ad_total\n",
        "        , conversions_ad_search\n",
        "        , conversions_ad_display\n",
        "        , conversions_ad_event\n",
        "        , conversions_ad_retargeting\n",
        "        , conversions_ad_email\n",
        "    FROM campaign_tbl\n",
        "    LEFT JOIN budget_tbl\n",
        "  -- including all planned product_id\n",
        "      ON campaign_tbl.campaign_id = budget_tbl.campaign_id\n",
        "      AND campaign_tbl.product_id = budget_tbl.product_id\n",
        "    LEFT JOIN ad_tbl\n",
        "      ON campaign_tbl.campaign_id = ad_tbl.campaign_id\n",
        "      AND campaign_tbl.product_id = ad_tbl.product_id\n",
        "      AND ad_tbl.campaign_id = budget_tbl.campaign_id\n",
        "      AND ad_tbl.product_id = budget_tbl.product_id\n",
        "      AND ad_tbl.agency_or_specialist = budget_tbl.agency_or_specialist\n",
        "\"\"\"\n",
        "\n",
        "# Step 1: Check if table exists\n",
        "def check_table(table_id_, full_table_id_, schema_, partition_column_):\n",
        "  try:\n",
        "      table = client.get_table(full_table_id_)\n",
        "      print(f\"    Table {table_id_} already exists.\")\n",
        "  except:\n",
        "      print(f\"    Creating partitioned table {table_id_}...\")\n",
        "\n",
        "      table = bigquery.Table(full_table_id_, schema=schema_)\n",
        "      table.time_partitioning = bigquery.TimePartitioning(\n",
        "          type_=bigquery.TimePartitioningType.DAY,\n",
        "          field=partition_col\n",
        "      )\n",
        "\n",
        "      table = client.create_table(table)\n",
        "      print(f\"Created partitioned table {full_table_id_}\")\n",
        "\n",
        "# Step 2: Insert Query\n",
        "def insert_table(insert_query_, full_table_id_partition_, query_parameters_):\n",
        "  job_config = bigquery.QueryJobConfig(\n",
        "      destination = full_table_id_partition_,\n",
        "      write_disposition=bigquery.WriteDisposition.WRITE_TRUNCATE,\n",
        "      use_legacy_sql=False,\n",
        "      query_parameters=query_parameters_\n",
        "  )\n",
        "  query_job_ = client.query(insert_query_, job_config=job_config)  # Make an API request.\n",
        "\n",
        "  print('   Result:', query_job_.result())\n",
        "\n",
        "  print('   Errors: ', query_job_.errors)\n",
        "\n",
        "  return(query_job_)\n",
        "\n",
        "# Step 3: Check Insert Rows\n",
        "def check_insert_rows(partition_col_, full_table_id_, job_date_):\n",
        "  query = f\"\"\"\n",
        "      SELECT {partition_col_}, count(1) row_cnt\n",
        "      FROM {full_table_id_}\n",
        "      WHERE {partition_col_} = @date_\n",
        "      GROUP BY {partition_col_}\n",
        "  \"\"\"\n",
        "  job_config = bigquery.QueryJobConfig(\n",
        "      query_parameters=[\n",
        "          bigquery.ScalarQueryParameter(\"date_\", \"DATE\", job_date_)\n",
        "      ]\n",
        "  )\n",
        "  query_job = client.query_and_wait(query, job_config=job_config)\n",
        "\n",
        "  row_cnt_df = query_job.to_dataframe()\n",
        "  return(row_cnt_df)\n",
        "\n",
        "# Main excution\n",
        "dataset_id = 'retail_dashboard'\n",
        "target_table = 'dws_campaign_cost_prd_d_inc'\n",
        "partition_col = 'date'\n",
        "job_date = datetime.date(2024, 1, 1)\n",
        "date_interval = 6\n",
        "\n",
        "# Full table IDs\n",
        "partition = job_date.strftime(\"%Y%m%d\")\n",
        "full_table_id = f\"{client.project}.{dataset_id}.{target_table}\"\n",
        "full_table_id_partition = f\"{client.project}.{dataset_id}.{target_table}${partition}\"\n",
        "query_parameters = [\n",
        "        bigquery.ScalarQueryParameter(\"start_date_\", \"DATE\", job_date), #  - datetime.timedelta(days=date_interval)\n",
        "        bigquery.ScalarQueryParameter(\"end_date_\", \"DATE\", job_date)\n",
        "    ]\n",
        "\n",
        "print('- Execution: ', job_date, ' Partition: ', partition)\n",
        "check_table(table_id_=target_table, full_table_id_=full_table_id, schema_ = table_schema, partition_column_ = partition_col)\n",
        "query_job = insert_table(insert_query_ = insert_query, full_table_id_partition_ = full_table_id_partition, query_parameters_ = query_parameters)\n",
        "print('- Finish writing to Partition ', partition)\n",
        "row_cnt_df = check_insert_rows(partition_col_ = partition_col, full_table_id_ = full_table_id, job_date_ = job_date)\n",
        "print('- Check: insert', str(row_cnt_df['row_cnt'].values[0]), 'rows.')"
      ],
      "metadata": {
        "colab": {
          "base_uri": "https://localhost:8080/",
          "height": 287
        },
        "id": "oIb5y1cokSwz",
        "executionInfo": {
          "status": "error",
          "timestamp": 1746138768149,
          "user_tz": 420,
          "elapsed": 3344,
          "user": {
            "displayName": "",
            "userId": ""
          }
        },
        "outputId": "1e6eff84-cf5c-4fdf-afaa-fe0c83b52a72"
      },
      "execution_count": null,
      "outputs": [
        {
          "output_type": "stream",
          "name": "stdout",
          "text": [
            "- Execution:  2024-01-01  Partition:  20240101\n",
            "    Table dws_campaign_cost_prd_d_inc already exists.\n",
            "   Result: <google.cloud.bigquery.table.RowIterator object at 0x7f1e6e84f5e0>\n",
            "   Errors:  None\n",
            "- Finish writing to Partition  20240101\n"
          ]
        },
        {
          "output_type": "error",
          "ename": "IndexError",
          "evalue": "index 0 is out of bounds for axis 0 with size 0",
          "traceback": [
            "\u001b[0;31m---------------------------------------------------------------------------\u001b[0m",
            "\u001b[0;31mIndexError\u001b[0m                                Traceback (most recent call last)",
            "\u001b[0;32m<ipython-input-10-55818b0f72b2>\u001b[0m in \u001b[0;36m<cell line: 272>\u001b[0;34m()\u001b[0m\n\u001b[1;32m    270\u001b[0m \u001b[0mprint\u001b[0m\u001b[0;34m(\u001b[0m\u001b[0;34m'- Finish writing to Partition '\u001b[0m\u001b[0;34m,\u001b[0m \u001b[0mpartition\u001b[0m\u001b[0;34m)\u001b[0m\u001b[0;34m\u001b[0m\u001b[0;34m\u001b[0m\u001b[0m\n\u001b[1;32m    271\u001b[0m \u001b[0mrow_cnt_df\u001b[0m \u001b[0;34m=\u001b[0m \u001b[0mcheck_insert_rows\u001b[0m\u001b[0;34m(\u001b[0m\u001b[0mpartition_col_\u001b[0m \u001b[0;34m=\u001b[0m \u001b[0mpartition_col\u001b[0m\u001b[0;34m,\u001b[0m \u001b[0mfull_table_id_\u001b[0m \u001b[0;34m=\u001b[0m \u001b[0mfull_table_id\u001b[0m\u001b[0;34m,\u001b[0m \u001b[0mjob_date_\u001b[0m \u001b[0;34m=\u001b[0m \u001b[0mjob_date\u001b[0m\u001b[0;34m)\u001b[0m\u001b[0;34m\u001b[0m\u001b[0;34m\u001b[0m\u001b[0m\n\u001b[0;32m--> 272\u001b[0;31m \u001b[0mprint\u001b[0m\u001b[0;34m(\u001b[0m\u001b[0;34m'- Check: insert'\u001b[0m\u001b[0;34m,\u001b[0m \u001b[0mstr\u001b[0m\u001b[0;34m(\u001b[0m\u001b[0mrow_cnt_df\u001b[0m\u001b[0;34m[\u001b[0m\u001b[0;34m'row_cnt'\u001b[0m\u001b[0;34m]\u001b[0m\u001b[0;34m.\u001b[0m\u001b[0mvalues\u001b[0m\u001b[0;34m[\u001b[0m\u001b[0;36m0\u001b[0m\u001b[0;34m]\u001b[0m\u001b[0;34m)\u001b[0m\u001b[0;34m,\u001b[0m \u001b[0;34m'rows.'\u001b[0m\u001b[0;34m)\u001b[0m\u001b[0;34m\u001b[0m\u001b[0;34m\u001b[0m\u001b[0m\n\u001b[0m",
            "\u001b[0;31mIndexError\u001b[0m: index 0 is out of bounds for axis 0 with size 0"
          ]
        }
      ]
    },
    {
      "cell_type": "markdown",
      "source": [
        "## Iterate over Date\n"
      ],
      "metadata": {
        "id": "523OmhnaJOMD"
      }
    },
    {
      "cell_type": "code",
      "source": [
        "start_date = datetime.date(2024, 1, 1)\n",
        "end_date = datetime.date(2025, 4, 25)\n",
        "dataset_id = 'retail_dashboard'\n",
        "target_table = 'dws_campaign_cost_prd_d_inc'\n",
        "partition_col = 'date'\n",
        "date_interval = 6\n",
        "full_table_id = f\"{client.project}.{dataset_id}.{target_table}\"\n",
        "\n",
        "total_row_cnt_df = pd.DataFrame()\n",
        "\n",
        "# iterate over range of dates\n",
        "while (start_date <= end_date):\n",
        "  job_date = start_date\n",
        "\n",
        "  # Full table IDs\n",
        "  partition = job_date.strftime(\"%Y%m%d\")\n",
        "  full_table_id_partition = f\"{client.project}.{dataset_id}.{target_table}${partition}\"\n",
        "  query_parameters = [\n",
        "          bigquery.ScalarQueryParameter(\"start_date_\", \"DATE\", job_date), #  - datetime.timedelta(days=date_interval)\n",
        "          bigquery.ScalarQueryParameter(\"end_date_\", \"DATE\", job_date)\n",
        "      ]\n",
        "\n",
        "  print('- Execution: ', job_date, ' Partition: ', partition)\n",
        "  check_table(table_id_=target_table, full_table_id_=full_table_id, schema_ = table_schema, partition_column_ = partition_col)\n",
        "  query_job = insert_table(insert_query_ = insert_query, full_table_id_partition_ = full_table_id_partition, query_parameters_ = query_parameters)\n",
        "  print('- Finish writing to Partition ', partition)\n",
        "  row_cnt_df = check_insert_rows(partition_col_ = partition_col, full_table_id_ = full_table_id, job_date_ = job_date)\n",
        "  if row_cnt_df.shape[0] == 0:\n",
        "    print('- Check: insert 0 rows.')\n",
        "  else:\n",
        "    print('- Check: insert', str(row_cnt_df['row_cnt'].values[0]), 'rows.')\n",
        "\n",
        "  total_row_cnt_df = pd.concat([total_row_cnt_df, row_cnt_df], axis=0, join='outer', ignore_index=True)\n",
        "\n",
        "  start_date += datetime.timedelta(days=1)\n"
      ],
      "metadata": {
        "colab": {
          "base_uri": "https://localhost:8080/"
        },
        "id": "3tm4yclGIGM0",
        "outputId": "66a2210e-8c90-4afd-b40c-4894fbd71226",
        "executionInfo": {
          "status": "ok",
          "timestamp": 1746147747028,
          "user_tz": 420,
          "elapsed": 65,
          "user": {
            "displayName": "",
            "userId": ""
          }
        }
      },
      "execution_count": 11,
      "outputs": [
        {
          "output_type": "stream",
          "name": "stdout",
          "text": [
            "- Execution:  2024-01-01  Partition:  20240101\n",
            "    Table dws_campaign_cost_prd_d_inc already exists.\n",
            "   Result: <google.cloud.bigquery.table.RowIterator object at 0x7f1e6d407a60>\n",
            "   Errors:  None\n",
            "- Finish writing to Partition  20240101\n",
            "- Check: insert 0 rows.\n",
            "- Execution:  2024-01-02  Partition:  20240102\n",
            "    Table dws_campaign_cost_prd_d_inc already exists.\n",
            "   Result: <google.cloud.bigquery.table.RowIterator object at 0x7f1e6d407b80>\n",
            "   Errors:  None\n",
            "- Finish writing to Partition  20240102\n",
            "- Check: insert 0 rows.\n",
            "- Execution:  2024-01-03  Partition:  20240103\n",
            "    Table dws_campaign_cost_prd_d_inc already exists.\n",
            "   Result: <google.cloud.bigquery.table.RowIterator object at 0x7f1e6d404f70>\n",
            "   Errors:  None\n",
            "- Finish writing to Partition  20240103\n",
            "- Check: insert 0 rows.\n",
            "- Execution:  2024-01-04  Partition:  20240104\n",
            "    Table dws_campaign_cost_prd_d_inc already exists.\n",
            "   Result: <google.cloud.bigquery.table.RowIterator object at 0x7f1e6d404280>\n",
            "   Errors:  None\n",
            "- Finish writing to Partition  20240104\n",
            "- Check: insert 0 rows.\n",
            "- Execution:  2024-01-05  Partition:  20240105\n",
            "    Table dws_campaign_cost_prd_d_inc already exists.\n",
            "   Result: <google.cloud.bigquery.table.RowIterator object at 0x7f1e6d406d10>\n",
            "   Errors:  None\n",
            "- Finish writing to Partition  20240105\n",
            "- Check: insert 0 rows.\n",
            "- Execution:  2024-01-06  Partition:  20240106\n",
            "    Table dws_campaign_cost_prd_d_inc already exists.\n",
            "   Result: <google.cloud.bigquery.table.RowIterator object at 0x7f1e6f1d5120>\n",
            "   Errors:  None\n",
            "- Finish writing to Partition  20240106\n",
            "- Check: insert 0 rows.\n",
            "- Execution:  2024-01-07  Partition:  20240107\n",
            "    Table dws_campaign_cost_prd_d_inc already exists.\n",
            "   Result: <google.cloud.bigquery.table.RowIterator object at 0x7f1e6d404100>\n",
            "   Errors:  None\n",
            "- Finish writing to Partition  20240107\n",
            "- Check: insert 0 rows.\n",
            "- Execution:  2024-01-08  Partition:  20240108\n",
            "    Table dws_campaign_cost_prd_d_inc already exists.\n",
            "   Result: <google.cloud.bigquery.table.RowIterator object at 0x7f1e6f352c50>\n",
            "   Errors:  None\n",
            "- Finish writing to Partition  20240108\n",
            "- Check: insert 0 rows.\n",
            "- Execution:  2024-01-09  Partition:  20240109\n",
            "    Table dws_campaign_cost_prd_d_inc already exists.\n",
            "   Result: <google.cloud.bigquery.table.RowIterator object at 0x7f1e6d4077f0>\n",
            "   Errors:  None\n",
            "- Finish writing to Partition  20240109\n",
            "- Check: insert 0 rows.\n",
            "- Execution:  2024-01-10  Partition:  20240110\n",
            "    Table dws_campaign_cost_prd_d_inc already exists.\n",
            "   Result: <google.cloud.bigquery.table.RowIterator object at 0x7f1e6d406fe0>\n",
            "   Errors:  None\n",
            "- Finish writing to Partition  20240110\n",
            "- Check: insert 0 rows.\n",
            "- Execution:  2024-01-11  Partition:  20240111\n",
            "    Table dws_campaign_cost_prd_d_inc already exists.\n",
            "   Result: <google.cloud.bigquery.table.RowIterator object at 0x7f1e6f353460>\n",
            "   Errors:  None\n",
            "- Finish writing to Partition  20240111\n",
            "- Check: insert 0 rows.\n",
            "- Execution:  2024-01-12  Partition:  20240112\n",
            "    Table dws_campaign_cost_prd_d_inc already exists.\n",
            "   Result: <google.cloud.bigquery.table.RowIterator object at 0x7f1e6d4048e0>\n",
            "   Errors:  None\n",
            "- Finish writing to Partition  20240112\n",
            "- Check: insert 0 rows.\n",
            "- Execution:  2024-01-13  Partition:  20240113\n",
            "    Table dws_campaign_cost_prd_d_inc already exists.\n",
            "   Result: <google.cloud.bigquery.table.RowIterator object at 0x7f1e6d4069b0>\n",
            "   Errors:  None\n",
            "- Finish writing to Partition  20240113\n",
            "- Check: insert 146 rows.\n",
            "- Execution:  2024-01-14  Partition:  20240114\n",
            "    Table dws_campaign_cost_prd_d_inc already exists.\n"
          ]
        },
        {
          "output_type": "stream",
          "name": "stderr",
          "text": [
            "<ipython-input-11-551945fa7199>:33: FutureWarning: The behavior of DataFrame concatenation with empty or all-NA entries is deprecated. In a future version, this will no longer exclude empty or all-NA columns when determining the result dtypes. To retain the old behavior, exclude the relevant entries before the concat operation.\n",
            "  total_row_cnt_df = pd.concat([total_row_cnt_df, row_cnt_df], axis=0, join='outer', ignore_index=True)\n"
          ]
        },
        {
          "output_type": "stream",
          "name": "stdout",
          "text": [
            "   Result: <google.cloud.bigquery.table.RowIterator object at 0x7f1e6d4063e0>\n",
            "   Errors:  None\n",
            "- Finish writing to Partition  20240114\n",
            "- Check: insert 157 rows.\n",
            "- Execution:  2024-01-15  Partition:  20240115\n",
            "    Table dws_campaign_cost_prd_d_inc already exists.\n",
            "   Result: <google.cloud.bigquery.table.RowIterator object at 0x7f1e6d4049d0>\n",
            "   Errors:  None\n",
            "- Finish writing to Partition  20240115\n",
            "- Check: insert 178 rows.\n",
            "- Execution:  2024-01-16  Partition:  20240116\n",
            "    Table dws_campaign_cost_prd_d_inc already exists.\n",
            "   Result: <google.cloud.bigquery.table.RowIterator object at 0x7f1e6d4046d0>\n",
            "   Errors:  None\n",
            "- Finish writing to Partition  20240116\n",
            "- Check: insert 175 rows.\n",
            "- Execution:  2024-01-17  Partition:  20240117\n",
            "    Table dws_campaign_cost_prd_d_inc already exists.\n",
            "   Result: <google.cloud.bigquery.table.RowIterator object at 0x7f1e6f351f90>\n",
            "   Errors:  None\n",
            "- Finish writing to Partition  20240117\n",
            "- Check: insert 165 rows.\n",
            "- Execution:  2024-01-18  Partition:  20240118\n",
            "    Table dws_campaign_cost_prd_d_inc already exists.\n",
            "   Result: <google.cloud.bigquery.table.RowIterator object at 0x7f1e6d4068f0>\n",
            "   Errors:  None\n",
            "- Finish writing to Partition  20240118\n",
            "- Check: insert 183 rows.\n",
            "- Execution:  2024-01-19  Partition:  20240119\n",
            "    Table dws_campaign_cost_prd_d_inc already exists.\n",
            "   Result: <google.cloud.bigquery.table.RowIterator object at 0x7f1e6f352c50>\n",
            "   Errors:  None\n",
            "- Finish writing to Partition  20240119\n",
            "- Check: insert 177 rows.\n",
            "- Execution:  2024-01-20  Partition:  20240120\n",
            "    Table dws_campaign_cost_prd_d_inc already exists.\n",
            "   Result: <google.cloud.bigquery.table.RowIterator object at 0x7f1e6d404f40>\n",
            "   Errors:  None\n",
            "- Finish writing to Partition  20240120\n",
            "- Check: insert 190 rows.\n",
            "- Execution:  2024-01-21  Partition:  20240121\n",
            "    Table dws_campaign_cost_prd_d_inc already exists.\n",
            "   Result: <google.cloud.bigquery.table.RowIterator object at 0x7f1e6d4076d0>\n",
            "   Errors:  None\n",
            "- Finish writing to Partition  20240121\n",
            "- Check: insert 0 rows.\n",
            "- Execution:  2024-01-22  Partition:  20240122\n",
            "    Table dws_campaign_cost_prd_d_inc already exists.\n"
          ]
        },
        {
          "output_type": "stream",
          "name": "stderr",
          "text": [
            "<ipython-input-11-551945fa7199>:33: FutureWarning: The behavior of DataFrame concatenation with empty or all-NA entries is deprecated. In a future version, this will no longer exclude empty or all-NA columns when determining the result dtypes. To retain the old behavior, exclude the relevant entries before the concat operation.\n",
            "  total_row_cnt_df = pd.concat([total_row_cnt_df, row_cnt_df], axis=0, join='outer', ignore_index=True)\n"
          ]
        },
        {
          "output_type": "stream",
          "name": "stdout",
          "text": [
            "   Result: <google.cloud.bigquery.table.RowIterator object at 0x7f1e6f1bd4b0>\n",
            "   Errors:  None\n",
            "- Finish writing to Partition  20240122\n",
            "- Check: insert 0 rows.\n",
            "- Execution:  2024-01-23  Partition:  20240123\n",
            "    Table dws_campaign_cost_prd_d_inc already exists.\n"
          ]
        },
        {
          "output_type": "stream",
          "name": "stderr",
          "text": [
            "<ipython-input-11-551945fa7199>:33: FutureWarning: The behavior of DataFrame concatenation with empty or all-NA entries is deprecated. In a future version, this will no longer exclude empty or all-NA columns when determining the result dtypes. To retain the old behavior, exclude the relevant entries before the concat operation.\n",
            "  total_row_cnt_df = pd.concat([total_row_cnt_df, row_cnt_df], axis=0, join='outer', ignore_index=True)\n"
          ]
        },
        {
          "output_type": "stream",
          "name": "stdout",
          "text": [
            "   Result: <google.cloud.bigquery.table.RowIterator object at 0x7f1e6f1bcd60>\n",
            "   Errors:  None\n",
            "- Finish writing to Partition  20240123\n",
            "- Check: insert 0 rows.\n",
            "- Execution:  2024-01-24  Partition:  20240124\n",
            "    Table dws_campaign_cost_prd_d_inc already exists.\n"
          ]
        },
        {
          "output_type": "stream",
          "name": "stderr",
          "text": [
            "<ipython-input-11-551945fa7199>:33: FutureWarning: The behavior of DataFrame concatenation with empty or all-NA entries is deprecated. In a future version, this will no longer exclude empty or all-NA columns when determining the result dtypes. To retain the old behavior, exclude the relevant entries before the concat operation.\n",
            "  total_row_cnt_df = pd.concat([total_row_cnt_df, row_cnt_df], axis=0, join='outer', ignore_index=True)\n"
          ]
        },
        {
          "output_type": "stream",
          "name": "stdout",
          "text": [
            "   Result: <google.cloud.bigquery.table.RowIterator object at 0x7f1e6d407a30>\n",
            "   Errors:  None\n",
            "- Finish writing to Partition  20240124\n",
            "- Check: insert 0 rows.\n",
            "- Execution:  2024-01-25  Partition:  20240125\n",
            "    Table dws_campaign_cost_prd_d_inc already exists.\n"
          ]
        },
        {
          "output_type": "stream",
          "name": "stderr",
          "text": [
            "<ipython-input-11-551945fa7199>:33: FutureWarning: The behavior of DataFrame concatenation with empty or all-NA entries is deprecated. In a future version, this will no longer exclude empty or all-NA columns when determining the result dtypes. To retain the old behavior, exclude the relevant entries before the concat operation.\n",
            "  total_row_cnt_df = pd.concat([total_row_cnt_df, row_cnt_df], axis=0, join='outer', ignore_index=True)\n"
          ]
        },
        {
          "output_type": "stream",
          "name": "stdout",
          "text": [
            "   Result: <google.cloud.bigquery.table.RowIterator object at 0x7f1e6f1bc2b0>\n",
            "   Errors:  None\n",
            "- Finish writing to Partition  20240125\n",
            "- Check: insert 0 rows.\n",
            "- Execution:  2024-01-26  Partition:  20240126\n",
            "    Table dws_campaign_cost_prd_d_inc already exists.\n"
          ]
        },
        {
          "output_type": "stream",
          "name": "stderr",
          "text": [
            "<ipython-input-11-551945fa7199>:33: FutureWarning: The behavior of DataFrame concatenation with empty or all-NA entries is deprecated. In a future version, this will no longer exclude empty or all-NA columns when determining the result dtypes. To retain the old behavior, exclude the relevant entries before the concat operation.\n",
            "  total_row_cnt_df = pd.concat([total_row_cnt_df, row_cnt_df], axis=0, join='outer', ignore_index=True)\n"
          ]
        },
        {
          "output_type": "stream",
          "name": "stdout",
          "text": [
            "   Result: <google.cloud.bigquery.table.RowIterator object at 0x7f1e6f351f90>\n",
            "   Errors:  None\n",
            "- Finish writing to Partition  20240126\n",
            "- Check: insert 0 rows.\n",
            "- Execution:  2024-01-27  Partition:  20240127\n",
            "    Table dws_campaign_cost_prd_d_inc already exists.\n"
          ]
        },
        {
          "output_type": "stream",
          "name": "stderr",
          "text": [
            "<ipython-input-11-551945fa7199>:33: FutureWarning: The behavior of DataFrame concatenation with empty or all-NA entries is deprecated. In a future version, this will no longer exclude empty or all-NA columns when determining the result dtypes. To retain the old behavior, exclude the relevant entries before the concat operation.\n",
            "  total_row_cnt_df = pd.concat([total_row_cnt_df, row_cnt_df], axis=0, join='outer', ignore_index=True)\n"
          ]
        },
        {
          "output_type": "stream",
          "name": "stdout",
          "text": [
            "   Result: <google.cloud.bigquery.table.RowIterator object at 0x7f1e6d406830>\n",
            "   Errors:  None\n",
            "- Finish writing to Partition  20240127\n",
            "- Check: insert 0 rows.\n",
            "- Execution:  2024-01-28  Partition:  20240128\n",
            "    Table dws_campaign_cost_prd_d_inc already exists.\n"
          ]
        },
        {
          "output_type": "stream",
          "name": "stderr",
          "text": [
            "<ipython-input-11-551945fa7199>:33: FutureWarning: The behavior of DataFrame concatenation with empty or all-NA entries is deprecated. In a future version, this will no longer exclude empty or all-NA columns when determining the result dtypes. To retain the old behavior, exclude the relevant entries before the concat operation.\n",
            "  total_row_cnt_df = pd.concat([total_row_cnt_df, row_cnt_df], axis=0, join='outer', ignore_index=True)\n"
          ]
        },
        {
          "output_type": "stream",
          "name": "stdout",
          "text": [
            "   Result: <google.cloud.bigquery.table.RowIterator object at 0x7f1e6f352f20>\n",
            "   Errors:  None\n",
            "- Finish writing to Partition  20240128\n",
            "- Check: insert 0 rows.\n",
            "- Execution:  2024-01-29  Partition:  20240129\n",
            "    Table dws_campaign_cost_prd_d_inc already exists.\n"
          ]
        },
        {
          "output_type": "stream",
          "name": "stderr",
          "text": [
            "<ipython-input-11-551945fa7199>:33: FutureWarning: The behavior of DataFrame concatenation with empty or all-NA entries is deprecated. In a future version, this will no longer exclude empty or all-NA columns when determining the result dtypes. To retain the old behavior, exclude the relevant entries before the concat operation.\n",
            "  total_row_cnt_df = pd.concat([total_row_cnt_df, row_cnt_df], axis=0, join='outer', ignore_index=True)\n"
          ]
        },
        {
          "output_type": "stream",
          "name": "stdout",
          "text": [
            "   Result: <google.cloud.bigquery.table.RowIterator object at 0x7f1e6f1bd4b0>\n",
            "   Errors:  None\n",
            "- Finish writing to Partition  20240129\n",
            "- Check: insert 0 rows.\n",
            "- Execution:  2024-01-30  Partition:  20240130\n",
            "    Table dws_campaign_cost_prd_d_inc already exists.\n"
          ]
        },
        {
          "output_type": "stream",
          "name": "stderr",
          "text": [
            "<ipython-input-11-551945fa7199>:33: FutureWarning: The behavior of DataFrame concatenation with empty or all-NA entries is deprecated. In a future version, this will no longer exclude empty or all-NA columns when determining the result dtypes. To retain the old behavior, exclude the relevant entries before the concat operation.\n",
            "  total_row_cnt_df = pd.concat([total_row_cnt_df, row_cnt_df], axis=0, join='outer', ignore_index=True)\n"
          ]
        },
        {
          "output_type": "stream",
          "name": "stdout",
          "text": [
            "   Result: <google.cloud.bigquery.table.RowIterator object at 0x7f1e6f1bcc70>\n",
            "   Errors:  None\n",
            "- Finish writing to Partition  20240130\n",
            "- Check: insert 0 rows.\n",
            "- Execution:  2024-01-31  Partition:  20240131\n",
            "    Table dws_campaign_cost_prd_d_inc already exists.\n"
          ]
        },
        {
          "output_type": "stream",
          "name": "stderr",
          "text": [
            "<ipython-input-11-551945fa7199>:33: FutureWarning: The behavior of DataFrame concatenation with empty or all-NA entries is deprecated. In a future version, this will no longer exclude empty or all-NA columns when determining the result dtypes. To retain the old behavior, exclude the relevant entries before the concat operation.\n",
            "  total_row_cnt_df = pd.concat([total_row_cnt_df, row_cnt_df], axis=0, join='outer', ignore_index=True)\n"
          ]
        },
        {
          "output_type": "stream",
          "name": "stdout",
          "text": [
            "   Result: <google.cloud.bigquery.table.RowIterator object at 0x7f1e6f352c50>\n",
            "   Errors:  None\n",
            "- Finish writing to Partition  20240131\n",
            "- Check: insert 0 rows.\n",
            "- Execution:  2024-02-01  Partition:  20240201\n",
            "    Table dws_campaign_cost_prd_d_inc already exists.\n"
          ]
        },
        {
          "output_type": "stream",
          "name": "stderr",
          "text": [
            "<ipython-input-11-551945fa7199>:33: FutureWarning: The behavior of DataFrame concatenation with empty or all-NA entries is deprecated. In a future version, this will no longer exclude empty or all-NA columns when determining the result dtypes. To retain the old behavior, exclude the relevant entries before the concat operation.\n",
            "  total_row_cnt_df = pd.concat([total_row_cnt_df, row_cnt_df], axis=0, join='outer', ignore_index=True)\n"
          ]
        },
        {
          "output_type": "stream",
          "name": "stdout",
          "text": [
            "   Result: <google.cloud.bigquery.table.RowIterator object at 0x7f1e6d4075b0>\n",
            "   Errors:  None\n",
            "- Finish writing to Partition  20240201\n",
            "- Check: insert 0 rows.\n",
            "- Execution:  2024-02-02  Partition:  20240202\n",
            "    Table dws_campaign_cost_prd_d_inc already exists.\n"
          ]
        },
        {
          "output_type": "stream",
          "name": "stderr",
          "text": [
            "<ipython-input-11-551945fa7199>:33: FutureWarning: The behavior of DataFrame concatenation with empty or all-NA entries is deprecated. In a future version, this will no longer exclude empty or all-NA columns when determining the result dtypes. To retain the old behavior, exclude the relevant entries before the concat operation.\n",
            "  total_row_cnt_df = pd.concat([total_row_cnt_df, row_cnt_df], axis=0, join='outer', ignore_index=True)\n"
          ]
        },
        {
          "output_type": "stream",
          "name": "stdout",
          "text": [
            "   Result: <google.cloud.bigquery.table.RowIterator object at 0x7f1e6e84d630>\n",
            "   Errors:  None\n",
            "- Finish writing to Partition  20240202\n",
            "- Check: insert 0 rows.\n",
            "- Execution:  2024-02-03  Partition:  20240203\n",
            "    Table dws_campaign_cost_prd_d_inc already exists.\n"
          ]
        },
        {
          "output_type": "stream",
          "name": "stderr",
          "text": [
            "<ipython-input-11-551945fa7199>:33: FutureWarning: The behavior of DataFrame concatenation with empty or all-NA entries is deprecated. In a future version, this will no longer exclude empty or all-NA columns when determining the result dtypes. To retain the old behavior, exclude the relevant entries before the concat operation.\n",
            "  total_row_cnt_df = pd.concat([total_row_cnt_df, row_cnt_df], axis=0, join='outer', ignore_index=True)\n"
          ]
        },
        {
          "output_type": "stream",
          "name": "stdout",
          "text": [
            "   Result: <google.cloud.bigquery.table.RowIterator object at 0x7f1e6f1bf2b0>\n",
            "   Errors:  None\n",
            "- Finish writing to Partition  20240203\n",
            "- Check: insert 0 rows.\n",
            "- Execution:  2024-02-04  Partition:  20240204\n",
            "    Table dws_campaign_cost_prd_d_inc already exists.\n"
          ]
        },
        {
          "output_type": "stream",
          "name": "stderr",
          "text": [
            "<ipython-input-11-551945fa7199>:33: FutureWarning: The behavior of DataFrame concatenation with empty or all-NA entries is deprecated. In a future version, this will no longer exclude empty or all-NA columns when determining the result dtypes. To retain the old behavior, exclude the relevant entries before the concat operation.\n",
            "  total_row_cnt_df = pd.concat([total_row_cnt_df, row_cnt_df], axis=0, join='outer', ignore_index=True)\n"
          ]
        },
        {
          "output_type": "stream",
          "name": "stdout",
          "text": [
            "   Result: <google.cloud.bigquery.table.RowIterator object at 0x7f1e6e84e140>\n",
            "   Errors:  None\n",
            "- Finish writing to Partition  20240204\n",
            "- Check: insert 0 rows.\n",
            "- Execution:  2024-02-05  Partition:  20240205\n",
            "    Table dws_campaign_cost_prd_d_inc already exists.\n"
          ]
        },
        {
          "output_type": "stream",
          "name": "stderr",
          "text": [
            "<ipython-input-11-551945fa7199>:33: FutureWarning: The behavior of DataFrame concatenation with empty or all-NA entries is deprecated. In a future version, this will no longer exclude empty or all-NA columns when determining the result dtypes. To retain the old behavior, exclude the relevant entries before the concat operation.\n",
            "  total_row_cnt_df = pd.concat([total_row_cnt_df, row_cnt_df], axis=0, join='outer', ignore_index=True)\n"
          ]
        },
        {
          "output_type": "stream",
          "name": "stdout",
          "text": [
            "   Result: <google.cloud.bigquery.table.RowIterator object at 0x7f1e6e84d2d0>\n",
            "   Errors:  None\n",
            "- Finish writing to Partition  20240205\n",
            "- Check: insert 227 rows.\n",
            "- Execution:  2024-02-06  Partition:  20240206\n",
            "    Table dws_campaign_cost_prd_d_inc already exists.\n",
            "   Result: <google.cloud.bigquery.table.RowIterator object at 0x7f1e6f1bc790>\n",
            "   Errors:  None\n",
            "- Finish writing to Partition  20240206\n",
            "- Check: insert 245 rows.\n",
            "- Execution:  2024-02-07  Partition:  20240207\n",
            "    Table dws_campaign_cost_prd_d_inc already exists.\n",
            "   Result: <google.cloud.bigquery.table.RowIterator object at 0x7f1e6e84c4f0>\n",
            "   Errors:  None\n",
            "- Finish writing to Partition  20240207\n",
            "- Check: insert 289 rows.\n",
            "- Execution:  2024-02-08  Partition:  20240208\n",
            "    Table dws_campaign_cost_prd_d_inc already exists.\n",
            "   Result: <google.cloud.bigquery.table.RowIterator object at 0x7f1e6e84e1d0>\n",
            "   Errors:  None\n",
            "- Finish writing to Partition  20240208\n",
            "- Check: insert 233 rows.\n",
            "- Execution:  2024-02-09  Partition:  20240209\n",
            "    Table dws_campaign_cost_prd_d_inc already exists.\n",
            "   Result: <google.cloud.bigquery.table.RowIterator object at 0x7f1e6e84e710>\n",
            "   Errors:  None\n",
            "- Finish writing to Partition  20240209\n",
            "- Check: insert 251 rows.\n",
            "- Execution:  2024-02-10  Partition:  20240210\n",
            "    Table dws_campaign_cost_prd_d_inc already exists.\n",
            "   Result: <google.cloud.bigquery.table.RowIterator object at 0x7f1e6e84e740>\n",
            "   Errors:  None\n",
            "- Finish writing to Partition  20240210\n",
            "- Check: insert 189 rows.\n",
            "- Execution:  2024-02-11  Partition:  20240211\n",
            "    Table dws_campaign_cost_prd_d_inc already exists.\n",
            "   Result: <google.cloud.bigquery.table.RowIterator object at 0x7f1e6e84e0e0>\n",
            "   Errors:  None\n",
            "- Finish writing to Partition  20240211\n",
            "- Check: insert 234 rows.\n",
            "- Execution:  2024-02-12  Partition:  20240212\n",
            "    Table dws_campaign_cost_prd_d_inc already exists.\n",
            "   Result: <google.cloud.bigquery.table.RowIterator object at 0x7f1e6e84dfc0>\n",
            "   Errors:  None\n",
            "- Finish writing to Partition  20240212\n",
            "- Check: insert 239 rows.\n",
            "- Execution:  2024-02-13  Partition:  20240213\n",
            "    Table dws_campaign_cost_prd_d_inc already exists.\n",
            "   Result: <google.cloud.bigquery.table.RowIterator object at 0x7f1e6e84e3b0>\n",
            "   Errors:  None\n",
            "- Finish writing to Partition  20240213\n",
            "- Check: insert 225 rows.\n",
            "- Execution:  2024-02-14  Partition:  20240214\n",
            "    Table dws_campaign_cost_prd_d_inc already exists.\n",
            "   Result: <google.cloud.bigquery.table.RowIterator object at 0x7f1e6e84ffa0>\n",
            "   Errors:  None\n",
            "- Finish writing to Partition  20240214\n",
            "- Check: insert 272 rows.\n",
            "- Execution:  2024-02-15  Partition:  20240215\n",
            "    Table dws_campaign_cost_prd_d_inc already exists.\n",
            "   Result: <google.cloud.bigquery.table.RowIterator object at 0x7f1e6e84e1a0>\n",
            "   Errors:  None\n",
            "- Finish writing to Partition  20240215\n",
            "- Check: insert 241 rows.\n",
            "- Execution:  2024-02-16  Partition:  20240216\n",
            "    Table dws_campaign_cost_prd_d_inc already exists.\n",
            "   Result: <google.cloud.bigquery.table.RowIterator object at 0x7f1e6e84c940>\n",
            "   Errors:  None\n",
            "- Finish writing to Partition  20240216\n",
            "- Check: insert 227 rows.\n",
            "- Execution:  2024-02-17  Partition:  20240217\n",
            "    Table dws_campaign_cost_prd_d_inc already exists.\n",
            "   Result: <google.cloud.bigquery.table.RowIterator object at 0x7f1e6e84c550>\n",
            "   Errors:  None\n",
            "- Finish writing to Partition  20240217\n",
            "- Check: insert 247 rows.\n",
            "- Execution:  2024-02-18  Partition:  20240218\n",
            "    Table dws_campaign_cost_prd_d_inc already exists.\n",
            "   Result: <google.cloud.bigquery.table.RowIterator object at 0x7f1e6e84e830>\n",
            "   Errors:  None\n",
            "- Finish writing to Partition  20240218\n",
            "- Check: insert 250 rows.\n",
            "- Execution:  2024-02-19  Partition:  20240219\n",
            "    Table dws_campaign_cost_prd_d_inc already exists.\n",
            "   Result: <google.cloud.bigquery.table.RowIterator object at 0x7f1e6f352a70>\n",
            "   Errors:  None\n",
            "- Finish writing to Partition  20240219\n",
            "- Check: insert 248 rows.\n",
            "- Execution:  2024-02-20  Partition:  20240220\n",
            "    Table dws_campaign_cost_prd_d_inc already exists.\n",
            "   Result: <google.cloud.bigquery.table.RowIterator object at 0x7f1e6e84d300>\n",
            "   Errors:  None\n",
            "- Finish writing to Partition  20240220\n",
            "- Check: insert 0 rows.\n",
            "- Execution:  2024-02-21  Partition:  20240221\n",
            "    Table dws_campaign_cost_prd_d_inc already exists.\n"
          ]
        },
        {
          "output_type": "stream",
          "name": "stderr",
          "text": [
            "<ipython-input-11-551945fa7199>:33: FutureWarning: The behavior of DataFrame concatenation with empty or all-NA entries is deprecated. In a future version, this will no longer exclude empty or all-NA columns when determining the result dtypes. To retain the old behavior, exclude the relevant entries before the concat operation.\n",
            "  total_row_cnt_df = pd.concat([total_row_cnt_df, row_cnt_df], axis=0, join='outer', ignore_index=True)\n"
          ]
        },
        {
          "output_type": "stream",
          "name": "stdout",
          "text": [
            "   Result: <google.cloud.bigquery.table.RowIterator object at 0x7f1e6f351db0>\n",
            "   Errors:  None\n",
            "- Finish writing to Partition  20240221\n",
            "- Check: insert 0 rows.\n",
            "- Execution:  2024-02-22  Partition:  20240222\n",
            "    Table dws_campaign_cost_prd_d_inc already exists.\n"
          ]
        },
        {
          "output_type": "stream",
          "name": "stderr",
          "text": [
            "<ipython-input-11-551945fa7199>:33: FutureWarning: The behavior of DataFrame concatenation with empty or all-NA entries is deprecated. In a future version, this will no longer exclude empty or all-NA columns when determining the result dtypes. To retain the old behavior, exclude the relevant entries before the concat operation.\n",
            "  total_row_cnt_df = pd.concat([total_row_cnt_df, row_cnt_df], axis=0, join='outer', ignore_index=True)\n"
          ]
        },
        {
          "output_type": "stream",
          "name": "stdout",
          "text": [
            "   Result: <google.cloud.bigquery.table.RowIterator object at 0x7f1e6e84f5b0>\n",
            "   Errors:  None\n",
            "- Finish writing to Partition  20240222\n",
            "- Check: insert 0 rows.\n",
            "- Execution:  2024-02-23  Partition:  20240223\n",
            "    Table dws_campaign_cost_prd_d_inc already exists.\n"
          ]
        },
        {
          "output_type": "stream",
          "name": "stderr",
          "text": [
            "<ipython-input-11-551945fa7199>:33: FutureWarning: The behavior of DataFrame concatenation with empty or all-NA entries is deprecated. In a future version, this will no longer exclude empty or all-NA columns when determining the result dtypes. To retain the old behavior, exclude the relevant entries before the concat operation.\n",
            "  total_row_cnt_df = pd.concat([total_row_cnt_df, row_cnt_df], axis=0, join='outer', ignore_index=True)\n"
          ]
        },
        {
          "output_type": "stream",
          "name": "stdout",
          "text": [
            "   Result: <google.cloud.bigquery.table.RowIterator object at 0x7f1e6e84e290>\n",
            "   Errors:  None\n",
            "- Finish writing to Partition  20240223\n",
            "- Check: insert 0 rows.\n",
            "- Execution:  2024-02-24  Partition:  20240224\n",
            "    Table dws_campaign_cost_prd_d_inc already exists.\n"
          ]
        },
        {
          "output_type": "stream",
          "name": "stderr",
          "text": [
            "<ipython-input-11-551945fa7199>:33: FutureWarning: The behavior of DataFrame concatenation with empty or all-NA entries is deprecated. In a future version, this will no longer exclude empty or all-NA columns when determining the result dtypes. To retain the old behavior, exclude the relevant entries before the concat operation.\n",
            "  total_row_cnt_df = pd.concat([total_row_cnt_df, row_cnt_df], axis=0, join='outer', ignore_index=True)\n"
          ]
        },
        {
          "output_type": "stream",
          "name": "stdout",
          "text": [
            "   Result: <google.cloud.bigquery.table.RowIterator object at 0x7f1e6f3539d0>\n",
            "   Errors:  None\n",
            "- Finish writing to Partition  20240224\n",
            "- Check: insert 0 rows.\n",
            "- Execution:  2024-02-25  Partition:  20240225\n",
            "    Table dws_campaign_cost_prd_d_inc already exists.\n"
          ]
        },
        {
          "output_type": "stream",
          "name": "stderr",
          "text": [
            "<ipython-input-11-551945fa7199>:33: FutureWarning: The behavior of DataFrame concatenation with empty or all-NA entries is deprecated. In a future version, this will no longer exclude empty or all-NA columns when determining the result dtypes. To retain the old behavior, exclude the relevant entries before the concat operation.\n",
            "  total_row_cnt_df = pd.concat([total_row_cnt_df, row_cnt_df], axis=0, join='outer', ignore_index=True)\n"
          ]
        },
        {
          "output_type": "stream",
          "name": "stdout",
          "text": [
            "   Result: <google.cloud.bigquery.table.RowIterator object at 0x7f1ea2e52aa0>\n",
            "   Errors:  None\n",
            "- Finish writing to Partition  20240225\n",
            "- Check: insert 0 rows.\n",
            "- Execution:  2024-02-26  Partition:  20240226\n",
            "    Table dws_campaign_cost_prd_d_inc already exists.\n"
          ]
        },
        {
          "output_type": "stream",
          "name": "stderr",
          "text": [
            "<ipython-input-11-551945fa7199>:33: FutureWarning: The behavior of DataFrame concatenation with empty or all-NA entries is deprecated. In a future version, this will no longer exclude empty or all-NA columns when determining the result dtypes. To retain the old behavior, exclude the relevant entries before the concat operation.\n",
            "  total_row_cnt_df = pd.concat([total_row_cnt_df, row_cnt_df], axis=0, join='outer', ignore_index=True)\n"
          ]
        },
        {
          "output_type": "stream",
          "name": "stdout",
          "text": [
            "   Result: <google.cloud.bigquery.table.RowIterator object at 0x7f1e6f1d7a30>\n",
            "   Errors:  None\n",
            "- Finish writing to Partition  20240226\n",
            "- Check: insert 0 rows.\n",
            "- Execution:  2024-02-27  Partition:  20240227\n",
            "    Table dws_campaign_cost_prd_d_inc already exists.\n"
          ]
        },
        {
          "output_type": "stream",
          "name": "stderr",
          "text": [
            "<ipython-input-11-551945fa7199>:33: FutureWarning: The behavior of DataFrame concatenation with empty or all-NA entries is deprecated. In a future version, this will no longer exclude empty or all-NA columns when determining the result dtypes. To retain the old behavior, exclude the relevant entries before the concat operation.\n",
            "  total_row_cnt_df = pd.concat([total_row_cnt_df, row_cnt_df], axis=0, join='outer', ignore_index=True)\n"
          ]
        },
        {
          "output_type": "stream",
          "name": "stdout",
          "text": [
            "   Result: <google.cloud.bigquery.table.RowIterator object at 0x7f1e6f352c50>\n",
            "   Errors:  None\n",
            "- Finish writing to Partition  20240227\n",
            "- Check: insert 0 rows.\n",
            "- Execution:  2024-02-28  Partition:  20240228\n",
            "    Table dws_campaign_cost_prd_d_inc already exists.\n"
          ]
        },
        {
          "output_type": "stream",
          "name": "stderr",
          "text": [
            "<ipython-input-11-551945fa7199>:33: FutureWarning: The behavior of DataFrame concatenation with empty or all-NA entries is deprecated. In a future version, this will no longer exclude empty or all-NA columns when determining the result dtypes. To retain the old behavior, exclude the relevant entries before the concat operation.\n",
            "  total_row_cnt_df = pd.concat([total_row_cnt_df, row_cnt_df], axis=0, join='outer', ignore_index=True)\n"
          ]
        },
        {
          "output_type": "stream",
          "name": "stdout",
          "text": [
            "   Result: <google.cloud.bigquery.table.RowIterator object at 0x7f1e6e84ee60>\n",
            "   Errors:  None\n",
            "- Finish writing to Partition  20240228\n",
            "- Check: insert 0 rows.\n",
            "- Execution:  2024-02-29  Partition:  20240229\n",
            "    Table dws_campaign_cost_prd_d_inc already exists.\n"
          ]
        },
        {
          "output_type": "stream",
          "name": "stderr",
          "text": [
            "<ipython-input-11-551945fa7199>:33: FutureWarning: The behavior of DataFrame concatenation with empty or all-NA entries is deprecated. In a future version, this will no longer exclude empty or all-NA columns when determining the result dtypes. To retain the old behavior, exclude the relevant entries before the concat operation.\n",
            "  total_row_cnt_df = pd.concat([total_row_cnt_df, row_cnt_df], axis=0, join='outer', ignore_index=True)\n"
          ]
        },
        {
          "output_type": "stream",
          "name": "stdout",
          "text": [
            "   Result: <google.cloud.bigquery.table.RowIterator object at 0x7f1e6f353eb0>\n",
            "   Errors:  None\n",
            "- Finish writing to Partition  20240229\n",
            "- Check: insert 254 rows.\n",
            "- Execution:  2024-03-01  Partition:  20240301\n",
            "    Table dws_campaign_cost_prd_d_inc already exists.\n",
            "   Result: <google.cloud.bigquery.table.RowIterator object at 0x7f1e6d405ff0>\n",
            "   Errors:  None\n",
            "- Finish writing to Partition  20240301\n",
            "- Check: insert 284 rows.\n",
            "- Execution:  2024-03-02  Partition:  20240302\n",
            "    Table dws_campaign_cost_prd_d_inc already exists.\n",
            "   Result: <google.cloud.bigquery.table.RowIterator object at 0x7f1e6f3528f0>\n",
            "   Errors:  None\n",
            "- Finish writing to Partition  20240302\n",
            "- Check: insert 251 rows.\n",
            "- Execution:  2024-03-03  Partition:  20240303\n",
            "    Table dws_campaign_cost_prd_d_inc already exists.\n",
            "   Result: <google.cloud.bigquery.table.RowIterator object at 0x7f1e6e84de10>\n",
            "   Errors:  None\n",
            "- Finish writing to Partition  20240303\n",
            "- Check: insert 266 rows.\n",
            "- Execution:  2024-03-04  Partition:  20240304\n",
            "    Table dws_campaign_cost_prd_d_inc already exists.\n",
            "   Result: <google.cloud.bigquery.table.RowIterator object at 0x7f1e6e84edd0>\n",
            "   Errors:  None\n",
            "- Finish writing to Partition  20240304\n",
            "- Check: insert 238 rows.\n",
            "- Execution:  2024-03-05  Partition:  20240305\n",
            "    Table dws_campaign_cost_prd_d_inc already exists.\n",
            "   Result: <google.cloud.bigquery.table.RowIterator object at 0x7f1e6e84e740>\n",
            "   Errors:  None\n",
            "- Finish writing to Partition  20240305\n",
            "- Check: insert 245 rows.\n",
            "- Execution:  2024-03-06  Partition:  20240306\n",
            "    Table dws_campaign_cost_prd_d_inc already exists.\n",
            "   Result: <google.cloud.bigquery.table.RowIterator object at 0x7f1e6d406440>\n",
            "   Errors:  None\n",
            "- Finish writing to Partition  20240306\n",
            "- Check: insert 231 rows.\n",
            "- Execution:  2024-03-07  Partition:  20240307\n",
            "    Table dws_campaign_cost_prd_d_inc already exists.\n",
            "   Result: <google.cloud.bigquery.table.RowIterator object at 0x7f1e6f1bfb50>\n",
            "   Errors:  None\n",
            "- Finish writing to Partition  20240307\n",
            "- Check: insert 291 rows.\n",
            "- Execution:  2024-03-08  Partition:  20240308\n",
            "    Table dws_campaign_cost_prd_d_inc already exists.\n",
            "   Result: <google.cloud.bigquery.table.RowIterator object at 0x7f1e6d404c10>\n",
            "   Errors:  None\n",
            "- Finish writing to Partition  20240308\n",
            "- Check: insert 0 rows.\n",
            "- Execution:  2024-03-09  Partition:  20240309\n",
            "    Table dws_campaign_cost_prd_d_inc already exists.\n"
          ]
        },
        {
          "output_type": "stream",
          "name": "stderr",
          "text": [
            "<ipython-input-11-551945fa7199>:33: FutureWarning: The behavior of DataFrame concatenation with empty or all-NA entries is deprecated. In a future version, this will no longer exclude empty or all-NA columns when determining the result dtypes. To retain the old behavior, exclude the relevant entries before the concat operation.\n",
            "  total_row_cnt_df = pd.concat([total_row_cnt_df, row_cnt_df], axis=0, join='outer', ignore_index=True)\n"
          ]
        },
        {
          "output_type": "stream",
          "name": "stdout",
          "text": [
            "   Result: <google.cloud.bigquery.table.RowIterator object at 0x7f1e6f1bc3a0>\n",
            "   Errors:  None\n",
            "- Finish writing to Partition  20240309\n",
            "- Check: insert 0 rows.\n",
            "- Execution:  2024-03-10  Partition:  20240310\n",
            "    Table dws_campaign_cost_prd_d_inc already exists.\n"
          ]
        },
        {
          "output_type": "stream",
          "name": "stderr",
          "text": [
            "<ipython-input-11-551945fa7199>:33: FutureWarning: The behavior of DataFrame concatenation with empty or all-NA entries is deprecated. In a future version, this will no longer exclude empty or all-NA columns when determining the result dtypes. To retain the old behavior, exclude the relevant entries before the concat operation.\n",
            "  total_row_cnt_df = pd.concat([total_row_cnt_df, row_cnt_df], axis=0, join='outer', ignore_index=True)\n"
          ]
        },
        {
          "output_type": "stream",
          "name": "stdout",
          "text": [
            "   Result: <google.cloud.bigquery.table.RowIterator object at 0x7f1e6d4068c0>\n",
            "   Errors:  None\n",
            "- Finish writing to Partition  20240310\n",
            "- Check: insert 0 rows.\n",
            "- Execution:  2024-03-11  Partition:  20240311\n",
            "    Table dws_campaign_cost_prd_d_inc already exists.\n"
          ]
        },
        {
          "output_type": "stream",
          "name": "stderr",
          "text": [
            "<ipython-input-11-551945fa7199>:33: FutureWarning: The behavior of DataFrame concatenation with empty or all-NA entries is deprecated. In a future version, this will no longer exclude empty or all-NA columns when determining the result dtypes. To retain the old behavior, exclude the relevant entries before the concat operation.\n",
            "  total_row_cnt_df = pd.concat([total_row_cnt_df, row_cnt_df], axis=0, join='outer', ignore_index=True)\n"
          ]
        },
        {
          "output_type": "stream",
          "name": "stdout",
          "text": [
            "   Result: <google.cloud.bigquery.table.RowIterator object at 0x7f1e6e84de10>\n",
            "   Errors:  None\n",
            "- Finish writing to Partition  20240311\n",
            "- Check: insert 0 rows.\n",
            "- Execution:  2024-03-12  Partition:  20240312\n",
            "    Table dws_campaign_cost_prd_d_inc already exists.\n"
          ]
        },
        {
          "output_type": "stream",
          "name": "stderr",
          "text": [
            "<ipython-input-11-551945fa7199>:33: FutureWarning: The behavior of DataFrame concatenation with empty or all-NA entries is deprecated. In a future version, this will no longer exclude empty or all-NA columns when determining the result dtypes. To retain the old behavior, exclude the relevant entries before the concat operation.\n",
            "  total_row_cnt_df = pd.concat([total_row_cnt_df, row_cnt_df], axis=0, join='outer', ignore_index=True)\n"
          ]
        },
        {
          "output_type": "stream",
          "name": "stdout",
          "text": [
            "   Result: <google.cloud.bigquery.table.RowIterator object at 0x7f1e6d407a60>\n",
            "   Errors:  None\n",
            "- Finish writing to Partition  20240312\n",
            "- Check: insert 0 rows.\n",
            "- Execution:  2024-03-13  Partition:  20240313\n",
            "    Table dws_campaign_cost_prd_d_inc already exists.\n"
          ]
        },
        {
          "output_type": "stream",
          "name": "stderr",
          "text": [
            "<ipython-input-11-551945fa7199>:33: FutureWarning: The behavior of DataFrame concatenation with empty or all-NA entries is deprecated. In a future version, this will no longer exclude empty or all-NA columns when determining the result dtypes. To retain the old behavior, exclude the relevant entries before the concat operation.\n",
            "  total_row_cnt_df = pd.concat([total_row_cnt_df, row_cnt_df], axis=0, join='outer', ignore_index=True)\n"
          ]
        },
        {
          "output_type": "stream",
          "name": "stdout",
          "text": [
            "   Result: <google.cloud.bigquery.table.RowIterator object at 0x7f1e6f1bcf40>\n",
            "   Errors:  None\n",
            "- Finish writing to Partition  20240313\n",
            "- Check: insert 0 rows.\n",
            "- Execution:  2024-03-14  Partition:  20240314\n",
            "    Table dws_campaign_cost_prd_d_inc already exists.\n"
          ]
        },
        {
          "output_type": "stream",
          "name": "stderr",
          "text": [
            "<ipython-input-11-551945fa7199>:33: FutureWarning: The behavior of DataFrame concatenation with empty or all-NA entries is deprecated. In a future version, this will no longer exclude empty or all-NA columns when determining the result dtypes. To retain the old behavior, exclude the relevant entries before the concat operation.\n",
            "  total_row_cnt_df = pd.concat([total_row_cnt_df, row_cnt_df], axis=0, join='outer', ignore_index=True)\n"
          ]
        },
        {
          "output_type": "stream",
          "name": "stdout",
          "text": [
            "   Result: <google.cloud.bigquery.table.RowIterator object at 0x7f1e6e84ed10>\n",
            "   Errors:  None\n",
            "- Finish writing to Partition  20240314\n",
            "- Check: insert 0 rows.\n",
            "- Execution:  2024-03-15  Partition:  20240315\n",
            "    Table dws_campaign_cost_prd_d_inc already exists.\n"
          ]
        },
        {
          "output_type": "stream",
          "name": "stderr",
          "text": [
            "<ipython-input-11-551945fa7199>:33: FutureWarning: The behavior of DataFrame concatenation with empty or all-NA entries is deprecated. In a future version, this will no longer exclude empty or all-NA columns when determining the result dtypes. To retain the old behavior, exclude the relevant entries before the concat operation.\n",
            "  total_row_cnt_df = pd.concat([total_row_cnt_df, row_cnt_df], axis=0, join='outer', ignore_index=True)\n"
          ]
        },
        {
          "output_type": "stream",
          "name": "stdout",
          "text": [
            "   Result: <google.cloud.bigquery.table.RowIterator object at 0x7f1e6f1bc520>\n",
            "   Errors:  None\n",
            "- Finish writing to Partition  20240315\n",
            "- Check: insert 0 rows.\n",
            "- Execution:  2024-03-16  Partition:  20240316\n",
            "    Table dws_campaign_cost_prd_d_inc already exists.\n"
          ]
        },
        {
          "output_type": "stream",
          "name": "stderr",
          "text": [
            "<ipython-input-11-551945fa7199>:33: FutureWarning: The behavior of DataFrame concatenation with empty or all-NA entries is deprecated. In a future version, this will no longer exclude empty or all-NA columns when determining the result dtypes. To retain the old behavior, exclude the relevant entries before the concat operation.\n",
            "  total_row_cnt_df = pd.concat([total_row_cnt_df, row_cnt_df], axis=0, join='outer', ignore_index=True)\n"
          ]
        },
        {
          "output_type": "stream",
          "name": "stdout",
          "text": [
            "   Result: <google.cloud.bigquery.table.RowIterator object at 0x7f1e6f1bd570>\n",
            "   Errors:  None\n",
            "- Finish writing to Partition  20240316\n",
            "- Check: insert 0 rows.\n",
            "- Execution:  2024-03-17  Partition:  20240317\n",
            "    Table dws_campaign_cost_prd_d_inc already exists.\n"
          ]
        },
        {
          "output_type": "stream",
          "name": "stderr",
          "text": [
            "<ipython-input-11-551945fa7199>:33: FutureWarning: The behavior of DataFrame concatenation with empty or all-NA entries is deprecated. In a future version, this will no longer exclude empty or all-NA columns when determining the result dtypes. To retain the old behavior, exclude the relevant entries before the concat operation.\n",
            "  total_row_cnt_df = pd.concat([total_row_cnt_df, row_cnt_df], axis=0, join='outer', ignore_index=True)\n"
          ]
        },
        {
          "output_type": "stream",
          "name": "stdout",
          "text": [
            "   Result: <google.cloud.bigquery.table.RowIterator object at 0x7f1e6f1bfac0>\n",
            "   Errors:  None\n",
            "- Finish writing to Partition  20240317\n",
            "- Check: insert 0 rows.\n",
            "- Execution:  2024-03-18  Partition:  20240318\n",
            "    Table dws_campaign_cost_prd_d_inc already exists.\n"
          ]
        },
        {
          "output_type": "stream",
          "name": "stderr",
          "text": [
            "<ipython-input-11-551945fa7199>:33: FutureWarning: The behavior of DataFrame concatenation with empty or all-NA entries is deprecated. In a future version, this will no longer exclude empty or all-NA columns when determining the result dtypes. To retain the old behavior, exclude the relevant entries before the concat operation.\n",
            "  total_row_cnt_df = pd.concat([total_row_cnt_df, row_cnt_df], axis=0, join='outer', ignore_index=True)\n"
          ]
        },
        {
          "output_type": "stream",
          "name": "stdout",
          "text": [
            "   Result: <google.cloud.bigquery.table.RowIterator object at 0x7f1e6f1bd4b0>\n",
            "   Errors:  None\n",
            "- Finish writing to Partition  20240318\n",
            "- Check: insert 0 rows.\n",
            "- Execution:  2024-03-19  Partition:  20240319\n",
            "    Table dws_campaign_cost_prd_d_inc already exists.\n"
          ]
        },
        {
          "output_type": "stream",
          "name": "stderr",
          "text": [
            "<ipython-input-11-551945fa7199>:33: FutureWarning: The behavior of DataFrame concatenation with empty or all-NA entries is deprecated. In a future version, this will no longer exclude empty or all-NA columns when determining the result dtypes. To retain the old behavior, exclude the relevant entries before the concat operation.\n",
            "  total_row_cnt_df = pd.concat([total_row_cnt_df, row_cnt_df], axis=0, join='outer', ignore_index=True)\n"
          ]
        },
        {
          "output_type": "stream",
          "name": "stdout",
          "text": [
            "   Result: <google.cloud.bigquery.table.RowIterator object at 0x7f1e6f1bcca0>\n",
            "   Errors:  None\n",
            "- Finish writing to Partition  20240319\n",
            "- Check: insert 0 rows.\n",
            "- Execution:  2024-03-20  Partition:  20240320\n",
            "    Table dws_campaign_cost_prd_d_inc already exists.\n"
          ]
        },
        {
          "output_type": "stream",
          "name": "stderr",
          "text": [
            "<ipython-input-11-551945fa7199>:33: FutureWarning: The behavior of DataFrame concatenation with empty or all-NA entries is deprecated. In a future version, this will no longer exclude empty or all-NA columns when determining the result dtypes. To retain the old behavior, exclude the relevant entries before the concat operation.\n",
            "  total_row_cnt_df = pd.concat([total_row_cnt_df, row_cnt_df], axis=0, join='outer', ignore_index=True)\n"
          ]
        },
        {
          "output_type": "stream",
          "name": "stdout",
          "text": [
            "   Result: <google.cloud.bigquery.table.RowIterator object at 0x7f1e6d407a30>\n",
            "   Errors:  None\n",
            "- Finish writing to Partition  20240320\n",
            "- Check: insert 160 rows.\n",
            "- Execution:  2024-03-21  Partition:  20240321\n",
            "    Table dws_campaign_cost_prd_d_inc already exists.\n",
            "   Result: <google.cloud.bigquery.table.RowIterator object at 0x7f1e6f1bfc70>\n",
            "   Errors:  None\n",
            "- Finish writing to Partition  20240321\n",
            "- Check: insert 151 rows.\n",
            "- Execution:  2024-03-22  Partition:  20240322\n",
            "    Table dws_campaign_cost_prd_d_inc already exists.\n",
            "   Result: <google.cloud.bigquery.table.RowIterator object at 0x7f1e6d406aa0>\n",
            "   Errors:  None\n",
            "- Finish writing to Partition  20240322\n",
            "- Check: insert 170 rows.\n",
            "- Execution:  2024-03-23  Partition:  20240323\n",
            "    Table dws_campaign_cost_prd_d_inc already exists.\n",
            "   Result: <google.cloud.bigquery.table.RowIterator object at 0x7f1e6f1bf1f0>\n",
            "   Errors:  None\n",
            "- Finish writing to Partition  20240323\n",
            "- Check: insert 172 rows.\n",
            "- Execution:  2024-03-24  Partition:  20240324\n",
            "    Table dws_campaign_cost_prd_d_inc already exists.\n",
            "   Result: <google.cloud.bigquery.table.RowIterator object at 0x7f1e6f1bcca0>\n",
            "   Errors:  None\n",
            "- Finish writing to Partition  20240324\n",
            "- Check: insert 160 rows.\n",
            "- Execution:  2024-03-25  Partition:  20240325\n",
            "    Table dws_campaign_cost_prd_d_inc already exists.\n",
            "   Result: <google.cloud.bigquery.table.RowIterator object at 0x7f1e6d406320>\n",
            "   Errors:  None\n",
            "- Finish writing to Partition  20240325\n",
            "- Check: insert 152 rows.\n",
            "- Execution:  2024-03-26  Partition:  20240326\n",
            "    Table dws_campaign_cost_prd_d_inc already exists.\n",
            "   Result: <google.cloud.bigquery.table.RowIterator object at 0x7f1e6f352f20>\n",
            "   Errors:  None\n",
            "- Finish writing to Partition  20240326\n",
            "- Check: insert 175 rows.\n",
            "- Execution:  2024-03-27  Partition:  20240327\n",
            "    Table dws_campaign_cost_prd_d_inc already exists.\n",
            "   Result: <google.cloud.bigquery.table.RowIterator object at 0x7f1e6f352c50>\n",
            "   Errors:  None\n",
            "- Finish writing to Partition  20240327\n",
            "- Check: insert 160 rows.\n",
            "- Execution:  2024-03-28  Partition:  20240328\n",
            "    Table dws_campaign_cost_prd_d_inc already exists.\n",
            "   Result: <google.cloud.bigquery.table.RowIterator object at 0x7f1e6d407e80>\n",
            "   Errors:  None\n",
            "- Finish writing to Partition  20240328\n",
            "- Check: insert 162 rows.\n",
            "- Execution:  2024-03-29  Partition:  20240329\n",
            "    Table dws_campaign_cost_prd_d_inc already exists.\n",
            "   Result: <google.cloud.bigquery.table.RowIterator object at 0x7f1e6d4069e0>\n",
            "   Errors:  None\n",
            "- Finish writing to Partition  20240329\n",
            "- Check: insert 181 rows.\n",
            "- Execution:  2024-03-30  Partition:  20240330\n",
            "    Table dws_campaign_cost_prd_d_inc already exists.\n",
            "   Result: <google.cloud.bigquery.table.RowIterator object at 0x7f1e6d404760>\n",
            "   Errors:  None\n",
            "- Finish writing to Partition  20240330\n",
            "- Check: insert 173 rows.\n",
            "- Execution:  2024-03-31  Partition:  20240331\n",
            "    Table dws_campaign_cost_prd_d_inc already exists.\n",
            "   Result: <google.cloud.bigquery.table.RowIterator object at 0x7f1e6e84f040>\n",
            "   Errors:  None\n",
            "- Finish writing to Partition  20240331\n",
            "- Check: insert 151 rows.\n",
            "- Execution:  2024-04-01  Partition:  20240401\n",
            "    Table dws_campaign_cost_prd_d_inc already exists.\n",
            "   Result: <google.cloud.bigquery.table.RowIterator object at 0x7f1e6d406860>\n",
            "   Errors:  None\n",
            "- Finish writing to Partition  20240401\n",
            "- Check: insert 166 rows.\n",
            "- Execution:  2024-04-02  Partition:  20240402\n",
            "    Table dws_campaign_cost_prd_d_inc already exists.\n",
            "   Result: <google.cloud.bigquery.table.RowIterator object at 0x7f1e6d404820>\n",
            "   Errors:  None\n",
            "- Finish writing to Partition  20240402\n",
            "- Check: insert 161 rows.\n",
            "- Execution:  2024-04-03  Partition:  20240403\n",
            "    Table dws_campaign_cost_prd_d_inc already exists.\n",
            "   Result: <google.cloud.bigquery.table.RowIterator object at 0x7f1e6e84c340>\n",
            "   Errors:  None\n",
            "- Finish writing to Partition  20240403\n",
            "- Check: insert 177 rows.\n",
            "- Execution:  2024-04-04  Partition:  20240404\n",
            "    Table dws_campaign_cost_prd_d_inc already exists.\n",
            "   Result: <google.cloud.bigquery.table.RowIterator object at 0x7f1e6e84d420>\n",
            "   Errors:  None\n",
            "- Finish writing to Partition  20240404\n",
            "- Check: insert 168 rows.\n",
            "- Execution:  2024-04-05  Partition:  20240405\n",
            "    Table dws_campaign_cost_prd_d_inc already exists.\n",
            "   Result: <google.cloud.bigquery.table.RowIterator object at 0x7f1e6f352f20>\n",
            "   Errors:  None\n",
            "- Finish writing to Partition  20240405\n",
            "- Check: insert 170 rows.\n",
            "- Execution:  2024-04-06  Partition:  20240406\n",
            "    Table dws_campaign_cost_prd_d_inc already exists.\n",
            "   Result: <google.cloud.bigquery.table.RowIterator object at 0x7f1e6e84d750>\n",
            "   Errors:  None\n",
            "- Finish writing to Partition  20240406\n",
            "- Check: insert 161 rows.\n",
            "- Execution:  2024-04-07  Partition:  20240407\n",
            "    Table dws_campaign_cost_prd_d_inc already exists.\n",
            "   Result: <google.cloud.bigquery.table.RowIterator object at 0x7f1e6d404820>\n",
            "   Errors:  None\n",
            "- Finish writing to Partition  20240407\n",
            "- Check: insert 171 rows.\n",
            "- Execution:  2024-04-08  Partition:  20240408\n",
            "    Table dws_campaign_cost_prd_d_inc already exists.\n",
            "   Result: <google.cloud.bigquery.table.RowIterator object at 0x7f1e6e84c340>\n",
            "   Errors:  None\n",
            "- Finish writing to Partition  20240408\n",
            "- Check: insert 170 rows.\n",
            "- Execution:  2024-04-09  Partition:  20240409\n",
            "    Table dws_campaign_cost_prd_d_inc already exists.\n",
            "   Result: <google.cloud.bigquery.table.RowIterator object at 0x7f1e6d404820>\n",
            "   Errors:  None\n",
            "- Finish writing to Partition  20240409\n",
            "- Check: insert 150 rows.\n",
            "- Execution:  2024-04-10  Partition:  20240410\n",
            "    Table dws_campaign_cost_prd_d_inc already exists.\n",
            "   Result: <google.cloud.bigquery.table.RowIterator object at 0x7f1e6e84c550>\n",
            "   Errors:  None\n",
            "- Finish writing to Partition  20240410\n",
            "- Check: insert 161 rows.\n",
            "- Execution:  2024-04-11  Partition:  20240411\n",
            "    Table dws_campaign_cost_prd_d_inc already exists.\n",
            "   Result: <google.cloud.bigquery.table.RowIterator object at 0x7f1e6f3538e0>\n",
            "   Errors:  None\n",
            "- Finish writing to Partition  20240411\n",
            "- Check: insert 0 rows.\n",
            "- Execution:  2024-04-12  Partition:  20240412\n",
            "    Table dws_campaign_cost_prd_d_inc already exists.\n"
          ]
        },
        {
          "output_type": "stream",
          "name": "stderr",
          "text": [
            "<ipython-input-11-551945fa7199>:33: FutureWarning: The behavior of DataFrame concatenation with empty or all-NA entries is deprecated. In a future version, this will no longer exclude empty or all-NA columns when determining the result dtypes. To retain the old behavior, exclude the relevant entries before the concat operation.\n",
            "  total_row_cnt_df = pd.concat([total_row_cnt_df, row_cnt_df], axis=0, join='outer', ignore_index=True)\n"
          ]
        },
        {
          "output_type": "stream",
          "name": "stdout",
          "text": [
            "   Result: <google.cloud.bigquery.table.RowIterator object at 0x7f1e6e879630>\n",
            "   Errors:  None\n",
            "- Finish writing to Partition  20240412\n",
            "- Check: insert 0 rows.\n",
            "- Execution:  2024-04-13  Partition:  20240413\n",
            "    Table dws_campaign_cost_prd_d_inc already exists.\n"
          ]
        },
        {
          "output_type": "stream",
          "name": "stderr",
          "text": [
            "<ipython-input-11-551945fa7199>:33: FutureWarning: The behavior of DataFrame concatenation with empty or all-NA entries is deprecated. In a future version, this will no longer exclude empty or all-NA columns when determining the result dtypes. To retain the old behavior, exclude the relevant entries before the concat operation.\n",
            "  total_row_cnt_df = pd.concat([total_row_cnt_df, row_cnt_df], axis=0, join='outer', ignore_index=True)\n"
          ]
        },
        {
          "output_type": "stream",
          "name": "stdout",
          "text": [
            "   Result: <google.cloud.bigquery.table.RowIterator object at 0x7f1e6e84fe50>\n",
            "   Errors:  None\n",
            "- Finish writing to Partition  20240413\n",
            "- Check: insert 0 rows.\n",
            "- Execution:  2024-04-14  Partition:  20240414\n",
            "    Table dws_campaign_cost_prd_d_inc already exists.\n"
          ]
        },
        {
          "output_type": "stream",
          "name": "stderr",
          "text": [
            "<ipython-input-11-551945fa7199>:33: FutureWarning: The behavior of DataFrame concatenation with empty or all-NA entries is deprecated. In a future version, this will no longer exclude empty or all-NA columns when determining the result dtypes. To retain the old behavior, exclude the relevant entries before the concat operation.\n",
            "  total_row_cnt_df = pd.concat([total_row_cnt_df, row_cnt_df], axis=0, join='outer', ignore_index=True)\n"
          ]
        },
        {
          "output_type": "stream",
          "name": "stdout",
          "text": [
            "   Result: <google.cloud.bigquery.table.RowIterator object at 0x7f1e6e87a380>\n",
            "   Errors:  None\n",
            "- Finish writing to Partition  20240414\n",
            "- Check: insert 0 rows.\n",
            "- Execution:  2024-04-15  Partition:  20240415\n",
            "    Table dws_campaign_cost_prd_d_inc already exists.\n"
          ]
        },
        {
          "output_type": "stream",
          "name": "stderr",
          "text": [
            "<ipython-input-11-551945fa7199>:33: FutureWarning: The behavior of DataFrame concatenation with empty or all-NA entries is deprecated. In a future version, this will no longer exclude empty or all-NA columns when determining the result dtypes. To retain the old behavior, exclude the relevant entries before the concat operation.\n",
            "  total_row_cnt_df = pd.concat([total_row_cnt_df, row_cnt_df], axis=0, join='outer', ignore_index=True)\n"
          ]
        },
        {
          "output_type": "stream",
          "name": "stdout",
          "text": [
            "   Result: <google.cloud.bigquery.table.RowIterator object at 0x7f1e6e879c90>\n",
            "   Errors:  None\n",
            "- Finish writing to Partition  20240415\n",
            "- Check: insert 0 rows.\n",
            "- Execution:  2024-04-16  Partition:  20240416\n",
            "    Table dws_campaign_cost_prd_d_inc already exists.\n"
          ]
        },
        {
          "output_type": "stream",
          "name": "stderr",
          "text": [
            "<ipython-input-11-551945fa7199>:33: FutureWarning: The behavior of DataFrame concatenation with empty or all-NA entries is deprecated. In a future version, this will no longer exclude empty or all-NA columns when determining the result dtypes. To retain the old behavior, exclude the relevant entries before the concat operation.\n",
            "  total_row_cnt_df = pd.concat([total_row_cnt_df, row_cnt_df], axis=0, join='outer', ignore_index=True)\n"
          ]
        },
        {
          "output_type": "stream",
          "name": "stdout",
          "text": [
            "   Result: <google.cloud.bigquery.table.RowIterator object at 0x7f1e6e84e1d0>\n",
            "   Errors:  None\n",
            "- Finish writing to Partition  20240416\n",
            "- Check: insert 0 rows.\n",
            "- Execution:  2024-04-17  Partition:  20240417\n"
          ]
        },
        {
          "output_type": "stream",
          "name": "stderr",
          "text": [
            "<ipython-input-11-551945fa7199>:33: FutureWarning: The behavior of DataFrame concatenation with empty or all-NA entries is deprecated. In a future version, this will no longer exclude empty or all-NA columns when determining the result dtypes. To retain the old behavior, exclude the relevant entries before the concat operation.\n",
            "  total_row_cnt_df = pd.concat([total_row_cnt_df, row_cnt_df], axis=0, join='outer', ignore_index=True)\n"
          ]
        },
        {
          "output_type": "stream",
          "name": "stdout",
          "text": [
            "    Table dws_campaign_cost_prd_d_inc already exists.\n",
            "   Result: <google.cloud.bigquery.table.RowIterator object at 0x7f1e6e87b3a0>\n",
            "   Errors:  None\n",
            "- Finish writing to Partition  20240417\n",
            "- Check: insert 0 rows.\n",
            "- Execution:  2024-04-18  Partition:  20240418\n",
            "    Table dws_campaign_cost_prd_d_inc already exists.\n"
          ]
        },
        {
          "output_type": "stream",
          "name": "stderr",
          "text": [
            "<ipython-input-11-551945fa7199>:33: FutureWarning: The behavior of DataFrame concatenation with empty or all-NA entries is deprecated. In a future version, this will no longer exclude empty or all-NA columns when determining the result dtypes. To retain the old behavior, exclude the relevant entries before the concat operation.\n",
            "  total_row_cnt_df = pd.concat([total_row_cnt_df, row_cnt_df], axis=0, join='outer', ignore_index=True)\n"
          ]
        },
        {
          "output_type": "stream",
          "name": "stdout",
          "text": [
            "   Result: <google.cloud.bigquery.table.RowIterator object at 0x7f1e6e87b0a0>\n",
            "   Errors:  None\n",
            "- Finish writing to Partition  20240418\n",
            "- Check: insert 184 rows.\n",
            "- Execution:  2024-04-19  Partition:  20240419\n",
            "    Table dws_campaign_cost_prd_d_inc already exists.\n",
            "   Result: <google.cloud.bigquery.table.RowIterator object at 0x7f1e6e87ae30>\n",
            "   Errors:  None\n",
            "- Finish writing to Partition  20240419\n",
            "- Check: insert 161 rows.\n",
            "- Execution:  2024-04-20  Partition:  20240420\n",
            "    Table dws_campaign_cost_prd_d_inc already exists.\n",
            "   Result: <google.cloud.bigquery.table.RowIterator object at 0x7f1e6e87b8e0>\n",
            "   Errors:  None\n",
            "- Finish writing to Partition  20240420\n",
            "- Check: insert 185 rows.\n",
            "- Execution:  2024-04-21  Partition:  20240421\n",
            "    Table dws_campaign_cost_prd_d_inc already exists.\n",
            "   Result: <google.cloud.bigquery.table.RowIterator object at 0x7f1e6e8796c0>\n",
            "   Errors:  None\n",
            "- Finish writing to Partition  20240421\n",
            "- Check: insert 188 rows.\n",
            "- Execution:  2024-04-22  Partition:  20240422\n",
            "    Table dws_campaign_cost_prd_d_inc already exists.\n",
            "   Result: <google.cloud.bigquery.table.RowIterator object at 0x7f1e6f1d7a30>\n",
            "   Errors:  None\n",
            "- Finish writing to Partition  20240422\n",
            "- Check: insert 163 rows.\n",
            "- Execution:  2024-04-23  Partition:  20240423\n",
            "    Table dws_campaign_cost_prd_d_inc already exists.\n",
            "   Result: <google.cloud.bigquery.table.RowIterator object at 0x7f1e6e87b550>\n",
            "   Errors:  None\n",
            "- Finish writing to Partition  20240423\n",
            "- Check: insert 182 rows.\n",
            "- Execution:  2024-04-24  Partition:  20240424\n",
            "    Table dws_campaign_cost_prd_d_inc already exists.\n",
            "   Result: <google.cloud.bigquery.table.RowIterator object at 0x7f1e6e87b940>\n",
            "   Errors:  None\n",
            "- Finish writing to Partition  20240424\n",
            "- Check: insert 202 rows.\n",
            "- Execution:  2024-04-25  Partition:  20240425\n",
            "    Table dws_campaign_cost_prd_d_inc already exists.\n",
            "   Result: <google.cloud.bigquery.table.RowIterator object at 0x7f1e6e879990>\n",
            "   Errors:  None\n",
            "- Finish writing to Partition  20240425\n",
            "- Check: insert 179 rows.\n",
            "- Execution:  2024-04-26  Partition:  20240426\n",
            "    Table dws_campaign_cost_prd_d_inc already exists.\n",
            "   Result: <google.cloud.bigquery.table.RowIterator object at 0x7f1e6e84fa30>\n",
            "   Errors:  None\n",
            "- Finish writing to Partition  20240426\n",
            "- Check: insert 0 rows.\n",
            "- Execution:  2024-04-27  Partition:  20240427\n",
            "    Table dws_campaign_cost_prd_d_inc already exists.\n"
          ]
        },
        {
          "output_type": "stream",
          "name": "stderr",
          "text": [
            "<ipython-input-11-551945fa7199>:33: FutureWarning: The behavior of DataFrame concatenation with empty or all-NA entries is deprecated. In a future version, this will no longer exclude empty or all-NA columns when determining the result dtypes. To retain the old behavior, exclude the relevant entries before the concat operation.\n",
            "  total_row_cnt_df = pd.concat([total_row_cnt_df, row_cnt_df], axis=0, join='outer', ignore_index=True)\n"
          ]
        },
        {
          "output_type": "stream",
          "name": "stdout",
          "text": [
            "   Result: <google.cloud.bigquery.table.RowIterator object at 0x7f1e6e84df30>\n",
            "   Errors:  None\n",
            "- Finish writing to Partition  20240427\n",
            "- Check: insert 0 rows.\n",
            "- Execution:  2024-04-28  Partition:  20240428\n",
            "    Table dws_campaign_cost_prd_d_inc already exists.\n"
          ]
        },
        {
          "output_type": "stream",
          "name": "stderr",
          "text": [
            "<ipython-input-11-551945fa7199>:33: FutureWarning: The behavior of DataFrame concatenation with empty or all-NA entries is deprecated. In a future version, this will no longer exclude empty or all-NA columns when determining the result dtypes. To retain the old behavior, exclude the relevant entries before the concat operation.\n",
            "  total_row_cnt_df = pd.concat([total_row_cnt_df, row_cnt_df], axis=0, join='outer', ignore_index=True)\n"
          ]
        },
        {
          "output_type": "stream",
          "name": "stdout",
          "text": [
            "   Result: <google.cloud.bigquery.table.RowIterator object at 0x7f1e6e84d180>\n",
            "   Errors:  None\n",
            "- Finish writing to Partition  20240428\n",
            "- Check: insert 0 rows.\n",
            "- Execution:  2024-04-29  Partition:  20240429\n",
            "    Table dws_campaign_cost_prd_d_inc already exists.\n"
          ]
        },
        {
          "output_type": "stream",
          "name": "stderr",
          "text": [
            "<ipython-input-11-551945fa7199>:33: FutureWarning: The behavior of DataFrame concatenation with empty or all-NA entries is deprecated. In a future version, this will no longer exclude empty or all-NA columns when determining the result dtypes. To retain the old behavior, exclude the relevant entries before the concat operation.\n",
            "  total_row_cnt_df = pd.concat([total_row_cnt_df, row_cnt_df], axis=0, join='outer', ignore_index=True)\n"
          ]
        },
        {
          "output_type": "stream",
          "name": "stdout",
          "text": [
            "   Result: <google.cloud.bigquery.table.RowIterator object at 0x7f1e6e84d180>\n",
            "   Errors:  None\n",
            "- Finish writing to Partition  20240429\n",
            "- Check: insert 0 rows.\n",
            "- Execution:  2024-04-30  Partition:  20240430\n",
            "    Table dws_campaign_cost_prd_d_inc already exists.\n"
          ]
        },
        {
          "output_type": "stream",
          "name": "stderr",
          "text": [
            "<ipython-input-11-551945fa7199>:33: FutureWarning: The behavior of DataFrame concatenation with empty or all-NA entries is deprecated. In a future version, this will no longer exclude empty or all-NA columns when determining the result dtypes. To retain the old behavior, exclude the relevant entries before the concat operation.\n",
            "  total_row_cnt_df = pd.concat([total_row_cnt_df, row_cnt_df], axis=0, join='outer', ignore_index=True)\n"
          ]
        },
        {
          "output_type": "stream",
          "name": "stdout",
          "text": [
            "   Result: <google.cloud.bigquery.table.RowIterator object at 0x7f1e6e84f700>\n",
            "   Errors:  None\n",
            "- Finish writing to Partition  20240430\n",
            "- Check: insert 0 rows.\n",
            "- Execution:  2024-05-01  Partition:  20240501\n",
            "    Table dws_campaign_cost_prd_d_inc already exists.\n"
          ]
        },
        {
          "output_type": "stream",
          "name": "stderr",
          "text": [
            "<ipython-input-11-551945fa7199>:33: FutureWarning: The behavior of DataFrame concatenation with empty or all-NA entries is deprecated. In a future version, this will no longer exclude empty or all-NA columns when determining the result dtypes. To retain the old behavior, exclude the relevant entries before the concat operation.\n",
            "  total_row_cnt_df = pd.concat([total_row_cnt_df, row_cnt_df], axis=0, join='outer', ignore_index=True)\n"
          ]
        },
        {
          "output_type": "stream",
          "name": "stdout",
          "text": [
            "   Result: <google.cloud.bigquery.table.RowIterator object at 0x7f1e6e84d300>\n",
            "   Errors:  None\n",
            "- Finish writing to Partition  20240501\n",
            "- Check: insert 0 rows.\n",
            "- Execution:  2024-05-02  Partition:  20240502\n"
          ]
        },
        {
          "output_type": "stream",
          "name": "stderr",
          "text": [
            "<ipython-input-11-551945fa7199>:33: FutureWarning: The behavior of DataFrame concatenation with empty or all-NA entries is deprecated. In a future version, this will no longer exclude empty or all-NA columns when determining the result dtypes. To retain the old behavior, exclude the relevant entries before the concat operation.\n",
            "  total_row_cnt_df = pd.concat([total_row_cnt_df, row_cnt_df], axis=0, join='outer', ignore_index=True)\n"
          ]
        },
        {
          "output_type": "stream",
          "name": "stdout",
          "text": [
            "    Table dws_campaign_cost_prd_d_inc already exists.\n",
            "   Result: <google.cloud.bigquery.table.RowIterator object at 0x7f1e6e84d180>\n",
            "   Errors:  None\n",
            "- Finish writing to Partition  20240502\n",
            "- Check: insert 0 rows.\n",
            "- Execution:  2024-05-03  Partition:  20240503\n",
            "    Table dws_campaign_cost_prd_d_inc already exists.\n"
          ]
        },
        {
          "output_type": "stream",
          "name": "stderr",
          "text": [
            "<ipython-input-11-551945fa7199>:33: FutureWarning: The behavior of DataFrame concatenation with empty or all-NA entries is deprecated. In a future version, this will no longer exclude empty or all-NA columns when determining the result dtypes. To retain the old behavior, exclude the relevant entries before the concat operation.\n",
            "  total_row_cnt_df = pd.concat([total_row_cnt_df, row_cnt_df], axis=0, join='outer', ignore_index=True)\n"
          ]
        },
        {
          "output_type": "stream",
          "name": "stdout",
          "text": [
            "   Result: <google.cloud.bigquery.table.RowIterator object at 0x7f1e6e87a950>\n",
            "   Errors:  None\n",
            "- Finish writing to Partition  20240503\n",
            "- Check: insert 0 rows.\n",
            "- Execution:  2024-05-04  Partition:  20240504\n",
            "    Table dws_campaign_cost_prd_d_inc already exists.\n"
          ]
        },
        {
          "output_type": "stream",
          "name": "stderr",
          "text": [
            "<ipython-input-11-551945fa7199>:33: FutureWarning: The behavior of DataFrame concatenation with empty or all-NA entries is deprecated. In a future version, this will no longer exclude empty or all-NA columns when determining the result dtypes. To retain the old behavior, exclude the relevant entries before the concat operation.\n",
            "  total_row_cnt_df = pd.concat([total_row_cnt_df, row_cnt_df], axis=0, join='outer', ignore_index=True)\n"
          ]
        },
        {
          "output_type": "stream",
          "name": "stdout",
          "text": [
            "   Result: <google.cloud.bigquery.table.RowIterator object at 0x7f1ea3ac0040>\n",
            "   Errors:  None\n",
            "- Finish writing to Partition  20240504\n",
            "- Check: insert 0 rows.\n",
            "- Execution:  2024-05-05  Partition:  20240505\n",
            "    Table dws_campaign_cost_prd_d_inc already exists.\n"
          ]
        },
        {
          "output_type": "stream",
          "name": "stderr",
          "text": [
            "<ipython-input-11-551945fa7199>:33: FutureWarning: The behavior of DataFrame concatenation with empty or all-NA entries is deprecated. In a future version, this will no longer exclude empty or all-NA columns when determining the result dtypes. To retain the old behavior, exclude the relevant entries before the concat operation.\n",
            "  total_row_cnt_df = pd.concat([total_row_cnt_df, row_cnt_df], axis=0, join='outer', ignore_index=True)\n"
          ]
        },
        {
          "output_type": "stream",
          "name": "stdout",
          "text": [
            "   Result: <google.cloud.bigquery.table.RowIterator object at 0x7f1e6e84fb80>\n",
            "   Errors:  None\n",
            "- Finish writing to Partition  20240505\n",
            "- Check: insert 0 rows.\n",
            "- Execution:  2024-05-06  Partition:  20240506\n",
            "    Table dws_campaign_cost_prd_d_inc already exists.\n"
          ]
        },
        {
          "output_type": "stream",
          "name": "stderr",
          "text": [
            "<ipython-input-11-551945fa7199>:33: FutureWarning: The behavior of DataFrame concatenation with empty or all-NA entries is deprecated. In a future version, this will no longer exclude empty or all-NA columns when determining the result dtypes. To retain the old behavior, exclude the relevant entries before the concat operation.\n",
            "  total_row_cnt_df = pd.concat([total_row_cnt_df, row_cnt_df], axis=0, join='outer', ignore_index=True)\n"
          ]
        },
        {
          "output_type": "stream",
          "name": "stdout",
          "text": [
            "   Result: <google.cloud.bigquery.table.RowIterator object at 0x7f1e6d4064a0>\n",
            "   Errors:  None\n",
            "- Finish writing to Partition  20240506\n",
            "- Check: insert 0 rows.\n",
            "- Execution:  2024-05-07  Partition:  20240507\n",
            "    Table dws_campaign_cost_prd_d_inc already exists.\n"
          ]
        },
        {
          "output_type": "stream",
          "name": "stderr",
          "text": [
            "<ipython-input-11-551945fa7199>:33: FutureWarning: The behavior of DataFrame concatenation with empty or all-NA entries is deprecated. In a future version, this will no longer exclude empty or all-NA columns when determining the result dtypes. To retain the old behavior, exclude the relevant entries before the concat operation.\n",
            "  total_row_cnt_df = pd.concat([total_row_cnt_df, row_cnt_df], axis=0, join='outer', ignore_index=True)\n"
          ]
        },
        {
          "output_type": "stream",
          "name": "stdout",
          "text": [
            "   Result: <google.cloud.bigquery.table.RowIterator object at 0x7f1e6e84dc00>\n",
            "   Errors:  None\n",
            "- Finish writing to Partition  20240507\n",
            "- Check: insert 0 rows.\n",
            "- Execution:  2024-05-08  Partition:  20240508\n",
            "    Table dws_campaign_cost_prd_d_inc already exists.\n"
          ]
        },
        {
          "output_type": "stream",
          "name": "stderr",
          "text": [
            "<ipython-input-11-551945fa7199>:33: FutureWarning: The behavior of DataFrame concatenation with empty or all-NA entries is deprecated. In a future version, this will no longer exclude empty or all-NA columns when determining the result dtypes. To retain the old behavior, exclude the relevant entries before the concat operation.\n",
            "  total_row_cnt_df = pd.concat([total_row_cnt_df, row_cnt_df], axis=0, join='outer', ignore_index=True)\n"
          ]
        },
        {
          "output_type": "stream",
          "name": "stdout",
          "text": [
            "   Result: <google.cloud.bigquery.table.RowIterator object at 0x7f1e6d4074f0>\n",
            "   Errors:  None\n",
            "- Finish writing to Partition  20240508\n",
            "- Check: insert 0 rows.\n",
            "- Execution:  2024-05-09  Partition:  20240509\n",
            "    Table dws_campaign_cost_prd_d_inc already exists.\n"
          ]
        },
        {
          "output_type": "stream",
          "name": "stderr",
          "text": [
            "<ipython-input-11-551945fa7199>:33: FutureWarning: The behavior of DataFrame concatenation with empty or all-NA entries is deprecated. In a future version, this will no longer exclude empty or all-NA columns when determining the result dtypes. To retain the old behavior, exclude the relevant entries before the concat operation.\n",
            "  total_row_cnt_df = pd.concat([total_row_cnt_df, row_cnt_df], axis=0, join='outer', ignore_index=True)\n"
          ]
        },
        {
          "output_type": "stream",
          "name": "stdout",
          "text": [
            "   Result: <google.cloud.bigquery.table.RowIterator object at 0x7f1e6e84ed70>\n",
            "   Errors:  None\n",
            "- Finish writing to Partition  20240509\n",
            "- Check: insert 0 rows.\n",
            "- Execution:  2024-05-10  Partition:  20240510\n",
            "    Table dws_campaign_cost_prd_d_inc already exists.\n"
          ]
        },
        {
          "output_type": "stream",
          "name": "stderr",
          "text": [
            "<ipython-input-11-551945fa7199>:33: FutureWarning: The behavior of DataFrame concatenation with empty or all-NA entries is deprecated. In a future version, this will no longer exclude empty or all-NA columns when determining the result dtypes. To retain the old behavior, exclude the relevant entries before the concat operation.\n",
            "  total_row_cnt_df = pd.concat([total_row_cnt_df, row_cnt_df], axis=0, join='outer', ignore_index=True)\n"
          ]
        },
        {
          "output_type": "stream",
          "name": "stdout",
          "text": [
            "   Result: <google.cloud.bigquery.table.RowIterator object at 0x7f1e6d407820>\n",
            "   Errors:  None\n",
            "- Finish writing to Partition  20240510\n",
            "- Check: insert 0 rows.\n",
            "- Execution:  2024-05-11  Partition:  20240511\n",
            "    Table dws_campaign_cost_prd_d_inc already exists.\n"
          ]
        },
        {
          "output_type": "stream",
          "name": "stderr",
          "text": [
            "<ipython-input-11-551945fa7199>:33: FutureWarning: The behavior of DataFrame concatenation with empty or all-NA entries is deprecated. In a future version, this will no longer exclude empty or all-NA columns when determining the result dtypes. To retain the old behavior, exclude the relevant entries before the concat operation.\n",
            "  total_row_cnt_df = pd.concat([total_row_cnt_df, row_cnt_df], axis=0, join='outer', ignore_index=True)\n"
          ]
        },
        {
          "output_type": "stream",
          "name": "stdout",
          "text": [
            "   Result: <google.cloud.bigquery.table.RowIterator object at 0x7f1e6d407af0>\n",
            "   Errors:  None\n",
            "- Finish writing to Partition  20240511\n",
            "- Check: insert 0 rows.\n",
            "- Execution:  2024-05-12  Partition:  20240512\n",
            "    Table dws_campaign_cost_prd_d_inc already exists.\n"
          ]
        },
        {
          "output_type": "stream",
          "name": "stderr",
          "text": [
            "<ipython-input-11-551945fa7199>:33: FutureWarning: The behavior of DataFrame concatenation with empty or all-NA entries is deprecated. In a future version, this will no longer exclude empty or all-NA columns when determining the result dtypes. To retain the old behavior, exclude the relevant entries before the concat operation.\n",
            "  total_row_cnt_df = pd.concat([total_row_cnt_df, row_cnt_df], axis=0, join='outer', ignore_index=True)\n"
          ]
        },
        {
          "output_type": "stream",
          "name": "stdout",
          "text": [
            "   Result: <google.cloud.bigquery.table.RowIterator object at 0x7f1e6f1bd0f0>\n",
            "   Errors:  None\n",
            "- Finish writing to Partition  20240512\n",
            "- Check: insert 0 rows.\n",
            "- Execution:  2024-05-13  Partition:  20240513\n",
            "    Table dws_campaign_cost_prd_d_inc already exists.\n"
          ]
        },
        {
          "output_type": "stream",
          "name": "stderr",
          "text": [
            "<ipython-input-11-551945fa7199>:33: FutureWarning: The behavior of DataFrame concatenation with empty or all-NA entries is deprecated. In a future version, this will no longer exclude empty or all-NA columns when determining the result dtypes. To retain the old behavior, exclude the relevant entries before the concat operation.\n",
            "  total_row_cnt_df = pd.concat([total_row_cnt_df, row_cnt_df], axis=0, join='outer', ignore_index=True)\n"
          ]
        },
        {
          "output_type": "stream",
          "name": "stdout",
          "text": [
            "   Result: <google.cloud.bigquery.table.RowIterator object at 0x7f1e6e84f460>\n",
            "   Errors:  None\n",
            "- Finish writing to Partition  20240513\n",
            "- Check: insert 0 rows.\n",
            "- Execution:  2024-05-14  Partition:  20240514\n",
            "    Table dws_campaign_cost_prd_d_inc already exists.\n"
          ]
        },
        {
          "output_type": "stream",
          "name": "stderr",
          "text": [
            "<ipython-input-11-551945fa7199>:33: FutureWarning: The behavior of DataFrame concatenation with empty or all-NA entries is deprecated. In a future version, this will no longer exclude empty or all-NA columns when determining the result dtypes. To retain the old behavior, exclude the relevant entries before the concat operation.\n",
            "  total_row_cnt_df = pd.concat([total_row_cnt_df, row_cnt_df], axis=0, join='outer', ignore_index=True)\n"
          ]
        },
        {
          "output_type": "stream",
          "name": "stdout",
          "text": [
            "   Result: <google.cloud.bigquery.table.RowIterator object at 0x7f1e6f1bf0a0>\n",
            "   Errors:  None\n",
            "- Finish writing to Partition  20240514\n",
            "- Check: insert 0 rows.\n",
            "- Execution:  2024-05-15  Partition:  20240515\n",
            "    Table dws_campaign_cost_prd_d_inc already exists.\n"
          ]
        },
        {
          "output_type": "stream",
          "name": "stderr",
          "text": [
            "<ipython-input-11-551945fa7199>:33: FutureWarning: The behavior of DataFrame concatenation with empty or all-NA entries is deprecated. In a future version, this will no longer exclude empty or all-NA columns when determining the result dtypes. To retain the old behavior, exclude the relevant entries before the concat operation.\n",
            "  total_row_cnt_df = pd.concat([total_row_cnt_df, row_cnt_df], axis=0, join='outer', ignore_index=True)\n"
          ]
        },
        {
          "output_type": "stream",
          "name": "stdout",
          "text": [
            "   Result: <google.cloud.bigquery.table.RowIterator object at 0x7f1e6d406b00>\n",
            "   Errors:  None\n",
            "- Finish writing to Partition  20240515\n",
            "- Check: insert 164 rows.\n",
            "- Execution:  2024-05-16  Partition:  20240516\n",
            "    Table dws_campaign_cost_prd_d_inc already exists.\n",
            "   Result: <google.cloud.bigquery.table.RowIterator object at 0x7f1e6d406080>\n",
            "   Errors:  None\n",
            "- Finish writing to Partition  20240516\n",
            "- Check: insert 178 rows.\n",
            "- Execution:  2024-05-17  Partition:  20240517\n",
            "    Table dws_campaign_cost_prd_d_inc already exists.\n",
            "   Result: <google.cloud.bigquery.table.RowIterator object at 0x7f1e6f1bf250>\n",
            "   Errors:  None\n",
            "- Finish writing to Partition  20240517\n",
            "- Check: insert 153 rows.\n",
            "- Execution:  2024-05-18  Partition:  20240518\n",
            "    Table dws_campaign_cost_prd_d_inc already exists.\n",
            "   Result: <google.cloud.bigquery.table.RowIterator object at 0x7f1e6d4068f0>\n",
            "   Errors:  None\n",
            "- Finish writing to Partition  20240518\n",
            "- Check: insert 153 rows.\n",
            "- Execution:  2024-05-19  Partition:  20240519\n",
            "    Table dws_campaign_cost_prd_d_inc already exists.\n",
            "   Result: <google.cloud.bigquery.table.RowIterator object at 0x7f1e6f1bd570>\n",
            "   Errors:  None\n",
            "- Finish writing to Partition  20240519\n",
            "- Check: insert 166 rows.\n",
            "- Execution:  2024-05-20  Partition:  20240520\n",
            "    Table dws_campaign_cost_prd_d_inc already exists.\n",
            "   Result: <google.cloud.bigquery.table.RowIterator object at 0x7f1e6d2dd4e0>\n",
            "   Errors:  None\n",
            "- Finish writing to Partition  20240520\n",
            "- Check: insert 177 rows.\n",
            "- Execution:  2024-05-21  Partition:  20240521\n",
            "    Table dws_campaign_cost_prd_d_inc already exists.\n",
            "   Result: <google.cloud.bigquery.table.RowIterator object at 0x7f1e6d2dd7b0>\n",
            "   Errors:  None\n",
            "- Finish writing to Partition  20240521\n",
            "- Check: insert 184 rows.\n",
            "- Execution:  2024-05-22  Partition:  20240522\n",
            "    Table dws_campaign_cost_prd_d_inc already exists.\n",
            "   Result: <google.cloud.bigquery.table.RowIterator object at 0x7f1e6d406800>\n",
            "   Errors:  None\n",
            "- Finish writing to Partition  20240522\n",
            "- Check: insert 163 rows.\n",
            "- Execution:  2024-05-23  Partition:  20240523\n",
            "    Table dws_campaign_cost_prd_d_inc already exists.\n",
            "   Result: <google.cloud.bigquery.table.RowIterator object at 0x7f1e6d2dc4c0>\n",
            "   Errors:  None\n",
            "- Finish writing to Partition  20240523\n",
            "- Check: insert 180 rows.\n",
            "- Execution:  2024-05-24  Partition:  20240524\n",
            "    Table dws_campaign_cost_prd_d_inc already exists.\n",
            "   Result: <google.cloud.bigquery.table.RowIterator object at 0x7f1e6d2dc1c0>\n",
            "   Errors:  None\n",
            "- Finish writing to Partition  20240524\n",
            "- Check: insert 163 rows.\n",
            "- Execution:  2024-05-25  Partition:  20240525\n",
            "    Table dws_campaign_cost_prd_d_inc already exists.\n",
            "   Result: <google.cloud.bigquery.table.RowIterator object at 0x7f1e6f1bf760>\n",
            "   Errors:  None\n",
            "- Finish writing to Partition  20240525\n",
            "- Check: insert 191 rows.\n",
            "- Execution:  2024-05-26  Partition:  20240526\n",
            "    Table dws_campaign_cost_prd_d_inc already exists.\n",
            "   Result: <google.cloud.bigquery.table.RowIterator object at 0x7f1e6d407af0>\n",
            "   Errors:  None\n",
            "- Finish writing to Partition  20240526\n",
            "- Check: insert 162 rows.\n",
            "- Execution:  2024-05-27  Partition:  20240527\n",
            "    Table dws_campaign_cost_prd_d_inc already exists.\n",
            "   Result: <google.cloud.bigquery.table.RowIterator object at 0x7f1e6f1bc4f0>\n",
            "   Errors:  None\n",
            "- Finish writing to Partition  20240527\n",
            "- Check: insert 177 rows.\n",
            "- Execution:  2024-05-28  Partition:  20240528\n",
            "    Table dws_campaign_cost_prd_d_inc already exists.\n",
            "   Result: <google.cloud.bigquery.table.RowIterator object at 0x7f1e6d405000>\n",
            "   Errors:  None\n",
            "- Finish writing to Partition  20240528\n",
            "- Check: insert 168 rows.\n",
            "- Execution:  2024-05-29  Partition:  20240529\n",
            "    Table dws_campaign_cost_prd_d_inc already exists.\n",
            "   Result: <google.cloud.bigquery.table.RowIterator object at 0x7f1e6d4070a0>\n",
            "   Errors:  None\n",
            "- Finish writing to Partition  20240529\n",
            "- Check: insert 166 rows.\n",
            "- Execution:  2024-05-30  Partition:  20240530\n",
            "    Table dws_campaign_cost_prd_d_inc already exists.\n",
            "   Result: <google.cloud.bigquery.table.RowIterator object at 0x7f1e6f1bf0d0>\n",
            "   Errors:  None\n",
            "- Finish writing to Partition  20240530\n",
            "- Check: insert 182 rows.\n",
            "- Execution:  2024-05-31  Partition:  20240531\n",
            "    Table dws_campaign_cost_prd_d_inc already exists.\n",
            "   Result: <google.cloud.bigquery.table.RowIterator object at 0x7f1e6d4079a0>\n",
            "   Errors:  None\n",
            "- Finish writing to Partition  20240531\n",
            "- Check: insert 140 rows.\n",
            "- Execution:  2024-06-01  Partition:  20240601\n",
            "    Table dws_campaign_cost_prd_d_inc already exists.\n",
            "   Result: <google.cloud.bigquery.table.RowIterator object at 0x7f1e6f353790>\n",
            "   Errors:  None\n",
            "- Finish writing to Partition  20240601\n",
            "- Check: insert 178 rows.\n",
            "- Execution:  2024-06-02  Partition:  20240602\n",
            "    Table dws_campaign_cost_prd_d_inc already exists.\n",
            "   Result: <google.cloud.bigquery.table.RowIterator object at 0x7f1e6f1be0b0>\n",
            "   Errors:  None\n",
            "- Finish writing to Partition  20240602\n",
            "- Check: insert 159 rows.\n",
            "- Execution:  2024-06-03  Partition:  20240603\n",
            "    Table dws_campaign_cost_prd_d_inc already exists.\n",
            "   Result: <google.cloud.bigquery.table.RowIterator object at 0x7f1e6f1bd090>\n",
            "   Errors:  None\n",
            "- Finish writing to Partition  20240603\n",
            "- Check: insert 170 rows.\n",
            "- Execution:  2024-06-04  Partition:  20240604\n",
            "    Table dws_campaign_cost_prd_d_inc already exists.\n",
            "   Result: <google.cloud.bigquery.table.RowIterator object at 0x7f1e6f1bf670>\n",
            "   Errors:  None\n",
            "- Finish writing to Partition  20240604\n",
            "- Check: insert 155 rows.\n",
            "- Execution:  2024-06-05  Partition:  20240605\n",
            "    Table dws_campaign_cost_prd_d_inc already exists.\n",
            "   Result: <google.cloud.bigquery.table.RowIterator object at 0x7f1e6e84e8f0>\n",
            "   Errors:  None\n",
            "- Finish writing to Partition  20240605\n",
            "- Check: insert 182 rows.\n",
            "- Execution:  2024-06-06  Partition:  20240606\n",
            "    Table dws_campaign_cost_prd_d_inc already exists.\n",
            "   Result: <google.cloud.bigquery.table.RowIterator object at 0x7f1e6e84d180>\n",
            "   Errors:  None\n",
            "- Finish writing to Partition  20240606\n",
            "- Check: insert 0 rows.\n",
            "- Execution:  2024-06-07  Partition:  20240607\n",
            "    Table dws_campaign_cost_prd_d_inc already exists.\n"
          ]
        },
        {
          "output_type": "stream",
          "name": "stderr",
          "text": [
            "<ipython-input-11-551945fa7199>:33: FutureWarning: The behavior of DataFrame concatenation with empty or all-NA entries is deprecated. In a future version, this will no longer exclude empty or all-NA columns when determining the result dtypes. To retain the old behavior, exclude the relevant entries before the concat operation.\n",
            "  total_row_cnt_df = pd.concat([total_row_cnt_df, row_cnt_df], axis=0, join='outer', ignore_index=True)\n"
          ]
        },
        {
          "output_type": "stream",
          "name": "stdout",
          "text": [
            "   Result: <google.cloud.bigquery.table.RowIterator object at 0x7f1e6e84fb80>\n",
            "   Errors:  None\n",
            "- Finish writing to Partition  20240607\n",
            "- Check: insert 0 rows.\n",
            "- Execution:  2024-06-08  Partition:  20240608\n",
            "    Table dws_campaign_cost_prd_d_inc already exists.\n"
          ]
        },
        {
          "output_type": "stream",
          "name": "stderr",
          "text": [
            "<ipython-input-11-551945fa7199>:33: FutureWarning: The behavior of DataFrame concatenation with empty or all-NA entries is deprecated. In a future version, this will no longer exclude empty or all-NA columns when determining the result dtypes. To retain the old behavior, exclude the relevant entries before the concat operation.\n",
            "  total_row_cnt_df = pd.concat([total_row_cnt_df, row_cnt_df], axis=0, join='outer', ignore_index=True)\n"
          ]
        },
        {
          "output_type": "stream",
          "name": "stdout",
          "text": [
            "   Result: <google.cloud.bigquery.table.RowIterator object at 0x7f1e6e84d000>\n",
            "   Errors:  None\n",
            "- Finish writing to Partition  20240608\n",
            "- Check: insert 0 rows.\n",
            "- Execution:  2024-06-09  Partition:  20240609\n",
            "    Table dws_campaign_cost_prd_d_inc already exists.\n"
          ]
        },
        {
          "output_type": "stream",
          "name": "stderr",
          "text": [
            "<ipython-input-11-551945fa7199>:33: FutureWarning: The behavior of DataFrame concatenation with empty or all-NA entries is deprecated. In a future version, this will no longer exclude empty or all-NA columns when determining the result dtypes. To retain the old behavior, exclude the relevant entries before the concat operation.\n",
            "  total_row_cnt_df = pd.concat([total_row_cnt_df, row_cnt_df], axis=0, join='outer', ignore_index=True)\n"
          ]
        },
        {
          "output_type": "stream",
          "name": "stdout",
          "text": [
            "   Result: <google.cloud.bigquery.table.RowIterator object at 0x7f1e6e84f310>\n",
            "   Errors:  None\n",
            "- Finish writing to Partition  20240609\n",
            "- Check: insert 226 rows.\n",
            "- Execution:  2024-06-10  Partition:  20240610\n",
            "    Table dws_campaign_cost_prd_d_inc already exists.\n",
            "   Result: <google.cloud.bigquery.table.RowIterator object at 0x7f1e6e87be50>\n",
            "   Errors:  None\n",
            "- Finish writing to Partition  20240610\n",
            "- Check: insert 247 rows.\n",
            "- Execution:  2024-06-11  Partition:  20240611\n",
            "    Table dws_campaign_cost_prd_d_inc already exists.\n",
            "   Result: <google.cloud.bigquery.table.RowIterator object at 0x7f1e6e87b7c0>\n",
            "   Errors:  None\n",
            "- Finish writing to Partition  20240611\n",
            "- Check: insert 286 rows.\n",
            "- Execution:  2024-06-12  Partition:  20240612\n",
            "    Table dws_campaign_cost_prd_d_inc already exists.\n",
            "   Result: <google.cloud.bigquery.table.RowIterator object at 0x7f1e6f1d7a30>\n",
            "   Errors:  None\n",
            "- Finish writing to Partition  20240612\n",
            "- Check: insert 248 rows.\n",
            "- Execution:  2024-06-13  Partition:  20240613\n",
            "    Table dws_campaign_cost_prd_d_inc already exists.\n",
            "   Result: <google.cloud.bigquery.table.RowIterator object at 0x7f1e6f1bf490>\n",
            "   Errors:  None\n",
            "- Finish writing to Partition  20240613\n",
            "- Check: insert 271 rows.\n",
            "- Execution:  2024-06-14  Partition:  20240614\n",
            "    Table dws_campaign_cost_prd_d_inc already exists.\n",
            "   Result: <google.cloud.bigquery.table.RowIterator object at 0x7f1e6e84ca00>\n",
            "   Errors:  None\n",
            "- Finish writing to Partition  20240614\n",
            "- Check: insert 240 rows.\n",
            "- Execution:  2024-06-15  Partition:  20240615\n",
            "    Table dws_campaign_cost_prd_d_inc already exists.\n",
            "   Result: <google.cloud.bigquery.table.RowIterator object at 0x7f1e6d4060e0>\n",
            "   Errors:  None\n",
            "- Finish writing to Partition  20240615\n",
            "- Check: insert 235 rows.\n",
            "- Execution:  2024-06-16  Partition:  20240616\n",
            "    Table dws_campaign_cost_prd_d_inc already exists.\n",
            "   Result: <google.cloud.bigquery.table.RowIterator object at 0x7f1e6e87abf0>\n",
            "   Errors:  None\n",
            "- Finish writing to Partition  20240616\n",
            "- Check: insert 264 rows.\n",
            "- Execution:  2024-06-17  Partition:  20240617\n",
            "    Table dws_campaign_cost_prd_d_inc already exists.\n",
            "   Result: <google.cloud.bigquery.table.RowIterator object at 0x7f1e6e87abf0>\n",
            "   Errors:  None\n",
            "- Finish writing to Partition  20240617\n",
            "- Check: insert 279 rows.\n",
            "- Execution:  2024-06-18  Partition:  20240618\n",
            "    Table dws_campaign_cost_prd_d_inc already exists.\n",
            "   Result: <google.cloud.bigquery.table.RowIterator object at 0x7f1eb4162350>\n",
            "   Errors:  None\n",
            "- Finish writing to Partition  20240618\n",
            "- Check: insert 226 rows.\n",
            "- Execution:  2024-06-19  Partition:  20240619\n",
            "    Table dws_campaign_cost_prd_d_inc already exists.\n",
            "   Result: <google.cloud.bigquery.table.RowIterator object at 0x7f1e6e87a020>\n",
            "   Errors:  None\n",
            "- Finish writing to Partition  20240619\n",
            "- Check: insert 248 rows.\n",
            "- Execution:  2024-06-20  Partition:  20240620\n",
            "    Table dws_campaign_cost_prd_d_inc already exists.\n",
            "   Result: <google.cloud.bigquery.table.RowIterator object at 0x7f1e6d2dd900>\n",
            "   Errors:  None\n",
            "- Finish writing to Partition  20240620\n",
            "- Check: insert 248 rows.\n",
            "- Execution:  2024-06-21  Partition:  20240621\n",
            "    Table dws_campaign_cost_prd_d_inc already exists.\n",
            "   Result: <google.cloud.bigquery.table.RowIterator object at 0x7f1e6f353910>\n",
            "   Errors:  None\n",
            "- Finish writing to Partition  20240621\n",
            "- Check: insert 258 rows.\n",
            "- Execution:  2024-06-22  Partition:  20240622\n",
            "    Table dws_campaign_cost_prd_d_inc already exists.\n",
            "   Result: <google.cloud.bigquery.table.RowIterator object at 0x7f1e6d2ddea0>\n",
            "   Errors:  None\n",
            "- Finish writing to Partition  20240622\n",
            "- Check: insert 276 rows.\n",
            "- Execution:  2024-06-23  Partition:  20240623\n",
            "    Table dws_campaign_cost_prd_d_inc already exists.\n",
            "   Result: <google.cloud.bigquery.table.RowIterator object at 0x7f1e6d2dd8d0>\n",
            "   Errors:  None\n",
            "- Finish writing to Partition  20240623\n",
            "- Check: insert 265 rows.\n",
            "- Execution:  2024-06-24  Partition:  20240624\n",
            "    Table dws_campaign_cost_prd_d_inc already exists.\n",
            "   Result: <google.cloud.bigquery.table.RowIterator object at 0x7f1e6f1bf2b0>\n",
            "   Errors:  None\n",
            "- Finish writing to Partition  20240624\n",
            "- Check: insert 0 rows.\n",
            "- Execution:  2024-06-25  Partition:  20240625\n",
            "    Table dws_campaign_cost_prd_d_inc already exists.\n"
          ]
        },
        {
          "output_type": "stream",
          "name": "stderr",
          "text": [
            "<ipython-input-11-551945fa7199>:33: FutureWarning: The behavior of DataFrame concatenation with empty or all-NA entries is deprecated. In a future version, this will no longer exclude empty or all-NA columns when determining the result dtypes. To retain the old behavior, exclude the relevant entries before the concat operation.\n",
            "  total_row_cnt_df = pd.concat([total_row_cnt_df, row_cnt_df], axis=0, join='outer', ignore_index=True)\n"
          ]
        },
        {
          "output_type": "stream",
          "name": "stdout",
          "text": [
            "   Result: <google.cloud.bigquery.table.RowIterator object at 0x7f1e6d2dc880>\n",
            "   Errors:  None\n",
            "- Finish writing to Partition  20240625\n",
            "- Check: insert 0 rows.\n",
            "- Execution:  2024-06-26  Partition:  20240626\n",
            "    Table dws_campaign_cost_prd_d_inc already exists.\n"
          ]
        },
        {
          "output_type": "stream",
          "name": "stderr",
          "text": [
            "<ipython-input-11-551945fa7199>:33: FutureWarning: The behavior of DataFrame concatenation with empty or all-NA entries is deprecated. In a future version, this will no longer exclude empty or all-NA columns when determining the result dtypes. To retain the old behavior, exclude the relevant entries before the concat operation.\n",
            "  total_row_cnt_df = pd.concat([total_row_cnt_df, row_cnt_df], axis=0, join='outer', ignore_index=True)\n"
          ]
        },
        {
          "output_type": "stream",
          "name": "stdout",
          "text": [
            "   Result: <google.cloud.bigquery.table.RowIterator object at 0x7f1e6d2dcfa0>\n",
            "   Errors:  None\n",
            "- Finish writing to Partition  20240626\n",
            "- Check: insert 0 rows.\n",
            "- Execution:  2024-06-27  Partition:  20240627\n",
            "    Table dws_campaign_cost_prd_d_inc already exists.\n"
          ]
        },
        {
          "output_type": "stream",
          "name": "stderr",
          "text": [
            "<ipython-input-11-551945fa7199>:33: FutureWarning: The behavior of DataFrame concatenation with empty or all-NA entries is deprecated. In a future version, this will no longer exclude empty or all-NA columns when determining the result dtypes. To retain the old behavior, exclude the relevant entries before the concat operation.\n",
            "  total_row_cnt_df = pd.concat([total_row_cnt_df, row_cnt_df], axis=0, join='outer', ignore_index=True)\n"
          ]
        },
        {
          "output_type": "stream",
          "name": "stdout",
          "text": [
            "   Result: <google.cloud.bigquery.table.RowIterator object at 0x7f1e6d2df3a0>\n",
            "   Errors:  None\n",
            "- Finish writing to Partition  20240627\n",
            "- Check: insert 0 rows.\n",
            "- Execution:  2024-06-28  Partition:  20240628\n",
            "    Table dws_campaign_cost_prd_d_inc already exists.\n"
          ]
        },
        {
          "output_type": "stream",
          "name": "stderr",
          "text": [
            "<ipython-input-11-551945fa7199>:33: FutureWarning: The behavior of DataFrame concatenation with empty or all-NA entries is deprecated. In a future version, this will no longer exclude empty or all-NA columns when determining the result dtypes. To retain the old behavior, exclude the relevant entries before the concat operation.\n",
            "  total_row_cnt_df = pd.concat([total_row_cnt_df, row_cnt_df], axis=0, join='outer', ignore_index=True)\n"
          ]
        },
        {
          "output_type": "stream",
          "name": "stdout",
          "text": [
            "   Result: <google.cloud.bigquery.table.RowIterator object at 0x7f1e6d2df4f0>\n",
            "   Errors:  None\n",
            "- Finish writing to Partition  20240628\n",
            "- Check: insert 0 rows.\n",
            "- Execution:  2024-06-29  Partition:  20240629\n",
            "    Table dws_campaign_cost_prd_d_inc already exists.\n"
          ]
        },
        {
          "output_type": "stream",
          "name": "stderr",
          "text": [
            "<ipython-input-11-551945fa7199>:33: FutureWarning: The behavior of DataFrame concatenation with empty or all-NA entries is deprecated. In a future version, this will no longer exclude empty or all-NA columns when determining the result dtypes. To retain the old behavior, exclude the relevant entries before the concat operation.\n",
            "  total_row_cnt_df = pd.concat([total_row_cnt_df, row_cnt_df], axis=0, join='outer', ignore_index=True)\n"
          ]
        },
        {
          "output_type": "stream",
          "name": "stdout",
          "text": [
            "   Result: <google.cloud.bigquery.table.RowIterator object at 0x7f1e6d2de620>\n",
            "   Errors:  None\n",
            "- Finish writing to Partition  20240629\n",
            "- Check: insert 0 rows.\n",
            "- Execution:  2024-06-30  Partition:  20240630\n",
            "    Table dws_campaign_cost_prd_d_inc already exists.\n"
          ]
        },
        {
          "output_type": "stream",
          "name": "stderr",
          "text": [
            "<ipython-input-11-551945fa7199>:33: FutureWarning: The behavior of DataFrame concatenation with empty or all-NA entries is deprecated. In a future version, this will no longer exclude empty or all-NA columns when determining the result dtypes. To retain the old behavior, exclude the relevant entries before the concat operation.\n",
            "  total_row_cnt_df = pd.concat([total_row_cnt_df, row_cnt_df], axis=0, join='outer', ignore_index=True)\n"
          ]
        },
        {
          "output_type": "stream",
          "name": "stdout",
          "text": [
            "   Result: <google.cloud.bigquery.table.RowIterator object at 0x7f1e6f1d7a30>\n",
            "   Errors:  None\n",
            "- Finish writing to Partition  20240630\n",
            "- Check: insert 0 rows.\n",
            "- Execution:  2024-07-01  Partition:  20240701\n",
            "    Table dws_campaign_cost_prd_d_inc already exists.\n"
          ]
        },
        {
          "output_type": "stream",
          "name": "stderr",
          "text": [
            "<ipython-input-11-551945fa7199>:33: FutureWarning: The behavior of DataFrame concatenation with empty or all-NA entries is deprecated. In a future version, this will no longer exclude empty or all-NA columns when determining the result dtypes. To retain the old behavior, exclude the relevant entries before the concat operation.\n",
            "  total_row_cnt_df = pd.concat([total_row_cnt_df, row_cnt_df], axis=0, join='outer', ignore_index=True)\n"
          ]
        },
        {
          "output_type": "stream",
          "name": "stdout",
          "text": [
            "   Result: <google.cloud.bigquery.table.RowIterator object at 0x7f1e6e84eec0>\n",
            "   Errors:  None\n",
            "- Finish writing to Partition  20240701\n",
            "- Check: insert 0 rows.\n",
            "- Execution:  2024-07-02  Partition:  20240702\n",
            "    Table dws_campaign_cost_prd_d_inc already exists.\n"
          ]
        },
        {
          "output_type": "stream",
          "name": "stderr",
          "text": [
            "<ipython-input-11-551945fa7199>:33: FutureWarning: The behavior of DataFrame concatenation with empty or all-NA entries is deprecated. In a future version, this will no longer exclude empty or all-NA columns when determining the result dtypes. To retain the old behavior, exclude the relevant entries before the concat operation.\n",
            "  total_row_cnt_df = pd.concat([total_row_cnt_df, row_cnt_df], axis=0, join='outer', ignore_index=True)\n"
          ]
        },
        {
          "output_type": "stream",
          "name": "stdout",
          "text": [
            "   Result: <google.cloud.bigquery.table.RowIterator object at 0x7f1ea3ac0040>\n",
            "   Errors:  None\n",
            "- Finish writing to Partition  20240702\n",
            "- Check: insert 0 rows.\n",
            "- Execution:  2024-07-03  Partition:  20240703\n",
            "    Table dws_campaign_cost_prd_d_inc already exists.\n"
          ]
        },
        {
          "output_type": "stream",
          "name": "stderr",
          "text": [
            "<ipython-input-11-551945fa7199>:33: FutureWarning: The behavior of DataFrame concatenation with empty or all-NA entries is deprecated. In a future version, this will no longer exclude empty or all-NA columns when determining the result dtypes. To retain the old behavior, exclude the relevant entries before the concat operation.\n",
            "  total_row_cnt_df = pd.concat([total_row_cnt_df, row_cnt_df], axis=0, join='outer', ignore_index=True)\n"
          ]
        },
        {
          "output_type": "stream",
          "name": "stdout",
          "text": [
            "   Result: <google.cloud.bigquery.table.RowIterator object at 0x7f1e6e84db40>\n",
            "   Errors:  None\n",
            "- Finish writing to Partition  20240703\n",
            "- Check: insert 0 rows.\n",
            "- Execution:  2024-07-04  Partition:  20240704\n",
            "    Table dws_campaign_cost_prd_d_inc already exists.\n"
          ]
        },
        {
          "output_type": "stream",
          "name": "stderr",
          "text": [
            "<ipython-input-11-551945fa7199>:33: FutureWarning: The behavior of DataFrame concatenation with empty or all-NA entries is deprecated. In a future version, this will no longer exclude empty or all-NA columns when determining the result dtypes. To retain the old behavior, exclude the relevant entries before the concat operation.\n",
            "  total_row_cnt_df = pd.concat([total_row_cnt_df, row_cnt_df], axis=0, join='outer', ignore_index=True)\n"
          ]
        },
        {
          "output_type": "stream",
          "name": "stdout",
          "text": [
            "   Result: <google.cloud.bigquery.table.RowIterator object at 0x7f1e6e87bdf0>\n",
            "   Errors:  None\n",
            "- Finish writing to Partition  20240704\n",
            "- Check: insert 106 rows.\n",
            "- Execution:  2024-07-05  Partition:  20240705\n",
            "    Table dws_campaign_cost_prd_d_inc already exists.\n",
            "   Result: <google.cloud.bigquery.table.RowIterator object at 0x7f1e6e84eb60>\n",
            "   Errors:  None\n",
            "- Finish writing to Partition  20240705\n",
            "- Check: insert 121 rows.\n",
            "- Execution:  2024-07-06  Partition:  20240706\n",
            "    Table dws_campaign_cost_prd_d_inc already exists.\n",
            "   Result: <google.cloud.bigquery.table.RowIterator object at 0x7f1e6f351f90>\n",
            "   Errors:  None\n",
            "- Finish writing to Partition  20240706\n",
            "- Check: insert 109 rows.\n",
            "- Execution:  2024-07-07  Partition:  20240707\n",
            "    Table dws_campaign_cost_prd_d_inc already exists.\n",
            "   Result: <google.cloud.bigquery.table.RowIterator object at 0x7f1e6e879d20>\n",
            "   Errors:  None\n",
            "- Finish writing to Partition  20240707\n",
            "- Check: insert 138 rows.\n",
            "- Execution:  2024-07-08  Partition:  20240708\n",
            "    Table dws_campaign_cost_prd_d_inc already exists.\n",
            "   Result: <google.cloud.bigquery.table.RowIterator object at 0x7f1e6e87b3d0>\n",
            "   Errors:  None\n",
            "- Finish writing to Partition  20240708\n",
            "- Check: insert 115 rows.\n",
            "- Execution:  2024-07-09  Partition:  20240709\n",
            "    Table dws_campaign_cost_prd_d_inc already exists.\n",
            "   Result: <google.cloud.bigquery.table.RowIterator object at 0x7f1e6e84ca00>\n",
            "   Errors:  None\n",
            "- Finish writing to Partition  20240709\n",
            "- Check: insert 109 rows.\n",
            "- Execution:  2024-07-10  Partition:  20240710\n",
            "    Table dws_campaign_cost_prd_d_inc already exists.\n",
            "   Result: <google.cloud.bigquery.table.RowIterator object at 0x7f1e6e84d3c0>\n",
            "   Errors:  None\n",
            "- Finish writing to Partition  20240710\n",
            "- Check: insert 143 rows.\n",
            "- Execution:  2024-07-11  Partition:  20240711\n",
            "    Table dws_campaign_cost_prd_d_inc already exists.\n",
            "   Result: <google.cloud.bigquery.table.RowIterator object at 0x7f1e6f3528f0>\n",
            "   Errors:  None\n",
            "- Finish writing to Partition  20240711\n",
            "- Check: insert 114 rows.\n",
            "- Execution:  2024-07-12  Partition:  20240712\n",
            "    Table dws_campaign_cost_prd_d_inc already exists.\n",
            "   Result: <google.cloud.bigquery.table.RowIterator object at 0x7f1e6e87b340>\n",
            "   Errors:  None\n",
            "- Finish writing to Partition  20240712\n",
            "- Check: insert 0 rows.\n",
            "- Execution:  2024-07-13  Partition:  20240713\n",
            "    Table dws_campaign_cost_prd_d_inc already exists.\n"
          ]
        },
        {
          "output_type": "stream",
          "name": "stderr",
          "text": [
            "<ipython-input-11-551945fa7199>:33: FutureWarning: The behavior of DataFrame concatenation with empty or all-NA entries is deprecated. In a future version, this will no longer exclude empty or all-NA columns when determining the result dtypes. To retain the old behavior, exclude the relevant entries before the concat operation.\n",
            "  total_row_cnt_df = pd.concat([total_row_cnt_df, row_cnt_df], axis=0, join='outer', ignore_index=True)\n"
          ]
        },
        {
          "output_type": "stream",
          "name": "stdout",
          "text": [
            "   Result: <google.cloud.bigquery.table.RowIterator object at 0x7f1e6f3539d0>\n",
            "   Errors:  None\n",
            "- Finish writing to Partition  20240713\n",
            "- Check: insert 0 rows.\n",
            "- Execution:  2024-07-14  Partition:  20240714\n",
            "    Table dws_campaign_cost_prd_d_inc already exists.\n"
          ]
        },
        {
          "output_type": "stream",
          "name": "stderr",
          "text": [
            "<ipython-input-11-551945fa7199>:33: FutureWarning: The behavior of DataFrame concatenation with empty or all-NA entries is deprecated. In a future version, this will no longer exclude empty or all-NA columns when determining the result dtypes. To retain the old behavior, exclude the relevant entries before the concat operation.\n",
            "  total_row_cnt_df = pd.concat([total_row_cnt_df, row_cnt_df], axis=0, join='outer', ignore_index=True)\n"
          ]
        },
        {
          "output_type": "stream",
          "name": "stdout",
          "text": [
            "   Result: <google.cloud.bigquery.table.RowIterator object at 0x7f1e6f3525c0>\n",
            "   Errors:  None\n",
            "- Finish writing to Partition  20240714\n",
            "- Check: insert 0 rows.\n",
            "- Execution:  2024-07-15  Partition:  20240715\n",
            "    Table dws_campaign_cost_prd_d_inc already exists.\n"
          ]
        },
        {
          "output_type": "stream",
          "name": "stderr",
          "text": [
            "<ipython-input-11-551945fa7199>:33: FutureWarning: The behavior of DataFrame concatenation with empty or all-NA entries is deprecated. In a future version, this will no longer exclude empty or all-NA columns when determining the result dtypes. To retain the old behavior, exclude the relevant entries before the concat operation.\n",
            "  total_row_cnt_df = pd.concat([total_row_cnt_df, row_cnt_df], axis=0, join='outer', ignore_index=True)\n"
          ]
        },
        {
          "output_type": "stream",
          "name": "stdout",
          "text": [
            "   Result: <google.cloud.bigquery.table.RowIterator object at 0x7f1e6e84ca00>\n",
            "   Errors:  None\n",
            "- Finish writing to Partition  20240715\n",
            "- Check: insert 0 rows.\n",
            "- Execution:  2024-07-16  Partition:  20240716\n",
            "    Table dws_campaign_cost_prd_d_inc already exists.\n"
          ]
        },
        {
          "output_type": "stream",
          "name": "stderr",
          "text": [
            "<ipython-input-11-551945fa7199>:33: FutureWarning: The behavior of DataFrame concatenation with empty or all-NA entries is deprecated. In a future version, this will no longer exclude empty or all-NA columns when determining the result dtypes. To retain the old behavior, exclude the relevant entries before the concat operation.\n",
            "  total_row_cnt_df = pd.concat([total_row_cnt_df, row_cnt_df], axis=0, join='outer', ignore_index=True)\n"
          ]
        },
        {
          "output_type": "stream",
          "name": "stdout",
          "text": [
            "   Result: <google.cloud.bigquery.table.RowIterator object at 0x7f1e6f3528f0>\n",
            "   Errors:  None\n",
            "- Finish writing to Partition  20240716\n",
            "- Check: insert 0 rows.\n",
            "- Execution:  2024-07-17  Partition:  20240717\n",
            "    Table dws_campaign_cost_prd_d_inc already exists.\n"
          ]
        },
        {
          "output_type": "stream",
          "name": "stderr",
          "text": [
            "<ipython-input-11-551945fa7199>:33: FutureWarning: The behavior of DataFrame concatenation with empty or all-NA entries is deprecated. In a future version, this will no longer exclude empty or all-NA columns when determining the result dtypes. To retain the old behavior, exclude the relevant entries before the concat operation.\n",
            "  total_row_cnt_df = pd.concat([total_row_cnt_df, row_cnt_df], axis=0, join='outer', ignore_index=True)\n"
          ]
        },
        {
          "output_type": "stream",
          "name": "stdout",
          "text": [
            "   Result: <google.cloud.bigquery.table.RowIterator object at 0x7f1e6e84ca00>\n",
            "   Errors:  None\n",
            "- Finish writing to Partition  20240717\n",
            "- Check: insert 0 rows.\n",
            "- Execution:  2024-07-18  Partition:  20240718\n",
            "    Table dws_campaign_cost_prd_d_inc already exists.\n"
          ]
        },
        {
          "output_type": "stream",
          "name": "stderr",
          "text": [
            "<ipython-input-11-551945fa7199>:33: FutureWarning: The behavior of DataFrame concatenation with empty or all-NA entries is deprecated. In a future version, this will no longer exclude empty or all-NA columns when determining the result dtypes. To retain the old behavior, exclude the relevant entries before the concat operation.\n",
            "  total_row_cnt_df = pd.concat([total_row_cnt_df, row_cnt_df], axis=0, join='outer', ignore_index=True)\n"
          ]
        },
        {
          "output_type": "stream",
          "name": "stdout",
          "text": [
            "   Result: <google.cloud.bigquery.table.RowIterator object at 0x7f1e6e84e890>\n",
            "   Errors:  None\n",
            "- Finish writing to Partition  20240718\n",
            "- Check: insert 0 rows.\n",
            "- Execution:  2024-07-19  Partition:  20240719\n",
            "    Table dws_campaign_cost_prd_d_inc already exists.\n"
          ]
        },
        {
          "output_type": "stream",
          "name": "stderr",
          "text": [
            "<ipython-input-11-551945fa7199>:33: FutureWarning: The behavior of DataFrame concatenation with empty or all-NA entries is deprecated. In a future version, this will no longer exclude empty or all-NA columns when determining the result dtypes. To retain the old behavior, exclude the relevant entries before the concat operation.\n",
            "  total_row_cnt_df = pd.concat([total_row_cnt_df, row_cnt_df], axis=0, join='outer', ignore_index=True)\n"
          ]
        },
        {
          "output_type": "stream",
          "name": "stdout",
          "text": [
            "   Result: <google.cloud.bigquery.table.RowIterator object at 0x7f1e6d2def20>\n",
            "   Errors:  None\n",
            "- Finish writing to Partition  20240719\n",
            "- Check: insert 0 rows.\n",
            "- Execution:  2024-07-20  Partition:  20240720\n",
            "    Table dws_campaign_cost_prd_d_inc already exists.\n"
          ]
        },
        {
          "output_type": "stream",
          "name": "stderr",
          "text": [
            "<ipython-input-11-551945fa7199>:33: FutureWarning: The behavior of DataFrame concatenation with empty or all-NA entries is deprecated. In a future version, this will no longer exclude empty or all-NA columns when determining the result dtypes. To retain the old behavior, exclude the relevant entries before the concat operation.\n",
            "  total_row_cnt_df = pd.concat([total_row_cnt_df, row_cnt_df], axis=0, join='outer', ignore_index=True)\n"
          ]
        },
        {
          "output_type": "stream",
          "name": "stdout",
          "text": [
            "   Result: <google.cloud.bigquery.table.RowIterator object at 0x7f1e6d2dfbb0>\n",
            "   Errors:  None\n",
            "- Finish writing to Partition  20240720\n",
            "- Check: insert 0 rows.\n",
            "- Execution:  2024-07-21  Partition:  20240721\n",
            "    Table dws_campaign_cost_prd_d_inc already exists.\n"
          ]
        },
        {
          "output_type": "stream",
          "name": "stderr",
          "text": [
            "<ipython-input-11-551945fa7199>:33: FutureWarning: The behavior of DataFrame concatenation with empty or all-NA entries is deprecated. In a future version, this will no longer exclude empty or all-NA columns when determining the result dtypes. To retain the old behavior, exclude the relevant entries before the concat operation.\n",
            "  total_row_cnt_df = pd.concat([total_row_cnt_df, row_cnt_df], axis=0, join='outer', ignore_index=True)\n"
          ]
        },
        {
          "output_type": "stream",
          "name": "stdout",
          "text": [
            "   Result: <google.cloud.bigquery.table.RowIterator object at 0x7f1e6d406650>\n",
            "   Errors:  None\n",
            "- Finish writing to Partition  20240721\n",
            "- Check: insert 0 rows.\n",
            "- Execution:  2024-07-22  Partition:  20240722\n",
            "    Table dws_campaign_cost_prd_d_inc already exists.\n"
          ]
        },
        {
          "output_type": "stream",
          "name": "stderr",
          "text": [
            "<ipython-input-11-551945fa7199>:33: FutureWarning: The behavior of DataFrame concatenation with empty or all-NA entries is deprecated. In a future version, this will no longer exclude empty or all-NA columns when determining the result dtypes. To retain the old behavior, exclude the relevant entries before the concat operation.\n",
            "  total_row_cnt_df = pd.concat([total_row_cnt_df, row_cnt_df], axis=0, join='outer', ignore_index=True)\n"
          ]
        },
        {
          "output_type": "stream",
          "name": "stdout",
          "text": [
            "   Result: <google.cloud.bigquery.table.RowIterator object at 0x7f1e6d2dec50>\n",
            "   Errors:  None\n",
            "- Finish writing to Partition  20240722\n",
            "- Check: insert 0 rows.\n",
            "- Execution:  2024-07-23  Partition:  20240723\n",
            "    Table dws_campaign_cost_prd_d_inc already exists.\n"
          ]
        },
        {
          "output_type": "stream",
          "name": "stderr",
          "text": [
            "<ipython-input-11-551945fa7199>:33: FutureWarning: The behavior of DataFrame concatenation with empty or all-NA entries is deprecated. In a future version, this will no longer exclude empty or all-NA columns when determining the result dtypes. To retain the old behavior, exclude the relevant entries before the concat operation.\n",
            "  total_row_cnt_df = pd.concat([total_row_cnt_df, row_cnt_df], axis=0, join='outer', ignore_index=True)\n"
          ]
        },
        {
          "output_type": "stream",
          "name": "stdout",
          "text": [
            "   Result: <google.cloud.bigquery.table.RowIterator object at 0x7f1e6d406f50>\n",
            "   Errors:  None\n",
            "- Finish writing to Partition  20240723\n",
            "- Check: insert 0 rows.\n",
            "- Execution:  2024-07-24  Partition:  20240724\n",
            "    Table dws_campaign_cost_prd_d_inc already exists.\n"
          ]
        },
        {
          "output_type": "stream",
          "name": "stderr",
          "text": [
            "<ipython-input-11-551945fa7199>:33: FutureWarning: The behavior of DataFrame concatenation with empty or all-NA entries is deprecated. In a future version, this will no longer exclude empty or all-NA columns when determining the result dtypes. To retain the old behavior, exclude the relevant entries before the concat operation.\n",
            "  total_row_cnt_df = pd.concat([total_row_cnt_df, row_cnt_df], axis=0, join='outer', ignore_index=True)\n"
          ]
        },
        {
          "output_type": "stream",
          "name": "stdout",
          "text": [
            "   Result: <google.cloud.bigquery.table.RowIterator object at 0x7f1e6d407af0>\n",
            "   Errors:  None\n",
            "- Finish writing to Partition  20240724\n",
            "- Check: insert 0 rows.\n",
            "- Execution:  2024-07-25  Partition:  20240725\n",
            "    Table dws_campaign_cost_prd_d_inc already exists.\n"
          ]
        },
        {
          "output_type": "stream",
          "name": "stderr",
          "text": [
            "<ipython-input-11-551945fa7199>:33: FutureWarning: The behavior of DataFrame concatenation with empty or all-NA entries is deprecated. In a future version, this will no longer exclude empty or all-NA columns when determining the result dtypes. To retain the old behavior, exclude the relevant entries before the concat operation.\n",
            "  total_row_cnt_df = pd.concat([total_row_cnt_df, row_cnt_df], axis=0, join='outer', ignore_index=True)\n"
          ]
        },
        {
          "output_type": "stream",
          "name": "stdout",
          "text": [
            "   Result: <google.cloud.bigquery.table.RowIterator object at 0x7f1e6f1be0b0>\n",
            "   Errors:  None\n",
            "- Finish writing to Partition  20240725\n",
            "- Check: insert 0 rows.\n",
            "- Execution:  2024-07-26  Partition:  20240726\n",
            "    Table dws_campaign_cost_prd_d_inc already exists.\n"
          ]
        },
        {
          "output_type": "stream",
          "name": "stderr",
          "text": [
            "<ipython-input-11-551945fa7199>:33: FutureWarning: The behavior of DataFrame concatenation with empty or all-NA entries is deprecated. In a future version, this will no longer exclude empty or all-NA columns when determining the result dtypes. To retain the old behavior, exclude the relevant entries before the concat operation.\n",
            "  total_row_cnt_df = pd.concat([total_row_cnt_df, row_cnt_df], axis=0, join='outer', ignore_index=True)\n"
          ]
        },
        {
          "output_type": "stream",
          "name": "stdout",
          "text": [
            "   Result: <google.cloud.bigquery.table.RowIterator object at 0x7f1e6d2ddba0>\n",
            "   Errors:  None\n",
            "- Finish writing to Partition  20240726\n",
            "- Check: insert 0 rows.\n",
            "- Execution:  2024-07-27  Partition:  20240727\n",
            "    Table dws_campaign_cost_prd_d_inc already exists.\n"
          ]
        },
        {
          "output_type": "stream",
          "name": "stderr",
          "text": [
            "<ipython-input-11-551945fa7199>:33: FutureWarning: The behavior of DataFrame concatenation with empty or all-NA entries is deprecated. In a future version, this will no longer exclude empty or all-NA columns when determining the result dtypes. To retain the old behavior, exclude the relevant entries before the concat operation.\n",
            "  total_row_cnt_df = pd.concat([total_row_cnt_df, row_cnt_df], axis=0, join='outer', ignore_index=True)\n"
          ]
        },
        {
          "output_type": "stream",
          "name": "stdout",
          "text": [
            "   Result: <google.cloud.bigquery.table.RowIterator object at 0x7f1e6d2de800>\n",
            "   Errors:  None\n",
            "- Finish writing to Partition  20240727\n",
            "- Check: insert 318 rows.\n",
            "- Execution:  2024-07-28  Partition:  20240728\n",
            "    Table dws_campaign_cost_prd_d_inc already exists.\n",
            "   Result: <google.cloud.bigquery.table.RowIterator object at 0x7f1e6d2df220>\n",
            "   Errors:  None\n",
            "- Finish writing to Partition  20240728\n",
            "- Check: insert 306 rows.\n",
            "- Execution:  2024-07-29  Partition:  20240729\n",
            "    Table dws_campaign_cost_prd_d_inc already exists.\n",
            "   Result: <google.cloud.bigquery.table.RowIterator object at 0x7f1e6d2dece0>\n",
            "   Errors:  None\n",
            "- Finish writing to Partition  20240729\n",
            "- Check: insert 265 rows.\n",
            "- Execution:  2024-07-30  Partition:  20240730\n",
            "    Table dws_campaign_cost_prd_d_inc already exists.\n",
            "   Result: <google.cloud.bigquery.table.RowIterator object at 0x7f1e6d2df850>\n",
            "   Errors:  None\n",
            "- Finish writing to Partition  20240730\n",
            "- Check: insert 287 rows.\n",
            "- Execution:  2024-07-31  Partition:  20240731\n",
            "    Table dws_campaign_cost_prd_d_inc already exists.\n",
            "   Result: <google.cloud.bigquery.table.RowIterator object at 0x7f1e6d2dc280>\n",
            "   Errors:  None\n",
            "- Finish writing to Partition  20240731\n",
            "- Check: insert 297 rows.\n",
            "- Execution:  2024-08-01  Partition:  20240801\n",
            "    Table dws_campaign_cost_prd_d_inc already exists.\n",
            "   Result: <google.cloud.bigquery.table.RowIterator object at 0x7f1e6d2dfc70>\n",
            "   Errors:  None\n",
            "- Finish writing to Partition  20240801\n",
            "- Check: insert 230 rows.\n",
            "- Execution:  2024-08-02  Partition:  20240802\n",
            "    Table dws_campaign_cost_prd_d_inc already exists.\n",
            "   Result: <google.cloud.bigquery.table.RowIterator object at 0x7f1e6f3533d0>\n",
            "   Errors:  None\n",
            "- Finish writing to Partition  20240802\n",
            "- Check: insert 314 rows.\n",
            "- Execution:  2024-08-03  Partition:  20240803\n",
            "    Table dws_campaign_cost_prd_d_inc already exists.\n",
            "   Result: <google.cloud.bigquery.table.RowIterator object at 0x7f1e6d214af0>\n",
            "   Errors:  None\n",
            "- Finish writing to Partition  20240803\n",
            "- Check: insert 290 rows.\n",
            "- Execution:  2024-08-04  Partition:  20240804\n",
            "    Table dws_campaign_cost_prd_d_inc already exists.\n",
            "   Result: <google.cloud.bigquery.table.RowIterator object at 0x7f1e6d2ddea0>\n",
            "   Errors:  None\n",
            "- Finish writing to Partition  20240804\n",
            "- Check: insert 259 rows.\n",
            "- Execution:  2024-08-05  Partition:  20240805\n",
            "    Table dws_campaign_cost_prd_d_inc already exists.\n",
            "   Result: <google.cloud.bigquery.table.RowIterator object at 0x7f1e6d2de6e0>\n",
            "   Errors:  None\n",
            "- Finish writing to Partition  20240805\n",
            "- Check: insert 248 rows.\n",
            "- Execution:  2024-08-06  Partition:  20240806\n",
            "    Table dws_campaign_cost_prd_d_inc already exists.\n",
            "   Result: <google.cloud.bigquery.table.RowIterator object at 0x7f1e6d2de680>\n",
            "   Errors:  None\n",
            "- Finish writing to Partition  20240806\n",
            "- Check: insert 325 rows.\n",
            "- Execution:  2024-08-07  Partition:  20240807\n",
            "    Table dws_campaign_cost_prd_d_inc already exists.\n",
            "   Result: <google.cloud.bigquery.table.RowIterator object at 0x7f1e6d2dd5d0>\n",
            "   Errors:  None\n",
            "- Finish writing to Partition  20240807\n",
            "- Check: insert 254 rows.\n",
            "- Execution:  2024-08-08  Partition:  20240808\n",
            "    Table dws_campaign_cost_prd_d_inc already exists.\n",
            "   Result: <google.cloud.bigquery.table.RowIterator object at 0x7f1e6d2dd180>\n",
            "   Errors:  None\n",
            "- Finish writing to Partition  20240808\n",
            "- Check: insert 274 rows.\n",
            "- Execution:  2024-08-09  Partition:  20240809\n",
            "    Table dws_campaign_cost_prd_d_inc already exists.\n",
            "   Result: <google.cloud.bigquery.table.RowIterator object at 0x7f1e6d2ddf60>\n",
            "   Errors:  None\n",
            "- Finish writing to Partition  20240809\n",
            "- Check: insert 316 rows.\n",
            "- Execution:  2024-08-10  Partition:  20240810\n",
            "    Table dws_campaign_cost_prd_d_inc already exists.\n",
            "   Result: <google.cloud.bigquery.table.RowIterator object at 0x7f1e6d2de140>\n",
            "   Errors:  None\n",
            "- Finish writing to Partition  20240810\n",
            "- Check: insert 292 rows.\n",
            "- Execution:  2024-08-11  Partition:  20240811\n",
            "    Table dws_campaign_cost_prd_d_inc already exists.\n",
            "   Result: <google.cloud.bigquery.table.RowIterator object at 0x7f1e6d2dffa0>\n",
            "   Errors:  None\n",
            "- Finish writing to Partition  20240811\n",
            "- Check: insert 297 rows.\n",
            "- Execution:  2024-08-12  Partition:  20240812\n",
            "    Table dws_campaign_cost_prd_d_inc already exists.\n",
            "   Result: <google.cloud.bigquery.table.RowIterator object at 0x7f1e6f1bc520>\n",
            "   Errors:  None\n",
            "- Finish writing to Partition  20240812\n",
            "- Check: insert 270 rows.\n",
            "- Execution:  2024-08-13  Partition:  20240813\n",
            "    Table dws_campaign_cost_prd_d_inc already exists.\n",
            "   Result: <google.cloud.bigquery.table.RowIterator object at 0x7f1e6d2dee90>\n",
            "   Errors:  None\n",
            "- Finish writing to Partition  20240813\n",
            "- Check: insert 293 rows.\n",
            "- Execution:  2024-08-14  Partition:  20240814\n",
            "    Table dws_campaign_cost_prd_d_inc already exists.\n",
            "   Result: <google.cloud.bigquery.table.RowIterator object at 0x7f1e6f351db0>\n",
            "   Errors:  None\n",
            "- Finish writing to Partition  20240814\n",
            "- Check: insert 255 rows.\n",
            "- Execution:  2024-08-15  Partition:  20240815\n",
            "    Table dws_campaign_cost_prd_d_inc already exists.\n",
            "   Result: <google.cloud.bigquery.table.RowIterator object at 0x7f1e6d2dffa0>\n",
            "   Errors:  None\n",
            "- Finish writing to Partition  20240815\n",
            "- Check: insert 308 rows.\n",
            "- Execution:  2024-08-16  Partition:  20240816\n",
            "    Table dws_campaign_cost_prd_d_inc already exists.\n",
            "   Result: <google.cloud.bigquery.table.RowIterator object at 0x7f1e6d2dec50>\n",
            "   Errors:  None\n",
            "- Finish writing to Partition  20240816\n",
            "- Check: insert 345 rows.\n",
            "- Execution:  2024-08-17  Partition:  20240817\n",
            "    Table dws_campaign_cost_prd_d_inc already exists.\n",
            "   Result: <google.cloud.bigquery.table.RowIterator object at 0x7f1e6d2df4f0>\n",
            "   Errors:  None\n",
            "- Finish writing to Partition  20240817\n",
            "- Check: insert 279 rows.\n",
            "- Execution:  2024-08-18  Partition:  20240818\n",
            "    Table dws_campaign_cost_prd_d_inc already exists.\n",
            "   Result: <google.cloud.bigquery.table.RowIterator object at 0x7f1e6d406f50>\n",
            "   Errors:  None\n",
            "- Finish writing to Partition  20240818\n",
            "- Check: insert 0 rows.\n",
            "- Execution:  2024-08-19  Partition:  20240819\n",
            "    Table dws_campaign_cost_prd_d_inc already exists.\n"
          ]
        },
        {
          "output_type": "stream",
          "name": "stderr",
          "text": [
            "<ipython-input-11-551945fa7199>:33: FutureWarning: The behavior of DataFrame concatenation with empty or all-NA entries is deprecated. In a future version, this will no longer exclude empty or all-NA columns when determining the result dtypes. To retain the old behavior, exclude the relevant entries before the concat operation.\n",
            "  total_row_cnt_df = pd.concat([total_row_cnt_df, row_cnt_df], axis=0, join='outer', ignore_index=True)\n"
          ]
        },
        {
          "output_type": "stream",
          "name": "stdout",
          "text": [
            "   Result: <google.cloud.bigquery.table.RowIterator object at 0x7f1e6d2dde40>\n",
            "   Errors:  None\n",
            "- Finish writing to Partition  20240819\n",
            "- Check: insert 0 rows.\n",
            "- Execution:  2024-08-20  Partition:  20240820\n",
            "    Table dws_campaign_cost_prd_d_inc already exists.\n"
          ]
        },
        {
          "output_type": "stream",
          "name": "stderr",
          "text": [
            "<ipython-input-11-551945fa7199>:33: FutureWarning: The behavior of DataFrame concatenation with empty or all-NA entries is deprecated. In a future version, this will no longer exclude empty or all-NA columns when determining the result dtypes. To retain the old behavior, exclude the relevant entries before the concat operation.\n",
            "  total_row_cnt_df = pd.concat([total_row_cnt_df, row_cnt_df], axis=0, join='outer', ignore_index=True)\n"
          ]
        },
        {
          "output_type": "stream",
          "name": "stdout",
          "text": [
            "   Result: <google.cloud.bigquery.table.RowIterator object at 0x7f1e6e878f10>\n",
            "   Errors:  None\n",
            "- Finish writing to Partition  20240820\n",
            "- Check: insert 0 rows.\n",
            "- Execution:  2024-08-21  Partition:  20240821\n",
            "    Table dws_campaign_cost_prd_d_inc already exists.\n"
          ]
        },
        {
          "output_type": "stream",
          "name": "stderr",
          "text": [
            "<ipython-input-11-551945fa7199>:33: FutureWarning: The behavior of DataFrame concatenation with empty or all-NA entries is deprecated. In a future version, this will no longer exclude empty or all-NA columns when determining the result dtypes. To retain the old behavior, exclude the relevant entries before the concat operation.\n",
            "  total_row_cnt_df = pd.concat([total_row_cnt_df, row_cnt_df], axis=0, join='outer', ignore_index=True)\n"
          ]
        },
        {
          "output_type": "stream",
          "name": "stdout",
          "text": [
            "   Result: <google.cloud.bigquery.table.RowIterator object at 0x7f1e6d2dc310>\n",
            "   Errors:  None\n",
            "- Finish writing to Partition  20240821\n",
            "- Check: insert 0 rows.\n",
            "- Execution:  2024-08-22  Partition:  20240822\n",
            "    Table dws_campaign_cost_prd_d_inc already exists.\n"
          ]
        },
        {
          "output_type": "stream",
          "name": "stderr",
          "text": [
            "<ipython-input-11-551945fa7199>:33: FutureWarning: The behavior of DataFrame concatenation with empty or all-NA entries is deprecated. In a future version, this will no longer exclude empty or all-NA columns when determining the result dtypes. To retain the old behavior, exclude the relevant entries before the concat operation.\n",
            "  total_row_cnt_df = pd.concat([total_row_cnt_df, row_cnt_df], axis=0, join='outer', ignore_index=True)\n"
          ]
        },
        {
          "output_type": "stream",
          "name": "stdout",
          "text": [
            "   Result: <google.cloud.bigquery.table.RowIterator object at 0x7f1e6f3528c0>\n",
            "   Errors:  None\n",
            "- Finish writing to Partition  20240822\n",
            "- Check: insert 0 rows.\n",
            "- Execution:  2024-08-23  Partition:  20240823\n",
            "    Table dws_campaign_cost_prd_d_inc already exists.\n"
          ]
        },
        {
          "output_type": "stream",
          "name": "stderr",
          "text": [
            "<ipython-input-11-551945fa7199>:33: FutureWarning: The behavior of DataFrame concatenation with empty or all-NA entries is deprecated. In a future version, this will no longer exclude empty or all-NA columns when determining the result dtypes. To retain the old behavior, exclude the relevant entries before the concat operation.\n",
            "  total_row_cnt_df = pd.concat([total_row_cnt_df, row_cnt_df], axis=0, join='outer', ignore_index=True)\n"
          ]
        },
        {
          "output_type": "stream",
          "name": "stdout",
          "text": [
            "   Result: <google.cloud.bigquery.table.RowIterator object at 0x7f1e6d407b50>\n",
            "   Errors:  None\n",
            "- Finish writing to Partition  20240823\n",
            "- Check: insert 0 rows.\n",
            "- Execution:  2024-08-24  Partition:  20240824\n",
            "    Table dws_campaign_cost_prd_d_inc already exists.\n"
          ]
        },
        {
          "output_type": "stream",
          "name": "stderr",
          "text": [
            "<ipython-input-11-551945fa7199>:33: FutureWarning: The behavior of DataFrame concatenation with empty or all-NA entries is deprecated. In a future version, this will no longer exclude empty or all-NA columns when determining the result dtypes. To retain the old behavior, exclude the relevant entries before the concat operation.\n",
            "  total_row_cnt_df = pd.concat([total_row_cnt_df, row_cnt_df], axis=0, join='outer', ignore_index=True)\n"
          ]
        },
        {
          "output_type": "stream",
          "name": "stdout",
          "text": [
            "   Result: <google.cloud.bigquery.table.RowIterator object at 0x7f1e6f3528c0>\n",
            "   Errors:  None\n",
            "- Finish writing to Partition  20240824\n",
            "- Check: insert 0 rows.\n",
            "- Execution:  2024-08-25  Partition:  20240825\n",
            "    Table dws_campaign_cost_prd_d_inc already exists.\n"
          ]
        },
        {
          "output_type": "stream",
          "name": "stderr",
          "text": [
            "<ipython-input-11-551945fa7199>:33: FutureWarning: The behavior of DataFrame concatenation with empty or all-NA entries is deprecated. In a future version, this will no longer exclude empty or all-NA columns when determining the result dtypes. To retain the old behavior, exclude the relevant entries before the concat operation.\n",
            "  total_row_cnt_df = pd.concat([total_row_cnt_df, row_cnt_df], axis=0, join='outer', ignore_index=True)\n"
          ]
        },
        {
          "output_type": "stream",
          "name": "stdout",
          "text": [
            "   Result: <google.cloud.bigquery.table.RowIterator object at 0x7f1e6d2dec20>\n",
            "   Errors:  None\n",
            "- Finish writing to Partition  20240825\n",
            "- Check: insert 0 rows.\n",
            "- Execution:  2024-08-26  Partition:  20240826\n",
            "    Table dws_campaign_cost_prd_d_inc already exists.\n"
          ]
        },
        {
          "output_type": "stream",
          "name": "stderr",
          "text": [
            "<ipython-input-11-551945fa7199>:33: FutureWarning: The behavior of DataFrame concatenation with empty or all-NA entries is deprecated. In a future version, this will no longer exclude empty or all-NA columns when determining the result dtypes. To retain the old behavior, exclude the relevant entries before the concat operation.\n",
            "  total_row_cnt_df = pd.concat([total_row_cnt_df, row_cnt_df], axis=0, join='outer', ignore_index=True)\n"
          ]
        },
        {
          "output_type": "stream",
          "name": "stdout",
          "text": [
            "   Result: <google.cloud.bigquery.table.RowIterator object at 0x7f1e6d4078e0>\n",
            "   Errors:  None\n",
            "- Finish writing to Partition  20240826\n",
            "- Check: insert 0 rows.\n",
            "- Execution:  2024-08-27  Partition:  20240827\n",
            "    Table dws_campaign_cost_prd_d_inc already exists.\n"
          ]
        },
        {
          "output_type": "stream",
          "name": "stderr",
          "text": [
            "<ipython-input-11-551945fa7199>:33: FutureWarning: The behavior of DataFrame concatenation with empty or all-NA entries is deprecated. In a future version, this will no longer exclude empty or all-NA columns when determining the result dtypes. To retain the old behavior, exclude the relevant entries before the concat operation.\n",
            "  total_row_cnt_df = pd.concat([total_row_cnt_df, row_cnt_df], axis=0, join='outer', ignore_index=True)\n"
          ]
        },
        {
          "output_type": "stream",
          "name": "stdout",
          "text": [
            "   Result: <google.cloud.bigquery.table.RowIterator object at 0x7f1e6d404280>\n",
            "   Errors:  None\n",
            "- Finish writing to Partition  20240827\n",
            "- Check: insert 0 rows.\n",
            "- Execution:  2024-08-28  Partition:  20240828\n",
            "    Table dws_campaign_cost_prd_d_inc already exists.\n"
          ]
        },
        {
          "output_type": "stream",
          "name": "stderr",
          "text": [
            "<ipython-input-11-551945fa7199>:33: FutureWarning: The behavior of DataFrame concatenation with empty or all-NA entries is deprecated. In a future version, this will no longer exclude empty or all-NA columns when determining the result dtypes. To retain the old behavior, exclude the relevant entries before the concat operation.\n",
            "  total_row_cnt_df = pd.concat([total_row_cnt_df, row_cnt_df], axis=0, join='outer', ignore_index=True)\n"
          ]
        },
        {
          "output_type": "stream",
          "name": "stdout",
          "text": [
            "   Result: <google.cloud.bigquery.table.RowIterator object at 0x7f1e6f1d7a30>\n",
            "   Errors:  None\n",
            "- Finish writing to Partition  20240828\n",
            "- Check: insert 0 rows.\n",
            "- Execution:  2024-08-29  Partition:  20240829\n",
            "    Table dws_campaign_cost_prd_d_inc already exists.\n"
          ]
        },
        {
          "output_type": "stream",
          "name": "stderr",
          "text": [
            "<ipython-input-11-551945fa7199>:33: FutureWarning: The behavior of DataFrame concatenation with empty or all-NA entries is deprecated. In a future version, this will no longer exclude empty or all-NA columns when determining the result dtypes. To retain the old behavior, exclude the relevant entries before the concat operation.\n",
            "  total_row_cnt_df = pd.concat([total_row_cnt_df, row_cnt_df], axis=0, join='outer', ignore_index=True)\n"
          ]
        },
        {
          "output_type": "stream",
          "name": "stdout",
          "text": [
            "   Result: <google.cloud.bigquery.table.RowIterator object at 0x7f1e6e87a890>\n",
            "   Errors:  None\n",
            "- Finish writing to Partition  20240829\n",
            "- Check: insert 0 rows.\n",
            "- Execution:  2024-08-30  Partition:  20240830\n",
            "    Table dws_campaign_cost_prd_d_inc already exists.\n"
          ]
        },
        {
          "output_type": "stream",
          "name": "stderr",
          "text": [
            "<ipython-input-11-551945fa7199>:33: FutureWarning: The behavior of DataFrame concatenation with empty or all-NA entries is deprecated. In a future version, this will no longer exclude empty or all-NA columns when determining the result dtypes. To retain the old behavior, exclude the relevant entries before the concat operation.\n",
            "  total_row_cnt_df = pd.concat([total_row_cnt_df, row_cnt_df], axis=0, join='outer', ignore_index=True)\n"
          ]
        },
        {
          "output_type": "stream",
          "name": "stdout",
          "text": [
            "   Result: <google.cloud.bigquery.table.RowIterator object at 0x7f1e6e84d000>\n",
            "   Errors:  None\n",
            "- Finish writing to Partition  20240830\n",
            "- Check: insert 0 rows.\n",
            "- Execution:  2024-08-31  Partition:  20240831\n",
            "    Table dws_campaign_cost_prd_d_inc already exists.\n"
          ]
        },
        {
          "output_type": "stream",
          "name": "stderr",
          "text": [
            "<ipython-input-11-551945fa7199>:33: FutureWarning: The behavior of DataFrame concatenation with empty or all-NA entries is deprecated. In a future version, this will no longer exclude empty or all-NA columns when determining the result dtypes. To retain the old behavior, exclude the relevant entries before the concat operation.\n",
            "  total_row_cnt_df = pd.concat([total_row_cnt_df, row_cnt_df], axis=0, join='outer', ignore_index=True)\n"
          ]
        },
        {
          "output_type": "stream",
          "name": "stdout",
          "text": [
            "   Result: <google.cloud.bigquery.table.RowIterator object at 0x7f1e6d404c10>\n",
            "   Errors:  None\n",
            "- Finish writing to Partition  20240831\n",
            "- Check: insert 0 rows.\n",
            "- Execution:  2024-09-01  Partition:  20240901\n",
            "    Table dws_campaign_cost_prd_d_inc already exists.\n"
          ]
        },
        {
          "output_type": "stream",
          "name": "stderr",
          "text": [
            "<ipython-input-11-551945fa7199>:33: FutureWarning: The behavior of DataFrame concatenation with empty or all-NA entries is deprecated. In a future version, this will no longer exclude empty or all-NA columns when determining the result dtypes. To retain the old behavior, exclude the relevant entries before the concat operation.\n",
            "  total_row_cnt_df = pd.concat([total_row_cnt_df, row_cnt_df], axis=0, join='outer', ignore_index=True)\n"
          ]
        },
        {
          "output_type": "stream",
          "name": "stdout",
          "text": [
            "   Result: <google.cloud.bigquery.table.RowIterator object at 0x7f1e6d2dec20>\n",
            "   Errors:  None\n",
            "- Finish writing to Partition  20240901\n",
            "- Check: insert 0 rows.\n",
            "- Execution:  2024-09-02  Partition:  20240902\n",
            "    Table dws_campaign_cost_prd_d_inc already exists.\n"
          ]
        },
        {
          "output_type": "stream",
          "name": "stderr",
          "text": [
            "<ipython-input-11-551945fa7199>:33: FutureWarning: The behavior of DataFrame concatenation with empty or all-NA entries is deprecated. In a future version, this will no longer exclude empty or all-NA columns when determining the result dtypes. To retain the old behavior, exclude the relevant entries before the concat operation.\n",
            "  total_row_cnt_df = pd.concat([total_row_cnt_df, row_cnt_df], axis=0, join='outer', ignore_index=True)\n"
          ]
        },
        {
          "output_type": "stream",
          "name": "stdout",
          "text": [
            "   Result: <google.cloud.bigquery.table.RowIterator object at 0x7f1e6d4069b0>\n",
            "   Errors:  None\n",
            "- Finish writing to Partition  20240902\n",
            "- Check: insert 0 rows.\n",
            "- Execution:  2024-09-03  Partition:  20240903\n",
            "    Table dws_campaign_cost_prd_d_inc already exists.\n"
          ]
        },
        {
          "output_type": "stream",
          "name": "stderr",
          "text": [
            "<ipython-input-11-551945fa7199>:33: FutureWarning: The behavior of DataFrame concatenation with empty or all-NA entries is deprecated. In a future version, this will no longer exclude empty or all-NA columns when determining the result dtypes. To retain the old behavior, exclude the relevant entries before the concat operation.\n",
            "  total_row_cnt_df = pd.concat([total_row_cnt_df, row_cnt_df], axis=0, join='outer', ignore_index=True)\n"
          ]
        },
        {
          "output_type": "stream",
          "name": "stdout",
          "text": [
            "   Result: <google.cloud.bigquery.table.RowIterator object at 0x7f1e6d407af0>\n",
            "   Errors:  None\n",
            "- Finish writing to Partition  20240903\n",
            "- Check: insert 0 rows.\n",
            "- Execution:  2024-09-04  Partition:  20240904\n",
            "    Table dws_campaign_cost_prd_d_inc already exists.\n"
          ]
        },
        {
          "output_type": "stream",
          "name": "stderr",
          "text": [
            "<ipython-input-11-551945fa7199>:33: FutureWarning: The behavior of DataFrame concatenation with empty or all-NA entries is deprecated. In a future version, this will no longer exclude empty or all-NA columns when determining the result dtypes. To retain the old behavior, exclude the relevant entries before the concat operation.\n",
            "  total_row_cnt_df = pd.concat([total_row_cnt_df, row_cnt_df], axis=0, join='outer', ignore_index=True)\n"
          ]
        },
        {
          "output_type": "stream",
          "name": "stdout",
          "text": [
            "   Result: <google.cloud.bigquery.table.RowIterator object at 0x7f1e6e87a890>\n",
            "   Errors:  None\n",
            "- Finish writing to Partition  20240904\n",
            "- Check: insert 278 rows.\n",
            "- Execution:  2024-09-05  Partition:  20240905\n",
            "    Table dws_campaign_cost_prd_d_inc already exists.\n",
            "   Result: <google.cloud.bigquery.table.RowIterator object at 0x7f1e6d407730>\n",
            "   Errors:  None\n",
            "- Finish writing to Partition  20240905\n",
            "- Check: insert 286 rows.\n",
            "- Execution:  2024-09-06  Partition:  20240906\n",
            "    Table dws_campaign_cost_prd_d_inc already exists.\n",
            "   Result: <google.cloud.bigquery.table.RowIterator object at 0x7f1e6e84fa30>\n",
            "   Errors:  None\n",
            "- Finish writing to Partition  20240906\n",
            "- Check: insert 274 rows.\n",
            "- Execution:  2024-09-07  Partition:  20240907\n",
            "    Table dws_campaign_cost_prd_d_inc already exists.\n",
            "   Result: <google.cloud.bigquery.table.RowIterator object at 0x7f1e6e84d9c0>\n",
            "   Errors:  None\n",
            "- Finish writing to Partition  20240907\n",
            "- Check: insert 313 rows.\n",
            "- Execution:  2024-09-08  Partition:  20240908\n",
            "    Table dws_campaign_cost_prd_d_inc already exists.\n",
            "   Result: <google.cloud.bigquery.table.RowIterator object at 0x7f1e6d2143a0>\n",
            "   Errors:  None\n",
            "- Finish writing to Partition  20240908\n",
            "- Check: insert 285 rows.\n",
            "- Execution:  2024-09-09  Partition:  20240909\n",
            "    Table dws_campaign_cost_prd_d_inc already exists.\n",
            "   Result: <google.cloud.bigquery.table.RowIterator object at 0x7f1e6d216290>\n",
            "   Errors:  None\n",
            "- Finish writing to Partition  20240909\n",
            "- Check: insert 261 rows.\n",
            "- Execution:  2024-09-10  Partition:  20240910\n",
            "    Table dws_campaign_cost_prd_d_inc already exists.\n",
            "   Result: <google.cloud.bigquery.table.RowIterator object at 0x7f1e6f1d6320>\n",
            "   Errors:  None\n",
            "- Finish writing to Partition  20240910\n",
            "- Check: insert 278 rows.\n",
            "- Execution:  2024-09-11  Partition:  20240911\n",
            "    Table dws_campaign_cost_prd_d_inc already exists.\n",
            "   Result: <google.cloud.bigquery.table.RowIterator object at 0x7f1e6e84ccd0>\n",
            "   Errors:  None\n",
            "- Finish writing to Partition  20240911\n",
            "- Check: insert 310 rows.\n",
            "- Execution:  2024-09-12  Partition:  20240912\n",
            "    Table dws_campaign_cost_prd_d_inc already exists.\n",
            "   Result: <google.cloud.bigquery.table.RowIterator object at 0x7f1e6e84e9b0>\n",
            "   Errors:  None\n",
            "- Finish writing to Partition  20240912\n",
            "- Check: insert 0 rows.\n",
            "- Execution:  2024-09-13  Partition:  20240913\n",
            "    Table dws_campaign_cost_prd_d_inc already exists.\n"
          ]
        },
        {
          "output_type": "stream",
          "name": "stderr",
          "text": [
            "<ipython-input-11-551945fa7199>:33: FutureWarning: The behavior of DataFrame concatenation with empty or all-NA entries is deprecated. In a future version, this will no longer exclude empty or all-NA columns when determining the result dtypes. To retain the old behavior, exclude the relevant entries before the concat operation.\n",
            "  total_row_cnt_df = pd.concat([total_row_cnt_df, row_cnt_df], axis=0, join='outer', ignore_index=True)\n"
          ]
        },
        {
          "output_type": "stream",
          "name": "stdout",
          "text": [
            "   Result: <google.cloud.bigquery.table.RowIterator object at 0x7f1e6d407790>\n",
            "   Errors:  None\n",
            "- Finish writing to Partition  20240913\n",
            "- Check: insert 0 rows.\n",
            "- Execution:  2024-09-14  Partition:  20240914\n",
            "    Table dws_campaign_cost_prd_d_inc already exists.\n"
          ]
        },
        {
          "output_type": "stream",
          "name": "stderr",
          "text": [
            "<ipython-input-11-551945fa7199>:33: FutureWarning: The behavior of DataFrame concatenation with empty or all-NA entries is deprecated. In a future version, this will no longer exclude empty or all-NA columns when determining the result dtypes. To retain the old behavior, exclude the relevant entries before the concat operation.\n",
            "  total_row_cnt_df = pd.concat([total_row_cnt_df, row_cnt_df], axis=0, join='outer', ignore_index=True)\n"
          ]
        },
        {
          "output_type": "stream",
          "name": "stdout",
          "text": [
            "   Result: <google.cloud.bigquery.table.RowIterator object at 0x7f1e6e879e10>\n",
            "   Errors:  None\n",
            "- Finish writing to Partition  20240914\n",
            "- Check: insert 0 rows.\n",
            "- Execution:  2024-09-15  Partition:  20240915\n",
            "    Table dws_campaign_cost_prd_d_inc already exists.\n"
          ]
        },
        {
          "output_type": "stream",
          "name": "stderr",
          "text": [
            "<ipython-input-11-551945fa7199>:33: FutureWarning: The behavior of DataFrame concatenation with empty or all-NA entries is deprecated. In a future version, this will no longer exclude empty or all-NA columns when determining the result dtypes. To retain the old behavior, exclude the relevant entries before the concat operation.\n",
            "  total_row_cnt_df = pd.concat([total_row_cnt_df, row_cnt_df], axis=0, join='outer', ignore_index=True)\n"
          ]
        },
        {
          "output_type": "stream",
          "name": "stdout",
          "text": [
            "   Result: <google.cloud.bigquery.table.RowIterator object at 0x7f1e6d404100>\n",
            "   Errors:  None\n",
            "- Finish writing to Partition  20240915\n",
            "- Check: insert 161 rows.\n",
            "- Execution:  2024-09-16  Partition:  20240916\n",
            "    Table dws_campaign_cost_prd_d_inc already exists.\n",
            "   Result: <google.cloud.bigquery.table.RowIterator object at 0x7f1e6e87acb0>\n",
            "   Errors:  None\n",
            "- Finish writing to Partition  20240916\n",
            "- Check: insert 160 rows.\n",
            "- Execution:  2024-09-17  Partition:  20240917\n",
            "    Table dws_campaign_cost_prd_d_inc already exists.\n",
            "   Result: <google.cloud.bigquery.table.RowIterator object at 0x7f1e6e87acb0>\n",
            "   Errors:  None\n",
            "- Finish writing to Partition  20240917\n",
            "- Check: insert 163 rows.\n",
            "- Execution:  2024-09-18  Partition:  20240918\n",
            "    Table dws_campaign_cost_prd_d_inc already exists.\n",
            "   Result: <google.cloud.bigquery.table.RowIterator object at 0x7f1e6e879bd0>\n",
            "   Errors:  None\n",
            "- Finish writing to Partition  20240918\n",
            "- Check: insert 171 rows.\n",
            "- Execution:  2024-09-19  Partition:  20240919\n",
            "    Table dws_campaign_cost_prd_d_inc already exists.\n",
            "   Result: <google.cloud.bigquery.table.RowIterator object at 0x7f1e6f353eb0>\n",
            "   Errors:  None\n",
            "- Finish writing to Partition  20240919\n",
            "- Check: insert 182 rows.\n",
            "- Execution:  2024-09-20  Partition:  20240920\n",
            "    Table dws_campaign_cost_prd_d_inc already exists.\n",
            "   Result: <google.cloud.bigquery.table.RowIterator object at 0x7f1e6e84eaa0>\n",
            "   Errors:  None\n",
            "- Finish writing to Partition  20240920\n",
            "- Check: insert 177 rows.\n",
            "- Execution:  2024-09-21  Partition:  20240921\n",
            "    Table dws_campaign_cost_prd_d_inc already exists.\n",
            "   Result: <google.cloud.bigquery.table.RowIterator object at 0x7f1e6f1bf1f0>\n",
            "   Errors:  None\n",
            "- Finish writing to Partition  20240921\n",
            "- Check: insert 183 rows.\n",
            "- Execution:  2024-09-22  Partition:  20240922\n",
            "    Table dws_campaign_cost_prd_d_inc already exists.\n",
            "   Result: <google.cloud.bigquery.table.RowIterator object at 0x7f1e6f1bc520>\n",
            "   Errors:  None\n",
            "- Finish writing to Partition  20240922\n",
            "- Check: insert 177 rows.\n",
            "- Execution:  2024-09-23  Partition:  20240923\n",
            "    Table dws_campaign_cost_prd_d_inc already exists.\n",
            "   Result: <google.cloud.bigquery.table.RowIterator object at 0x7f1e6e84e9b0>\n",
            "   Errors:  None\n",
            "- Finish writing to Partition  20240923\n",
            "- Check: insert 0 rows.\n",
            "- Execution:  2024-09-24  Partition:  20240924\n",
            "    Table dws_campaign_cost_prd_d_inc already exists.\n"
          ]
        },
        {
          "output_type": "stream",
          "name": "stderr",
          "text": [
            "<ipython-input-11-551945fa7199>:33: FutureWarning: The behavior of DataFrame concatenation with empty or all-NA entries is deprecated. In a future version, this will no longer exclude empty or all-NA columns when determining the result dtypes. To retain the old behavior, exclude the relevant entries before the concat operation.\n",
            "  total_row_cnt_df = pd.concat([total_row_cnt_df, row_cnt_df], axis=0, join='outer', ignore_index=True)\n"
          ]
        },
        {
          "output_type": "stream",
          "name": "stdout",
          "text": [
            "   Result: <google.cloud.bigquery.table.RowIterator object at 0x7f1e6e878f10>\n",
            "   Errors:  None\n",
            "- Finish writing to Partition  20240924\n",
            "- Check: insert 0 rows.\n",
            "- Execution:  2024-09-25  Partition:  20240925\n",
            "    Table dws_campaign_cost_prd_d_inc already exists.\n"
          ]
        },
        {
          "output_type": "stream",
          "name": "stderr",
          "text": [
            "<ipython-input-11-551945fa7199>:33: FutureWarning: The behavior of DataFrame concatenation with empty or all-NA entries is deprecated. In a future version, this will no longer exclude empty or all-NA columns when determining the result dtypes. To retain the old behavior, exclude the relevant entries before the concat operation.\n",
            "  total_row_cnt_df = pd.concat([total_row_cnt_df, row_cnt_df], axis=0, join='outer', ignore_index=True)\n"
          ]
        },
        {
          "output_type": "stream",
          "name": "stdout",
          "text": [
            "   Result: <google.cloud.bigquery.table.RowIterator object at 0x7f1e6d2ddfc0>\n",
            "   Errors:  None\n",
            "- Finish writing to Partition  20240925\n",
            "- Check: insert 0 rows.\n",
            "- Execution:  2024-09-26  Partition:  20240926\n",
            "    Table dws_campaign_cost_prd_d_inc already exists.\n"
          ]
        },
        {
          "output_type": "stream",
          "name": "stderr",
          "text": [
            "<ipython-input-11-551945fa7199>:33: FutureWarning: The behavior of DataFrame concatenation with empty or all-NA entries is deprecated. In a future version, this will no longer exclude empty or all-NA columns when determining the result dtypes. To retain the old behavior, exclude the relevant entries before the concat operation.\n",
            "  total_row_cnt_df = pd.concat([total_row_cnt_df, row_cnt_df], axis=0, join='outer', ignore_index=True)\n"
          ]
        },
        {
          "output_type": "stream",
          "name": "stdout",
          "text": [
            "   Result: <google.cloud.bigquery.table.RowIterator object at 0x7f1e6d2de3e0>\n",
            "   Errors:  None\n",
            "- Finish writing to Partition  20240926\n",
            "- Check: insert 0 rows.\n",
            "- Execution:  2024-09-27  Partition:  20240927\n",
            "    Table dws_campaign_cost_prd_d_inc already exists.\n"
          ]
        },
        {
          "output_type": "stream",
          "name": "stderr",
          "text": [
            "<ipython-input-11-551945fa7199>:33: FutureWarning: The behavior of DataFrame concatenation with empty or all-NA entries is deprecated. In a future version, this will no longer exclude empty or all-NA columns when determining the result dtypes. To retain the old behavior, exclude the relevant entries before the concat operation.\n",
            "  total_row_cnt_df = pd.concat([total_row_cnt_df, row_cnt_df], axis=0, join='outer', ignore_index=True)\n"
          ]
        },
        {
          "output_type": "stream",
          "name": "stdout",
          "text": [
            "   Result: <google.cloud.bigquery.table.RowIterator object at 0x7f1e6d2dc580>\n",
            "   Errors:  None\n",
            "- Finish writing to Partition  20240927\n",
            "- Check: insert 239 rows.\n",
            "- Execution:  2024-09-28  Partition:  20240928\n",
            "    Table dws_campaign_cost_prd_d_inc already exists.\n",
            "   Result: <google.cloud.bigquery.table.RowIterator object at 0x7f1e6d4069b0>\n",
            "   Errors:  None\n",
            "- Finish writing to Partition  20240928\n",
            "- Check: insert 202 rows.\n",
            "- Execution:  2024-09-29  Partition:  20240929\n",
            "    Table dws_campaign_cost_prd_d_inc already exists.\n",
            "   Result: <google.cloud.bigquery.table.RowIterator object at 0x7f1e6d2deb00>\n",
            "   Errors:  None\n",
            "- Finish writing to Partition  20240929\n",
            "- Check: insert 198 rows.\n",
            "- Execution:  2024-09-30  Partition:  20240930\n",
            "    Table dws_campaign_cost_prd_d_inc already exists.\n",
            "   Result: <google.cloud.bigquery.table.RowIterator object at 0x7f1e6e87acb0>\n",
            "   Errors:  None\n",
            "- Finish writing to Partition  20240930\n",
            "- Check: insert 190 rows.\n",
            "- Execution:  2024-10-01  Partition:  20241001\n",
            "    Table dws_campaign_cost_prd_d_inc already exists.\n",
            "   Result: <google.cloud.bigquery.table.RowIterator object at 0x7f1e6d404fa0>\n",
            "   Errors:  None\n",
            "- Finish writing to Partition  20241001\n",
            "- Check: insert 194 rows.\n",
            "- Execution:  2024-10-02  Partition:  20241002\n",
            "    Table dws_campaign_cost_prd_d_inc already exists.\n",
            "   Result: <google.cloud.bigquery.table.RowIterator object at 0x7f1e6d2dcb50>\n",
            "   Errors:  None\n",
            "- Finish writing to Partition  20241002\n",
            "- Check: insert 195 rows.\n",
            "- Execution:  2024-10-03  Partition:  20241003\n",
            "    Table dws_campaign_cost_prd_d_inc already exists.\n",
            "   Result: <google.cloud.bigquery.table.RowIterator object at 0x7f1e6e84f6d0>\n",
            "   Errors:  None\n",
            "- Finish writing to Partition  20241003\n",
            "- Check: insert 226 rows.\n",
            "- Execution:  2024-10-04  Partition:  20241004\n",
            "    Table dws_campaign_cost_prd_d_inc already exists.\n",
            "   Result: <google.cloud.bigquery.table.RowIterator object at 0x7f1e6f1bd570>\n",
            "   Errors:  None\n",
            "- Finish writing to Partition  20241004\n",
            "- Check: insert 221 rows.\n",
            "- Execution:  2024-10-05  Partition:  20241005\n",
            "    Table dws_campaign_cost_prd_d_inc already exists.\n",
            "   Result: <google.cloud.bigquery.table.RowIterator object at 0x7f1e6e84c4c0>\n",
            "   Errors:  None\n",
            "- Finish writing to Partition  20241005\n",
            "- Check: insert 227 rows.\n",
            "- Execution:  2024-10-06  Partition:  20241006\n",
            "    Table dws_campaign_cost_prd_d_inc already exists.\n",
            "   Result: <google.cloud.bigquery.table.RowIterator object at 0x7f1e6d214700>\n",
            "   Errors:  None\n",
            "- Finish writing to Partition  20241006\n",
            "- Check: insert 201 rows.\n",
            "- Execution:  2024-10-07  Partition:  20241007\n",
            "    Table dws_campaign_cost_prd_d_inc already exists.\n",
            "   Result: <google.cloud.bigquery.table.RowIterator object at 0x7f1e6d2158a0>\n",
            "   Errors:  None\n",
            "- Finish writing to Partition  20241007\n",
            "- Check: insert 212 rows.\n",
            "- Execution:  2024-10-08  Partition:  20241008\n",
            "    Table dws_campaign_cost_prd_d_inc already exists.\n",
            "   Result: <google.cloud.bigquery.table.RowIterator object at 0x7f1e6d215f90>\n",
            "   Errors:  None\n",
            "- Finish writing to Partition  20241008\n",
            "- Check: insert 247 rows.\n",
            "- Execution:  2024-10-09  Partition:  20241009\n",
            "    Table dws_campaign_cost_prd_d_inc already exists.\n",
            "   Result: <google.cloud.bigquery.table.RowIterator object at 0x7f1e6d216b60>\n",
            "   Errors:  None\n",
            "- Finish writing to Partition  20241009\n",
            "- Check: insert 230 rows.\n",
            "- Execution:  2024-10-10  Partition:  20241010\n",
            "    Table dws_campaign_cost_prd_d_inc already exists.\n",
            "   Result: <google.cloud.bigquery.table.RowIterator object at 0x7f1e6e84f6d0>\n",
            "   Errors:  None\n",
            "- Finish writing to Partition  20241010\n",
            "- Check: insert 198 rows.\n",
            "- Execution:  2024-10-11  Partition:  20241011\n",
            "    Table dws_campaign_cost_prd_d_inc already exists.\n",
            "   Result: <google.cloud.bigquery.table.RowIterator object at 0x7f1e6d215c60>\n",
            "   Errors:  None\n",
            "- Finish writing to Partition  20241011\n",
            "- Check: insert 228 rows.\n",
            "- Execution:  2024-10-12  Partition:  20241012\n",
            "    Table dws_campaign_cost_prd_d_inc already exists.\n",
            "   Result: <google.cloud.bigquery.table.RowIterator object at 0x7f1e6d214850>\n",
            "   Errors:  None\n",
            "- Finish writing to Partition  20241012\n",
            "- Check: insert 0 rows.\n",
            "- Execution:  2024-10-13  Partition:  20241013\n",
            "    Table dws_campaign_cost_prd_d_inc already exists.\n"
          ]
        },
        {
          "output_type": "stream",
          "name": "stderr",
          "text": [
            "<ipython-input-11-551945fa7199>:33: FutureWarning: The behavior of DataFrame concatenation with empty or all-NA entries is deprecated. In a future version, this will no longer exclude empty or all-NA columns when determining the result dtypes. To retain the old behavior, exclude the relevant entries before the concat operation.\n",
            "  total_row_cnt_df = pd.concat([total_row_cnt_df, row_cnt_df], axis=0, join='outer', ignore_index=True)\n"
          ]
        },
        {
          "output_type": "stream",
          "name": "stdout",
          "text": [
            "   Result: <google.cloud.bigquery.table.RowIterator object at 0x7f1e6d2167d0>\n",
            "   Errors:  None\n",
            "- Finish writing to Partition  20241013\n",
            "- Check: insert 0 rows.\n",
            "- Execution:  2024-10-14  Partition:  20241014\n",
            "    Table dws_campaign_cost_prd_d_inc already exists.\n"
          ]
        },
        {
          "output_type": "stream",
          "name": "stderr",
          "text": [
            "<ipython-input-11-551945fa7199>:33: FutureWarning: The behavior of DataFrame concatenation with empty or all-NA entries is deprecated. In a future version, this will no longer exclude empty or all-NA columns when determining the result dtypes. To retain the old behavior, exclude the relevant entries before the concat operation.\n",
            "  total_row_cnt_df = pd.concat([total_row_cnt_df, row_cnt_df], axis=0, join='outer', ignore_index=True)\n"
          ]
        },
        {
          "output_type": "stream",
          "name": "stdout",
          "text": [
            "   Result: <google.cloud.bigquery.table.RowIterator object at 0x7f1e6d214cd0>\n",
            "   Errors:  None\n",
            "- Finish writing to Partition  20241014\n",
            "- Check: insert 0 rows.\n",
            "- Execution:  2024-10-15  Partition:  20241015\n",
            "    Table dws_campaign_cost_prd_d_inc already exists.\n"
          ]
        },
        {
          "output_type": "stream",
          "name": "stderr",
          "text": [
            "<ipython-input-11-551945fa7199>:33: FutureWarning: The behavior of DataFrame concatenation with empty or all-NA entries is deprecated. In a future version, this will no longer exclude empty or all-NA columns when determining the result dtypes. To retain the old behavior, exclude the relevant entries before the concat operation.\n",
            "  total_row_cnt_df = pd.concat([total_row_cnt_df, row_cnt_df], axis=0, join='outer', ignore_index=True)\n"
          ]
        },
        {
          "output_type": "stream",
          "name": "stdout",
          "text": [
            "   Result: <google.cloud.bigquery.table.RowIterator object at 0x7f1e6d214610>\n",
            "   Errors:  None\n",
            "- Finish writing to Partition  20241015\n",
            "- Check: insert 0 rows.\n",
            "- Execution:  2024-10-16  Partition:  20241016\n",
            "    Table dws_campaign_cost_prd_d_inc already exists.\n"
          ]
        },
        {
          "output_type": "stream",
          "name": "stderr",
          "text": [
            "<ipython-input-11-551945fa7199>:33: FutureWarning: The behavior of DataFrame concatenation with empty or all-NA entries is deprecated. In a future version, this will no longer exclude empty or all-NA columns when determining the result dtypes. To retain the old behavior, exclude the relevant entries before the concat operation.\n",
            "  total_row_cnt_df = pd.concat([total_row_cnt_df, row_cnt_df], axis=0, join='outer', ignore_index=True)\n"
          ]
        },
        {
          "output_type": "stream",
          "name": "stdout",
          "text": [
            "   Result: <google.cloud.bigquery.table.RowIterator object at 0x7f1e6d217850>\n",
            "   Errors:  None\n",
            "- Finish writing to Partition  20241016\n",
            "- Check: insert 0 rows.\n",
            "- Execution:  2024-10-17  Partition:  20241017\n",
            "    Table dws_campaign_cost_prd_d_inc already exists.\n"
          ]
        },
        {
          "output_type": "stream",
          "name": "stderr",
          "text": [
            "<ipython-input-11-551945fa7199>:33: FutureWarning: The behavior of DataFrame concatenation with empty or all-NA entries is deprecated. In a future version, this will no longer exclude empty or all-NA columns when determining the result dtypes. To retain the old behavior, exclude the relevant entries before the concat operation.\n",
            "  total_row_cnt_df = pd.concat([total_row_cnt_df, row_cnt_df], axis=0, join='outer', ignore_index=True)\n"
          ]
        },
        {
          "output_type": "stream",
          "name": "stdout",
          "text": [
            "   Result: <google.cloud.bigquery.table.RowIterator object at 0x7f1e6d214250>\n",
            "   Errors:  None\n",
            "- Finish writing to Partition  20241017\n",
            "- Check: insert 0 rows.\n",
            "- Execution:  2024-10-18  Partition:  20241018\n",
            "    Table dws_campaign_cost_prd_d_inc already exists.\n"
          ]
        },
        {
          "output_type": "stream",
          "name": "stderr",
          "text": [
            "<ipython-input-11-551945fa7199>:33: FutureWarning: The behavior of DataFrame concatenation with empty or all-NA entries is deprecated. In a future version, this will no longer exclude empty or all-NA columns when determining the result dtypes. To retain the old behavior, exclude the relevant entries before the concat operation.\n",
            "  total_row_cnt_df = pd.concat([total_row_cnt_df, row_cnt_df], axis=0, join='outer', ignore_index=True)\n"
          ]
        },
        {
          "output_type": "stream",
          "name": "stdout",
          "text": [
            "   Result: <google.cloud.bigquery.table.RowIterator object at 0x7f1e6d214610>\n",
            "   Errors:  None\n",
            "- Finish writing to Partition  20241018\n",
            "- Check: insert 0 rows.\n",
            "- Execution:  2024-10-19  Partition:  20241019\n",
            "    Table dws_campaign_cost_prd_d_inc already exists.\n"
          ]
        },
        {
          "output_type": "stream",
          "name": "stderr",
          "text": [
            "<ipython-input-11-551945fa7199>:33: FutureWarning: The behavior of DataFrame concatenation with empty or all-NA entries is deprecated. In a future version, this will no longer exclude empty or all-NA columns when determining the result dtypes. To retain the old behavior, exclude the relevant entries before the concat operation.\n",
            "  total_row_cnt_df = pd.concat([total_row_cnt_df, row_cnt_df], axis=0, join='outer', ignore_index=True)\n"
          ]
        },
        {
          "output_type": "stream",
          "name": "stdout",
          "text": [
            "   Result: <google.cloud.bigquery.table.RowIterator object at 0x7f1e6d217b20>\n",
            "   Errors:  None\n",
            "- Finish writing to Partition  20241019\n",
            "- Check: insert 0 rows.\n",
            "- Execution:  2024-10-20  Partition:  20241020\n",
            "    Table dws_campaign_cost_prd_d_inc already exists.\n"
          ]
        },
        {
          "output_type": "stream",
          "name": "stderr",
          "text": [
            "<ipython-input-11-551945fa7199>:33: FutureWarning: The behavior of DataFrame concatenation with empty or all-NA entries is deprecated. In a future version, this will no longer exclude empty or all-NA columns when determining the result dtypes. To retain the old behavior, exclude the relevant entries before the concat operation.\n",
            "  total_row_cnt_df = pd.concat([total_row_cnt_df, row_cnt_df], axis=0, join='outer', ignore_index=True)\n"
          ]
        },
        {
          "output_type": "stream",
          "name": "stdout",
          "text": [
            "   Result: <google.cloud.bigquery.table.RowIterator object at 0x7f1e6d217a30>\n",
            "   Errors:  None\n",
            "- Finish writing to Partition  20241020\n",
            "- Check: insert 0 rows.\n",
            "- Execution:  2024-10-21  Partition:  20241021\n",
            "    Table dws_campaign_cost_prd_d_inc already exists.\n"
          ]
        },
        {
          "output_type": "stream",
          "name": "stderr",
          "text": [
            "<ipython-input-11-551945fa7199>:33: FutureWarning: The behavior of DataFrame concatenation with empty or all-NA entries is deprecated. In a future version, this will no longer exclude empty or all-NA columns when determining the result dtypes. To retain the old behavior, exclude the relevant entries before the concat operation.\n",
            "  total_row_cnt_df = pd.concat([total_row_cnt_df, row_cnt_df], axis=0, join='outer', ignore_index=True)\n"
          ]
        },
        {
          "output_type": "stream",
          "name": "stdout",
          "text": [
            "   Result: <google.cloud.bigquery.table.RowIterator object at 0x7f1e6d216b90>\n",
            "   Errors:  None\n",
            "- Finish writing to Partition  20241021\n",
            "- Check: insert 0 rows.\n",
            "- Execution:  2024-10-22  Partition:  20241022\n",
            "    Table dws_campaign_cost_prd_d_inc already exists.\n"
          ]
        },
        {
          "output_type": "stream",
          "name": "stderr",
          "text": [
            "<ipython-input-11-551945fa7199>:33: FutureWarning: The behavior of DataFrame concatenation with empty or all-NA entries is deprecated. In a future version, this will no longer exclude empty or all-NA columns when determining the result dtypes. To retain the old behavior, exclude the relevant entries before the concat operation.\n",
            "  total_row_cnt_df = pd.concat([total_row_cnt_df, row_cnt_df], axis=0, join='outer', ignore_index=True)\n"
          ]
        },
        {
          "output_type": "stream",
          "name": "stdout",
          "text": [
            "   Result: <google.cloud.bigquery.table.RowIterator object at 0x7f1e6d2153f0>\n",
            "   Errors:  None\n",
            "- Finish writing to Partition  20241022\n",
            "- Check: insert 0 rows.\n",
            "- Execution:  2024-10-23  Partition:  20241023\n",
            "    Table dws_campaign_cost_prd_d_inc already exists.\n"
          ]
        },
        {
          "output_type": "stream",
          "name": "stderr",
          "text": [
            "<ipython-input-11-551945fa7199>:33: FutureWarning: The behavior of DataFrame concatenation with empty or all-NA entries is deprecated. In a future version, this will no longer exclude empty or all-NA columns when determining the result dtypes. To retain the old behavior, exclude the relevant entries before the concat operation.\n",
            "  total_row_cnt_df = pd.concat([total_row_cnt_df, row_cnt_df], axis=0, join='outer', ignore_index=True)\n"
          ]
        },
        {
          "output_type": "stream",
          "name": "stdout",
          "text": [
            "   Result: <google.cloud.bigquery.table.RowIterator object at 0x7f1e6d216dd0>\n",
            "   Errors:  None\n",
            "- Finish writing to Partition  20241023\n",
            "- Check: insert 0 rows.\n",
            "- Execution:  2024-10-24  Partition:  20241024\n",
            "    Table dws_campaign_cost_prd_d_inc already exists.\n"
          ]
        },
        {
          "output_type": "stream",
          "name": "stderr",
          "text": [
            "<ipython-input-11-551945fa7199>:33: FutureWarning: The behavior of DataFrame concatenation with empty or all-NA entries is deprecated. In a future version, this will no longer exclude empty or all-NA columns when determining the result dtypes. To retain the old behavior, exclude the relevant entries before the concat operation.\n",
            "  total_row_cnt_df = pd.concat([total_row_cnt_df, row_cnt_df], axis=0, join='outer', ignore_index=True)\n"
          ]
        },
        {
          "output_type": "stream",
          "name": "stdout",
          "text": [
            "   Result: <google.cloud.bigquery.table.RowIterator object at 0x7f1e6d2169e0>\n",
            "   Errors:  None\n",
            "- Finish writing to Partition  20241024\n",
            "- Check: insert 0 rows.\n",
            "- Execution:  2024-10-25  Partition:  20241025\n",
            "    Table dws_campaign_cost_prd_d_inc already exists.\n"
          ]
        },
        {
          "output_type": "stream",
          "name": "stderr",
          "text": [
            "<ipython-input-11-551945fa7199>:33: FutureWarning: The behavior of DataFrame concatenation with empty or all-NA entries is deprecated. In a future version, this will no longer exclude empty or all-NA columns when determining the result dtypes. To retain the old behavior, exclude the relevant entries before the concat operation.\n",
            "  total_row_cnt_df = pd.concat([total_row_cnt_df, row_cnt_df], axis=0, join='outer', ignore_index=True)\n"
          ]
        },
        {
          "output_type": "stream",
          "name": "stdout",
          "text": [
            "   Result: <google.cloud.bigquery.table.RowIterator object at 0x7f1e6d217130>\n",
            "   Errors:  None\n",
            "- Finish writing to Partition  20241025\n",
            "- Check: insert 108 rows.\n",
            "- Execution:  2024-10-26  Partition:  20241026\n",
            "    Table dws_campaign_cost_prd_d_inc already exists.\n",
            "   Result: <google.cloud.bigquery.table.RowIterator object at 0x7f1e6d217eb0>\n",
            "   Errors:  None\n",
            "- Finish writing to Partition  20241026\n",
            "- Check: insert 113 rows.\n",
            "- Execution:  2024-10-27  Partition:  20241027\n",
            "    Table dws_campaign_cost_prd_d_inc already exists.\n",
            "   Result: <google.cloud.bigquery.table.RowIterator object at 0x7f1e6d216020>\n",
            "   Errors:  None\n",
            "- Finish writing to Partition  20241027\n",
            "- Check: insert 115 rows.\n",
            "- Execution:  2024-10-28  Partition:  20241028\n",
            "    Table dws_campaign_cost_prd_d_inc already exists.\n",
            "   Result: <google.cloud.bigquery.table.RowIterator object at 0x7f1e6d2174f0>\n",
            "   Errors:  None\n",
            "- Finish writing to Partition  20241028\n",
            "- Check: insert 111 rows.\n",
            "- Execution:  2024-10-29  Partition:  20241029\n",
            "    Table dws_campaign_cost_prd_d_inc already exists.\n",
            "   Result: <google.cloud.bigquery.table.RowIterator object at 0x7f1e6d2161d0>\n",
            "   Errors:  None\n",
            "- Finish writing to Partition  20241029\n",
            "- Check: insert 113 rows.\n",
            "- Execution:  2024-10-30  Partition:  20241030\n",
            "    Table dws_campaign_cost_prd_d_inc already exists.\n",
            "   Result: <google.cloud.bigquery.table.RowIterator object at 0x7f1e6d216230>\n",
            "   Errors:  None\n",
            "- Finish writing to Partition  20241030\n",
            "- Check: insert 108 rows.\n",
            "- Execution:  2024-10-31  Partition:  20241031\n",
            "    Table dws_campaign_cost_prd_d_inc already exists.\n",
            "   Result: <google.cloud.bigquery.table.RowIterator object at 0x7f1e6d2de3e0>\n",
            "   Errors:  None\n",
            "- Finish writing to Partition  20241031\n",
            "- Check: insert 115 rows.\n",
            "- Execution:  2024-11-01  Partition:  20241101\n",
            "    Table dws_campaign_cost_prd_d_inc already exists.\n",
            "   Result: <google.cloud.bigquery.table.RowIterator object at 0x7f1e6d2de680>\n",
            "   Errors:  None\n",
            "- Finish writing to Partition  20241101\n",
            "- Check: insert 118 rows.\n",
            "- Execution:  2024-11-02  Partition:  20241102\n",
            "    Table dws_campaign_cost_prd_d_inc already exists.\n",
            "   Result: <google.cloud.bigquery.table.RowIterator object at 0x7f1e6d2dff40>\n",
            "   Errors:  None\n",
            "- Finish writing to Partition  20241102\n",
            "- Check: insert 112 rows.\n",
            "- Execution:  2024-11-03  Partition:  20241103\n",
            "    Table dws_campaign_cost_prd_d_inc already exists.\n",
            "   Result: <google.cloud.bigquery.table.RowIterator object at 0x7f1e6f1bd9c0>\n",
            "   Errors:  None\n",
            "- Finish writing to Partition  20241103\n",
            "- Check: insert 97 rows.\n",
            "- Execution:  2024-11-04  Partition:  20241104\n",
            "    Table dws_campaign_cost_prd_d_inc already exists.\n",
            "   Result: <google.cloud.bigquery.table.RowIterator object at 0x7f1e6f353790>\n",
            "   Errors:  None\n",
            "- Finish writing to Partition  20241104\n",
            "- Check: insert 135 rows.\n",
            "- Execution:  2024-11-05  Partition:  20241105\n",
            "    Table dws_campaign_cost_prd_d_inc already exists.\n",
            "   Result: <google.cloud.bigquery.table.RowIterator object at 0x7f1e6f1bfd60>\n",
            "   Errors:  None\n",
            "- Finish writing to Partition  20241105\n",
            "- Check: insert 92 rows.\n",
            "- Execution:  2024-11-06  Partition:  20241106\n",
            "    Table dws_campaign_cost_prd_d_inc already exists.\n",
            "   Result: <google.cloud.bigquery.table.RowIterator object at 0x7f1eb4162350>\n",
            "   Errors:  None\n",
            "- Finish writing to Partition  20241106\n",
            "- Check: insert 122 rows.\n",
            "- Execution:  2024-11-07  Partition:  20241107\n",
            "    Table dws_campaign_cost_prd_d_inc already exists.\n",
            "   Result: <google.cloud.bigquery.table.RowIterator object at 0x7f1e6d407550>\n",
            "   Errors:  None\n",
            "- Finish writing to Partition  20241107\n",
            "- Check: insert 116 rows.\n",
            "- Execution:  2024-11-08  Partition:  20241108\n",
            "    Table dws_campaign_cost_prd_d_inc already exists.\n",
            "   Result: <google.cloud.bigquery.table.RowIterator object at 0x7f1e6f353eb0>\n",
            "   Errors:  None\n",
            "- Finish writing to Partition  20241108\n",
            "- Check: insert 103 rows.\n",
            "- Execution:  2024-11-09  Partition:  20241109\n",
            "    Table dws_campaign_cost_prd_d_inc already exists.\n",
            "   Result: <google.cloud.bigquery.table.RowIterator object at 0x7f1e6d2dcfd0>\n",
            "   Errors:  None\n",
            "- Finish writing to Partition  20241109\n",
            "- Check: insert 0 rows.\n",
            "- Execution:  2024-11-10  Partition:  20241110\n",
            "    Table dws_campaign_cost_prd_d_inc already exists.\n"
          ]
        },
        {
          "output_type": "stream",
          "name": "stderr",
          "text": [
            "<ipython-input-11-551945fa7199>:33: FutureWarning: The behavior of DataFrame concatenation with empty or all-NA entries is deprecated. In a future version, this will no longer exclude empty or all-NA columns when determining the result dtypes. To retain the old behavior, exclude the relevant entries before the concat operation.\n",
            "  total_row_cnt_df = pd.concat([total_row_cnt_df, row_cnt_df], axis=0, join='outer', ignore_index=True)\n"
          ]
        },
        {
          "output_type": "stream",
          "name": "stdout",
          "text": [
            "   Result: <google.cloud.bigquery.table.RowIterator object at 0x7f1e6e878f10>\n",
            "   Errors:  None\n",
            "- Finish writing to Partition  20241110\n",
            "- Check: insert 0 rows.\n",
            "- Execution:  2024-11-11  Partition:  20241111\n",
            "    Table dws_campaign_cost_prd_d_inc already exists.\n"
          ]
        },
        {
          "output_type": "stream",
          "name": "stderr",
          "text": [
            "<ipython-input-11-551945fa7199>:33: FutureWarning: The behavior of DataFrame concatenation with empty or all-NA entries is deprecated. In a future version, this will no longer exclude empty or all-NA columns when determining the result dtypes. To retain the old behavior, exclude the relevant entries before the concat operation.\n",
            "  total_row_cnt_df = pd.concat([total_row_cnt_df, row_cnt_df], axis=0, join='outer', ignore_index=True)\n"
          ]
        },
        {
          "output_type": "stream",
          "name": "stdout",
          "text": [
            "   Result: <google.cloud.bigquery.table.RowIterator object at 0x7f1e6d2dc910>\n",
            "   Errors:  None\n",
            "- Finish writing to Partition  20241111\n",
            "- Check: insert 0 rows.\n",
            "- Execution:  2024-11-12  Partition:  20241112\n",
            "    Table dws_campaign_cost_prd_d_inc already exists.\n"
          ]
        },
        {
          "output_type": "stream",
          "name": "stderr",
          "text": [
            "<ipython-input-11-551945fa7199>:33: FutureWarning: The behavior of DataFrame concatenation with empty or all-NA entries is deprecated. In a future version, this will no longer exclude empty or all-NA columns when determining the result dtypes. To retain the old behavior, exclude the relevant entries before the concat operation.\n",
            "  total_row_cnt_df = pd.concat([total_row_cnt_df, row_cnt_df], axis=0, join='outer', ignore_index=True)\n"
          ]
        },
        {
          "output_type": "stream",
          "name": "stdout",
          "text": [
            "   Result: <google.cloud.bigquery.table.RowIterator object at 0x7f1e6d216b30>\n",
            "   Errors:  None\n",
            "- Finish writing to Partition  20241112\n",
            "- Check: insert 0 rows.\n",
            "- Execution:  2024-11-13  Partition:  20241113\n",
            "    Table dws_campaign_cost_prd_d_inc already exists.\n"
          ]
        },
        {
          "output_type": "stream",
          "name": "stderr",
          "text": [
            "<ipython-input-11-551945fa7199>:33: FutureWarning: The behavior of DataFrame concatenation with empty or all-NA entries is deprecated. In a future version, this will no longer exclude empty or all-NA columns when determining the result dtypes. To retain the old behavior, exclude the relevant entries before the concat operation.\n",
            "  total_row_cnt_df = pd.concat([total_row_cnt_df, row_cnt_df], axis=0, join='outer', ignore_index=True)\n"
          ]
        },
        {
          "output_type": "stream",
          "name": "stdout",
          "text": [
            "   Result: <google.cloud.bigquery.table.RowIterator object at 0x7f1e6d2df6a0>\n",
            "   Errors:  None\n",
            "- Finish writing to Partition  20241113\n",
            "- Check: insert 0 rows.\n",
            "- Execution:  2024-11-14  Partition:  20241114\n",
            "    Table dws_campaign_cost_prd_d_inc already exists.\n"
          ]
        },
        {
          "output_type": "stream",
          "name": "stderr",
          "text": [
            "<ipython-input-11-551945fa7199>:33: FutureWarning: The behavior of DataFrame concatenation with empty or all-NA entries is deprecated. In a future version, this will no longer exclude empty or all-NA columns when determining the result dtypes. To retain the old behavior, exclude the relevant entries before the concat operation.\n",
            "  total_row_cnt_df = pd.concat([total_row_cnt_df, row_cnt_df], axis=0, join='outer', ignore_index=True)\n"
          ]
        },
        {
          "output_type": "stream",
          "name": "stdout",
          "text": [
            "   Result: <google.cloud.bigquery.table.RowIterator object at 0x7f1e6d407dc0>\n",
            "   Errors:  None\n",
            "- Finish writing to Partition  20241114\n",
            "- Check: insert 0 rows.\n",
            "- Execution:  2024-11-15  Partition:  20241115\n",
            "    Table dws_campaign_cost_prd_d_inc already exists.\n"
          ]
        },
        {
          "output_type": "stream",
          "name": "stderr",
          "text": [
            "<ipython-input-11-551945fa7199>:33: FutureWarning: The behavior of DataFrame concatenation with empty or all-NA entries is deprecated. In a future version, this will no longer exclude empty or all-NA columns when determining the result dtypes. To retain the old behavior, exclude the relevant entries before the concat operation.\n",
            "  total_row_cnt_df = pd.concat([total_row_cnt_df, row_cnt_df], axis=0, join='outer', ignore_index=True)\n"
          ]
        },
        {
          "output_type": "stream",
          "name": "stdout",
          "text": [
            "   Result: <google.cloud.bigquery.table.RowIterator object at 0x7f1ea3ac0040>\n",
            "   Errors:  None\n",
            "- Finish writing to Partition  20241115\n",
            "- Check: insert 0 rows.\n",
            "- Execution:  2024-11-16  Partition:  20241116\n",
            "    Table dws_campaign_cost_prd_d_inc already exists.\n"
          ]
        },
        {
          "output_type": "stream",
          "name": "stderr",
          "text": [
            "<ipython-input-11-551945fa7199>:33: FutureWarning: The behavior of DataFrame concatenation with empty or all-NA entries is deprecated. In a future version, this will no longer exclude empty or all-NA columns when determining the result dtypes. To retain the old behavior, exclude the relevant entries before the concat operation.\n",
            "  total_row_cnt_df = pd.concat([total_row_cnt_df, row_cnt_df], axis=0, join='outer', ignore_index=True)\n"
          ]
        },
        {
          "output_type": "stream",
          "name": "stdout",
          "text": [
            "   Result: <google.cloud.bigquery.table.RowIterator object at 0x7f1e6e84d6c0>\n",
            "   Errors:  None\n",
            "- Finish writing to Partition  20241116\n",
            "- Check: insert 0 rows.\n",
            "- Execution:  2024-11-17  Partition:  20241117\n",
            "    Table dws_campaign_cost_prd_d_inc already exists.\n"
          ]
        },
        {
          "output_type": "stream",
          "name": "stderr",
          "text": [
            "<ipython-input-11-551945fa7199>:33: FutureWarning: The behavior of DataFrame concatenation with empty or all-NA entries is deprecated. In a future version, this will no longer exclude empty or all-NA columns when determining the result dtypes. To retain the old behavior, exclude the relevant entries before the concat operation.\n",
            "  total_row_cnt_df = pd.concat([total_row_cnt_df, row_cnt_df], axis=0, join='outer', ignore_index=True)\n"
          ]
        },
        {
          "output_type": "stream",
          "name": "stdout",
          "text": [
            "   Result: <google.cloud.bigquery.table.RowIterator object at 0x7f1e6e87b5b0>\n",
            "   Errors:  None\n",
            "- Finish writing to Partition  20241117\n",
            "- Check: insert 0 rows.\n",
            "- Execution:  2024-11-18  Partition:  20241118\n",
            "    Table dws_campaign_cost_prd_d_inc already exists.\n"
          ]
        },
        {
          "output_type": "stream",
          "name": "stderr",
          "text": [
            "<ipython-input-11-551945fa7199>:33: FutureWarning: The behavior of DataFrame concatenation with empty or all-NA entries is deprecated. In a future version, this will no longer exclude empty or all-NA columns when determining the result dtypes. To retain the old behavior, exclude the relevant entries before the concat operation.\n",
            "  total_row_cnt_df = pd.concat([total_row_cnt_df, row_cnt_df], axis=0, join='outer', ignore_index=True)\n"
          ]
        },
        {
          "output_type": "stream",
          "name": "stdout",
          "text": [
            "   Result: <google.cloud.bigquery.table.RowIterator object at 0x7f1e6d216dd0>\n",
            "   Errors:  None\n",
            "- Finish writing to Partition  20241118\n",
            "- Check: insert 0 rows.\n",
            "- Execution:  2024-11-19  Partition:  20241119\n",
            "    Table dws_campaign_cost_prd_d_inc already exists.\n"
          ]
        },
        {
          "output_type": "stream",
          "name": "stderr",
          "text": [
            "<ipython-input-11-551945fa7199>:33: FutureWarning: The behavior of DataFrame concatenation with empty or all-NA entries is deprecated. In a future version, this will no longer exclude empty or all-NA columns when determining the result dtypes. To retain the old behavior, exclude the relevant entries before the concat operation.\n",
            "  total_row_cnt_df = pd.concat([total_row_cnt_df, row_cnt_df], axis=0, join='outer', ignore_index=True)\n"
          ]
        },
        {
          "output_type": "stream",
          "name": "stdout",
          "text": [
            "   Result: <google.cloud.bigquery.table.RowIterator object at 0x7f1e6d406950>\n",
            "   Errors:  None\n",
            "- Finish writing to Partition  20241119\n",
            "- Check: insert 0 rows.\n",
            "- Execution:  2024-11-20  Partition:  20241120\n",
            "    Table dws_campaign_cost_prd_d_inc already exists.\n"
          ]
        },
        {
          "output_type": "stream",
          "name": "stderr",
          "text": [
            "<ipython-input-11-551945fa7199>:33: FutureWarning: The behavior of DataFrame concatenation with empty or all-NA entries is deprecated. In a future version, this will no longer exclude empty or all-NA columns when determining the result dtypes. To retain the old behavior, exclude the relevant entries before the concat operation.\n",
            "  total_row_cnt_df = pd.concat([total_row_cnt_df, row_cnt_df], axis=0, join='outer', ignore_index=True)\n"
          ]
        },
        {
          "output_type": "stream",
          "name": "stdout",
          "text": [
            "   Result: <google.cloud.bigquery.table.RowIterator object at 0x7f1e6d2dc1c0>\n",
            "   Errors:  None\n",
            "- Finish writing to Partition  20241120\n",
            "- Check: insert 0 rows.\n",
            "- Execution:  2024-11-21  Partition:  20241121\n",
            "    Table dws_campaign_cost_prd_d_inc already exists.\n"
          ]
        },
        {
          "output_type": "stream",
          "name": "stderr",
          "text": [
            "<ipython-input-11-551945fa7199>:33: FutureWarning: The behavior of DataFrame concatenation with empty or all-NA entries is deprecated. In a future version, this will no longer exclude empty or all-NA columns when determining the result dtypes. To retain the old behavior, exclude the relevant entries before the concat operation.\n",
            "  total_row_cnt_df = pd.concat([total_row_cnt_df, row_cnt_df], axis=0, join='outer', ignore_index=True)\n"
          ]
        },
        {
          "output_type": "stream",
          "name": "stdout",
          "text": [
            "   Result: <google.cloud.bigquery.table.RowIterator object at 0x7f1ea3ac0040>\n",
            "   Errors:  None\n",
            "- Finish writing to Partition  20241121\n",
            "- Check: insert 186 rows.\n",
            "- Execution:  2024-11-22  Partition:  20241122\n",
            "    Table dws_campaign_cost_prd_d_inc already exists.\n",
            "   Result: <google.cloud.bigquery.table.RowIterator object at 0x7f1e6e84eb60>\n",
            "   Errors:  None\n",
            "- Finish writing to Partition  20241122\n",
            "- Check: insert 163 rows.\n",
            "- Execution:  2024-11-23  Partition:  20241123\n",
            "    Table dws_campaign_cost_prd_d_inc already exists.\n",
            "   Result: <google.cloud.bigquery.table.RowIterator object at 0x7f1e6f1bda50>\n",
            "   Errors:  None\n",
            "- Finish writing to Partition  20241123\n",
            "- Check: insert 183 rows.\n",
            "- Execution:  2024-11-24  Partition:  20241124\n",
            "    Table dws_campaign_cost_prd_d_inc already exists.\n",
            "   Result: <google.cloud.bigquery.table.RowIterator object at 0x7f1e6f3528c0>\n",
            "   Errors:  None\n",
            "- Finish writing to Partition  20241124\n",
            "- Check: insert 176 rows.\n",
            "- Execution:  2024-11-25  Partition:  20241125\n",
            "    Table dws_campaign_cost_prd_d_inc already exists.\n",
            "   Result: <google.cloud.bigquery.table.RowIterator object at 0x7f1e6e84e1d0>\n",
            "   Errors:  None\n",
            "- Finish writing to Partition  20241125\n",
            "- Check: insert 158 rows.\n",
            "- Execution:  2024-11-26  Partition:  20241126\n",
            "    Table dws_campaign_cost_prd_d_inc already exists.\n",
            "   Result: <google.cloud.bigquery.table.RowIterator object at 0x7f1e6f1bd240>\n",
            "   Errors:  None\n",
            "- Finish writing to Partition  20241126\n",
            "- Check: insert 185 rows.\n",
            "- Execution:  2024-11-27  Partition:  20241127\n",
            "    Table dws_campaign_cost_prd_d_inc already exists.\n",
            "   Result: <google.cloud.bigquery.table.RowIterator object at 0x7f1e6f3537c0>\n",
            "   Errors:  None\n",
            "- Finish writing to Partition  20241127\n",
            "- Check: insert 183 rows.\n",
            "- Execution:  2024-11-28  Partition:  20241128\n",
            "    Table dws_campaign_cost_prd_d_inc already exists.\n",
            "   Result: <google.cloud.bigquery.table.RowIterator object at 0x7f1e6e879660>\n",
            "   Errors:  None\n",
            "- Finish writing to Partition  20241128\n",
            "- Check: insert 177 rows.\n",
            "- Execution:  2024-11-29  Partition:  20241129\n",
            "    Table dws_campaign_cost_prd_d_inc already exists.\n",
            "   Result: <google.cloud.bigquery.table.RowIterator object at 0x7f1e6e84ded0>\n",
            "   Errors:  None\n",
            "- Finish writing to Partition  20241129\n",
            "- Check: insert 176 rows.\n",
            "- Execution:  2024-11-30  Partition:  20241130\n",
            "    Table dws_campaign_cost_prd_d_inc already exists.\n",
            "   Result: <google.cloud.bigquery.table.RowIterator object at 0x7f1e6e87acb0>\n",
            "   Errors:  None\n",
            "- Finish writing to Partition  20241130\n",
            "- Check: insert 180 rows.\n",
            "- Execution:  2024-12-01  Partition:  20241201\n",
            "    Table dws_campaign_cost_prd_d_inc already exists.\n",
            "   Result: <google.cloud.bigquery.table.RowIterator object at 0x7f1e6e84d4b0>\n",
            "   Errors:  None\n",
            "- Finish writing to Partition  20241201\n",
            "- Check: insert 173 rows.\n",
            "- Execution:  2024-12-02  Partition:  20241202\n",
            "    Table dws_campaign_cost_prd_d_inc already exists.\n",
            "   Result: <google.cloud.bigquery.table.RowIterator object at 0x7f1e6d2df1f0>\n",
            "   Errors:  None\n",
            "- Finish writing to Partition  20241202\n",
            "- Check: insert 191 rows.\n",
            "- Execution:  2024-12-03  Partition:  20241203\n",
            "    Table dws_campaign_cost_prd_d_inc already exists.\n",
            "   Result: <google.cloud.bigquery.table.RowIterator object at 0x7f1e6d2df1c0>\n",
            "   Errors:  None\n",
            "- Finish writing to Partition  20241203\n",
            "- Check: insert 169 rows.\n",
            "- Execution:  2024-12-04  Partition:  20241204\n",
            "    Table dws_campaign_cost_prd_d_inc already exists.\n",
            "   Result: <google.cloud.bigquery.table.RowIterator object at 0x7f1e6e84fd00>\n",
            "   Errors:  None\n",
            "- Finish writing to Partition  20241204\n",
            "- Check: insert 170 rows.\n",
            "- Execution:  2024-12-05  Partition:  20241205\n",
            "    Table dws_campaign_cost_prd_d_inc already exists.\n",
            "   Result: <google.cloud.bigquery.table.RowIterator object at 0x7f1e6d2dd240>\n",
            "   Errors:  None\n",
            "- Finish writing to Partition  20241205\n",
            "- Check: insert 172 rows.\n",
            "- Execution:  2024-12-06  Partition:  20241206\n",
            "    Table dws_campaign_cost_prd_d_inc already exists.\n",
            "   Result: <google.cloud.bigquery.table.RowIterator object at 0x7f1e6f1d5120>\n",
            "   Errors:  None\n",
            "- Finish writing to Partition  20241206\n",
            "- Check: insert 0 rows.\n",
            "- Execution:  2024-12-07  Partition:  20241207\n",
            "    Table dws_campaign_cost_prd_d_inc already exists.\n"
          ]
        },
        {
          "output_type": "stream",
          "name": "stderr",
          "text": [
            "<ipython-input-11-551945fa7199>:33: FutureWarning: The behavior of DataFrame concatenation with empty or all-NA entries is deprecated. In a future version, this will no longer exclude empty or all-NA columns when determining the result dtypes. To retain the old behavior, exclude the relevant entries before the concat operation.\n",
            "  total_row_cnt_df = pd.concat([total_row_cnt_df, row_cnt_df], axis=0, join='outer', ignore_index=True)\n"
          ]
        },
        {
          "output_type": "stream",
          "name": "stdout",
          "text": [
            "   Result: <google.cloud.bigquery.table.RowIterator object at 0x7f1e6d214c40>\n",
            "   Errors:  None\n",
            "- Finish writing to Partition  20241207\n",
            "- Check: insert 0 rows.\n",
            "- Execution:  2024-12-08  Partition:  20241208\n",
            "    Table dws_campaign_cost_prd_d_inc already exists.\n"
          ]
        },
        {
          "output_type": "stream",
          "name": "stderr",
          "text": [
            "<ipython-input-11-551945fa7199>:33: FutureWarning: The behavior of DataFrame concatenation with empty or all-NA entries is deprecated. In a future version, this will no longer exclude empty or all-NA columns when determining the result dtypes. To retain the old behavior, exclude the relevant entries before the concat operation.\n",
            "  total_row_cnt_df = pd.concat([total_row_cnt_df, row_cnt_df], axis=0, join='outer', ignore_index=True)\n"
          ]
        },
        {
          "output_type": "stream",
          "name": "stdout",
          "text": [
            "   Result: <google.cloud.bigquery.table.RowIterator object at 0x7f1e6d214730>\n",
            "   Errors:  None\n",
            "- Finish writing to Partition  20241208\n",
            "- Check: insert 0 rows.\n",
            "- Execution:  2024-12-09  Partition:  20241209\n",
            "    Table dws_campaign_cost_prd_d_inc already exists.\n"
          ]
        },
        {
          "output_type": "stream",
          "name": "stderr",
          "text": [
            "<ipython-input-11-551945fa7199>:33: FutureWarning: The behavior of DataFrame concatenation with empty or all-NA entries is deprecated. In a future version, this will no longer exclude empty or all-NA columns when determining the result dtypes. To retain the old behavior, exclude the relevant entries before the concat operation.\n",
            "  total_row_cnt_df = pd.concat([total_row_cnt_df, row_cnt_df], axis=0, join='outer', ignore_index=True)\n"
          ]
        },
        {
          "output_type": "stream",
          "name": "stdout",
          "text": [
            "   Result: <google.cloud.bigquery.table.RowIterator object at 0x7f1e6d217e20>\n",
            "   Errors:  None\n",
            "- Finish writing to Partition  20241209\n",
            "- Check: insert 0 rows.\n",
            "- Execution:  2024-12-10  Partition:  20241210\n",
            "    Table dws_campaign_cost_prd_d_inc already exists.\n"
          ]
        },
        {
          "output_type": "stream",
          "name": "stderr",
          "text": [
            "<ipython-input-11-551945fa7199>:33: FutureWarning: The behavior of DataFrame concatenation with empty or all-NA entries is deprecated. In a future version, this will no longer exclude empty or all-NA columns when determining the result dtypes. To retain the old behavior, exclude the relevant entries before the concat operation.\n",
            "  total_row_cnt_df = pd.concat([total_row_cnt_df, row_cnt_df], axis=0, join='outer', ignore_index=True)\n"
          ]
        },
        {
          "output_type": "stream",
          "name": "stdout",
          "text": [
            "   Result: <google.cloud.bigquery.table.RowIterator object at 0x7f1e6d2168c0>\n",
            "   Errors:  None\n",
            "- Finish writing to Partition  20241210\n",
            "- Check: insert 0 rows.\n",
            "- Execution:  2024-12-11  Partition:  20241211\n",
            "    Table dws_campaign_cost_prd_d_inc already exists.\n"
          ]
        },
        {
          "output_type": "stream",
          "name": "stderr",
          "text": [
            "<ipython-input-11-551945fa7199>:33: FutureWarning: The behavior of DataFrame concatenation with empty or all-NA entries is deprecated. In a future version, this will no longer exclude empty or all-NA columns when determining the result dtypes. To retain the old behavior, exclude the relevant entries before the concat operation.\n",
            "  total_row_cnt_df = pd.concat([total_row_cnt_df, row_cnt_df], axis=0, join='outer', ignore_index=True)\n"
          ]
        },
        {
          "output_type": "stream",
          "name": "stdout",
          "text": [
            "   Result: <google.cloud.bigquery.table.RowIterator object at 0x7f1e6d216020>\n",
            "   Errors:  None\n",
            "- Finish writing to Partition  20241211\n",
            "- Check: insert 0 rows.\n",
            "- Execution:  2024-12-12  Partition:  20241212\n",
            "    Table dws_campaign_cost_prd_d_inc already exists.\n"
          ]
        },
        {
          "output_type": "stream",
          "name": "stderr",
          "text": [
            "<ipython-input-11-551945fa7199>:33: FutureWarning: The behavior of DataFrame concatenation with empty or all-NA entries is deprecated. In a future version, this will no longer exclude empty or all-NA columns when determining the result dtypes. To retain the old behavior, exclude the relevant entries before the concat operation.\n",
            "  total_row_cnt_df = pd.concat([total_row_cnt_df, row_cnt_df], axis=0, join='outer', ignore_index=True)\n"
          ]
        },
        {
          "output_type": "stream",
          "name": "stdout",
          "text": [
            "   Result: <google.cloud.bigquery.table.RowIterator object at 0x7f1e6d217c40>\n",
            "   Errors:  None\n",
            "- Finish writing to Partition  20241212\n",
            "- Check: insert 0 rows.\n",
            "- Execution:  2024-12-13  Partition:  20241213\n",
            "    Table dws_campaign_cost_prd_d_inc already exists.\n"
          ]
        },
        {
          "output_type": "stream",
          "name": "stderr",
          "text": [
            "<ipython-input-11-551945fa7199>:33: FutureWarning: The behavior of DataFrame concatenation with empty or all-NA entries is deprecated. In a future version, this will no longer exclude empty or all-NA columns when determining the result dtypes. To retain the old behavior, exclude the relevant entries before the concat operation.\n",
            "  total_row_cnt_df = pd.concat([total_row_cnt_df, row_cnt_df], axis=0, join='outer', ignore_index=True)\n"
          ]
        },
        {
          "output_type": "stream",
          "name": "stdout",
          "text": [
            "   Result: <google.cloud.bigquery.table.RowIterator object at 0x7f1e6d214d90>\n",
            "   Errors:  None\n",
            "- Finish writing to Partition  20241213\n",
            "- Check: insert 0 rows.\n",
            "- Execution:  2024-12-14  Partition:  20241214\n"
          ]
        },
        {
          "output_type": "stream",
          "name": "stderr",
          "text": [
            "<ipython-input-11-551945fa7199>:33: FutureWarning: The behavior of DataFrame concatenation with empty or all-NA entries is deprecated. In a future version, this will no longer exclude empty or all-NA columns when determining the result dtypes. To retain the old behavior, exclude the relevant entries before the concat operation.\n",
            "  total_row_cnt_df = pd.concat([total_row_cnt_df, row_cnt_df], axis=0, join='outer', ignore_index=True)\n"
          ]
        },
        {
          "output_type": "stream",
          "name": "stdout",
          "text": [
            "    Table dws_campaign_cost_prd_d_inc already exists.\n",
            "   Result: <google.cloud.bigquery.table.RowIterator object at 0x7f1e6d217f40>\n",
            "   Errors:  None\n",
            "- Finish writing to Partition  20241214\n",
            "- Check: insert 246 rows.\n",
            "- Execution:  2024-12-15  Partition:  20241215\n",
            "    Table dws_campaign_cost_prd_d_inc already exists.\n",
            "   Result: <google.cloud.bigquery.table.RowIterator object at 0x7f1e6d2177c0>\n",
            "   Errors:  None\n",
            "- Finish writing to Partition  20241215\n",
            "- Check: insert 246 rows.\n",
            "- Execution:  2024-12-16  Partition:  20241216\n",
            "    Table dws_campaign_cost_prd_d_inc already exists.\n",
            "   Result: <google.cloud.bigquery.table.RowIterator object at 0x7f1e6d217100>\n",
            "   Errors:  None\n",
            "- Finish writing to Partition  20241216\n",
            "- Check: insert 252 rows.\n",
            "- Execution:  2024-12-17  Partition:  20241217\n",
            "    Table dws_campaign_cost_prd_d_inc already exists.\n",
            "   Result: <google.cloud.bigquery.table.RowIterator object at 0x7f1e6d216920>\n",
            "   Errors:  None\n",
            "- Finish writing to Partition  20241217\n",
            "- Check: insert 226 rows.\n",
            "- Execution:  2024-12-18  Partition:  20241218\n",
            "    Table dws_campaign_cost_prd_d_inc already exists.\n",
            "   Result: <google.cloud.bigquery.table.RowIterator object at 0x7f1e6d216560>\n",
            "   Errors:  None\n",
            "- Finish writing to Partition  20241218\n",
            "- Check: insert 250 rows.\n",
            "- Execution:  2024-12-19  Partition:  20241219\n",
            "    Table dws_campaign_cost_prd_d_inc already exists.\n",
            "   Result: <google.cloud.bigquery.table.RowIterator object at 0x7f1e6d215900>\n",
            "   Errors:  None\n",
            "- Finish writing to Partition  20241219\n",
            "- Check: insert 258 rows.\n",
            "- Execution:  2024-12-20  Partition:  20241220\n",
            "    Table dws_campaign_cost_prd_d_inc already exists.\n",
            "   Result: <google.cloud.bigquery.table.RowIterator object at 0x7f1e6d216bf0>\n",
            "   Errors:  None\n",
            "- Finish writing to Partition  20241220\n",
            "- Check: insert 262 rows.\n",
            "- Execution:  2024-12-21  Partition:  20241221\n",
            "    Table dws_campaign_cost_prd_d_inc already exists.\n",
            "   Result: <google.cloud.bigquery.table.RowIterator object at 0x7f1e6d216c50>\n",
            "   Errors:  None\n",
            "- Finish writing to Partition  20241221\n",
            "- Check: insert 228 rows.\n",
            "- Execution:  2024-12-22  Partition:  20241222\n",
            "    Table dws_campaign_cost_prd_d_inc already exists.\n",
            "   Result: <google.cloud.bigquery.table.RowIterator object at 0x7f1e6d2150c0>\n",
            "   Errors:  None\n",
            "- Finish writing to Partition  20241222\n",
            "- Check: insert 229 rows.\n",
            "- Execution:  2024-12-23  Partition:  20241223\n",
            "    Table dws_campaign_cost_prd_d_inc already exists.\n",
            "   Result: <google.cloud.bigquery.table.RowIterator object at 0x7f1e6d217f70>\n",
            "   Errors:  None\n",
            "- Finish writing to Partition  20241223\n",
            "- Check: insert 272 rows.\n",
            "- Execution:  2024-12-24  Partition:  20241224\n",
            "    Table dws_campaign_cost_prd_d_inc already exists.\n",
            "   Result: <google.cloud.bigquery.table.RowIterator object at 0x7f1e6d215ff0>\n",
            "   Errors:  None\n",
            "- Finish writing to Partition  20241224\n",
            "- Check: insert 264 rows.\n",
            "- Execution:  2024-12-25  Partition:  20241225\n",
            "    Table dws_campaign_cost_prd_d_inc already exists.\n",
            "   Result: <google.cloud.bigquery.table.RowIterator object at 0x7f1e6d0e1390>\n",
            "   Errors:  None\n",
            "- Finish writing to Partition  20241225\n",
            "- Check: insert 236 rows.\n",
            "- Execution:  2024-12-26  Partition:  20241226\n",
            "    Table dws_campaign_cost_prd_d_inc already exists.\n",
            "   Result: <google.cloud.bigquery.table.RowIterator object at 0x7f1e6d0e23e0>\n",
            "   Errors:  None\n",
            "- Finish writing to Partition  20241226\n",
            "- Check: insert 248 rows.\n",
            "- Execution:  2024-12-27  Partition:  20241227\n",
            "    Table dws_campaign_cost_prd_d_inc already exists.\n",
            "   Result: <google.cloud.bigquery.table.RowIterator object at 0x7f1e6d216020>\n",
            "   Errors:  None\n",
            "- Finish writing to Partition  20241227\n",
            "- Check: insert 248 rows.\n",
            "- Execution:  2024-12-28  Partition:  20241228\n",
            "    Table dws_campaign_cost_prd_d_inc already exists.\n",
            "   Result: <google.cloud.bigquery.table.RowIterator object at 0x7f1e6d215300>\n",
            "   Errors:  None\n",
            "- Finish writing to Partition  20241228\n",
            "- Check: insert 256 rows.\n",
            "- Execution:  2024-12-29  Partition:  20241229\n",
            "    Table dws_campaign_cost_prd_d_inc already exists.\n",
            "   Result: <google.cloud.bigquery.table.RowIterator object at 0x7f1e6d216020>\n",
            "   Errors:  None\n",
            "- Finish writing to Partition  20241229\n",
            "- Check: insert 0 rows.\n",
            "- Execution:  2024-12-30  Partition:  20241230\n",
            "    Table dws_campaign_cost_prd_d_inc already exists.\n"
          ]
        },
        {
          "output_type": "stream",
          "name": "stderr",
          "text": [
            "<ipython-input-11-551945fa7199>:33: FutureWarning: The behavior of DataFrame concatenation with empty or all-NA entries is deprecated. In a future version, this will no longer exclude empty or all-NA columns when determining the result dtypes. To retain the old behavior, exclude the relevant entries before the concat operation.\n",
            "  total_row_cnt_df = pd.concat([total_row_cnt_df, row_cnt_df], axis=0, join='outer', ignore_index=True)\n"
          ]
        },
        {
          "output_type": "stream",
          "name": "stdout",
          "text": [
            "   Result: <google.cloud.bigquery.table.RowIterator object at 0x7f1e6d217e50>\n",
            "   Errors:  None\n",
            "- Finish writing to Partition  20241230\n",
            "- Check: insert 0 rows.\n",
            "- Execution:  2024-12-31  Partition:  20241231\n",
            "    Table dws_campaign_cost_prd_d_inc already exists.\n"
          ]
        },
        {
          "output_type": "stream",
          "name": "stderr",
          "text": [
            "<ipython-input-11-551945fa7199>:33: FutureWarning: The behavior of DataFrame concatenation with empty or all-NA entries is deprecated. In a future version, this will no longer exclude empty or all-NA columns when determining the result dtypes. To retain the old behavior, exclude the relevant entries before the concat operation.\n",
            "  total_row_cnt_df = pd.concat([total_row_cnt_df, row_cnt_df], axis=0, join='outer', ignore_index=True)\n"
          ]
        },
        {
          "output_type": "stream",
          "name": "stdout",
          "text": [
            "   Result: <google.cloud.bigquery.table.RowIterator object at 0x7f1e6e87bac0>\n",
            "   Errors:  None\n",
            "- Finish writing to Partition  20241231\n",
            "- Check: insert 0 rows.\n",
            "- Execution:  2025-01-01  Partition:  20250101\n",
            "    Table dws_campaign_cost_prd_d_inc already exists.\n"
          ]
        },
        {
          "output_type": "stream",
          "name": "stderr",
          "text": [
            "<ipython-input-11-551945fa7199>:33: FutureWarning: The behavior of DataFrame concatenation with empty or all-NA entries is deprecated. In a future version, this will no longer exclude empty or all-NA columns when determining the result dtypes. To retain the old behavior, exclude the relevant entries before the concat operation.\n",
            "  total_row_cnt_df = pd.concat([total_row_cnt_df, row_cnt_df], axis=0, join='outer', ignore_index=True)\n"
          ]
        },
        {
          "output_type": "stream",
          "name": "stdout",
          "text": [
            "   Result: <google.cloud.bigquery.table.RowIterator object at 0x7f1e6d2167a0>\n",
            "   Errors:  None\n",
            "- Finish writing to Partition  20250101\n",
            "- Check: insert 0 rows.\n",
            "- Execution:  2025-01-02  Partition:  20250102\n",
            "    Table dws_campaign_cost_prd_d_inc already exists.\n"
          ]
        },
        {
          "output_type": "stream",
          "name": "stderr",
          "text": [
            "<ipython-input-11-551945fa7199>:33: FutureWarning: The behavior of DataFrame concatenation with empty or all-NA entries is deprecated. In a future version, this will no longer exclude empty or all-NA columns when determining the result dtypes. To retain the old behavior, exclude the relevant entries before the concat operation.\n",
            "  total_row_cnt_df = pd.concat([total_row_cnt_df, row_cnt_df], axis=0, join='outer', ignore_index=True)\n"
          ]
        },
        {
          "output_type": "stream",
          "name": "stdout",
          "text": [
            "   Result: <google.cloud.bigquery.table.RowIterator object at 0x7f1ea2e52aa0>\n",
            "   Errors:  None\n",
            "- Finish writing to Partition  20250102\n",
            "- Check: insert 0 rows.\n",
            "- Execution:  2025-01-03  Partition:  20250103\n",
            "    Table dws_campaign_cost_prd_d_inc already exists.\n"
          ]
        },
        {
          "output_type": "stream",
          "name": "stderr",
          "text": [
            "<ipython-input-11-551945fa7199>:33: FutureWarning: The behavior of DataFrame concatenation with empty or all-NA entries is deprecated. In a future version, this will no longer exclude empty or all-NA columns when determining the result dtypes. To retain the old behavior, exclude the relevant entries before the concat operation.\n",
            "  total_row_cnt_df = pd.concat([total_row_cnt_df, row_cnt_df], axis=0, join='outer', ignore_index=True)\n"
          ]
        },
        {
          "output_type": "stream",
          "name": "stdout",
          "text": [
            "   Result: <google.cloud.bigquery.table.RowIterator object at 0x7f1e6e87b7f0>\n",
            "   Errors:  None\n",
            "- Finish writing to Partition  20250103\n",
            "- Check: insert 0 rows.\n",
            "- Execution:  2025-01-04  Partition:  20250104\n",
            "    Table dws_campaign_cost_prd_d_inc already exists.\n"
          ]
        },
        {
          "output_type": "stream",
          "name": "stderr",
          "text": [
            "<ipython-input-11-551945fa7199>:33: FutureWarning: The behavior of DataFrame concatenation with empty or all-NA entries is deprecated. In a future version, this will no longer exclude empty or all-NA columns when determining the result dtypes. To retain the old behavior, exclude the relevant entries before the concat operation.\n",
            "  total_row_cnt_df = pd.concat([total_row_cnt_df, row_cnt_df], axis=0, join='outer', ignore_index=True)\n"
          ]
        },
        {
          "output_type": "stream",
          "name": "stdout",
          "text": [
            "   Result: <google.cloud.bigquery.table.RowIterator object at 0x7f1e6d215b40>\n",
            "   Errors:  None\n",
            "- Finish writing to Partition  20250104\n",
            "- Check: insert 0 rows.\n",
            "- Execution:  2025-01-05  Partition:  20250105\n",
            "    Table dws_campaign_cost_prd_d_inc already exists.\n"
          ]
        },
        {
          "output_type": "stream",
          "name": "stderr",
          "text": [
            "<ipython-input-11-551945fa7199>:33: FutureWarning: The behavior of DataFrame concatenation with empty or all-NA entries is deprecated. In a future version, this will no longer exclude empty or all-NA columns when determining the result dtypes. To retain the old behavior, exclude the relevant entries before the concat operation.\n",
            "  total_row_cnt_df = pd.concat([total_row_cnt_df, row_cnt_df], axis=0, join='outer', ignore_index=True)\n"
          ]
        },
        {
          "output_type": "stream",
          "name": "stdout",
          "text": [
            "   Result: <google.cloud.bigquery.table.RowIterator object at 0x7f1e6d2de080>\n",
            "   Errors:  None\n",
            "- Finish writing to Partition  20250105\n",
            "- Check: insert 0 rows.\n",
            "- Execution:  2025-01-06  Partition:  20250106\n",
            "    Table dws_campaign_cost_prd_d_inc already exists.\n"
          ]
        },
        {
          "output_type": "stream",
          "name": "stderr",
          "text": [
            "<ipython-input-11-551945fa7199>:33: FutureWarning: The behavior of DataFrame concatenation with empty or all-NA entries is deprecated. In a future version, this will no longer exclude empty or all-NA columns when determining the result dtypes. To retain the old behavior, exclude the relevant entries before the concat operation.\n",
            "  total_row_cnt_df = pd.concat([total_row_cnt_df, row_cnt_df], axis=0, join='outer', ignore_index=True)\n"
          ]
        },
        {
          "output_type": "stream",
          "name": "stdout",
          "text": [
            "   Result: <google.cloud.bigquery.table.RowIterator object at 0x7f1e6e87ada0>\n",
            "   Errors:  None\n",
            "- Finish writing to Partition  20250106\n",
            "- Check: insert 0 rows.\n",
            "- Execution:  2025-01-07  Partition:  20250107\n",
            "    Table dws_campaign_cost_prd_d_inc already exists.\n"
          ]
        },
        {
          "output_type": "stream",
          "name": "stderr",
          "text": [
            "<ipython-input-11-551945fa7199>:33: FutureWarning: The behavior of DataFrame concatenation with empty or all-NA entries is deprecated. In a future version, this will no longer exclude empty or all-NA columns when determining the result dtypes. To retain the old behavior, exclude the relevant entries before the concat operation.\n",
            "  total_row_cnt_df = pd.concat([total_row_cnt_df, row_cnt_df], axis=0, join='outer', ignore_index=True)\n"
          ]
        },
        {
          "output_type": "stream",
          "name": "stdout",
          "text": [
            "   Result: <google.cloud.bigquery.table.RowIterator object at 0x7f1e6d2de080>\n",
            "   Errors:  None\n",
            "- Finish writing to Partition  20250107\n",
            "- Check: insert 0 rows.\n",
            "- Execution:  2025-01-08  Partition:  20250108\n",
            "    Table dws_campaign_cost_prd_d_inc already exists.\n"
          ]
        },
        {
          "output_type": "stream",
          "name": "stderr",
          "text": [
            "<ipython-input-11-551945fa7199>:33: FutureWarning: The behavior of DataFrame concatenation with empty or all-NA entries is deprecated. In a future version, this will no longer exclude empty or all-NA columns when determining the result dtypes. To retain the old behavior, exclude the relevant entries before the concat operation.\n",
            "  total_row_cnt_df = pd.concat([total_row_cnt_df, row_cnt_df], axis=0, join='outer', ignore_index=True)\n"
          ]
        },
        {
          "output_type": "stream",
          "name": "stdout",
          "text": [
            "   Result: <google.cloud.bigquery.table.RowIterator object at 0x7f1e6d214430>\n",
            "   Errors:  None\n",
            "- Finish writing to Partition  20250108\n",
            "- Check: insert 0 rows.\n",
            "- Execution:  2025-01-09  Partition:  20250109\n",
            "    Table dws_campaign_cost_prd_d_inc already exists.\n"
          ]
        },
        {
          "output_type": "stream",
          "name": "stderr",
          "text": [
            "<ipython-input-11-551945fa7199>:33: FutureWarning: The behavior of DataFrame concatenation with empty or all-NA entries is deprecated. In a future version, this will no longer exclude empty or all-NA columns when determining the result dtypes. To retain the old behavior, exclude the relevant entries before the concat operation.\n",
            "  total_row_cnt_df = pd.concat([total_row_cnt_df, row_cnt_df], axis=0, join='outer', ignore_index=True)\n"
          ]
        },
        {
          "output_type": "stream",
          "name": "stdout",
          "text": [
            "   Result: <google.cloud.bigquery.table.RowIterator object at 0x7f1e6e87ada0>\n",
            "   Errors:  None\n",
            "- Finish writing to Partition  20250109\n",
            "- Check: insert 0 rows.\n",
            "- Execution:  2025-01-10  Partition:  20250110\n",
            "    Table dws_campaign_cost_prd_d_inc already exists.\n"
          ]
        },
        {
          "output_type": "stream",
          "name": "stderr",
          "text": [
            "<ipython-input-11-551945fa7199>:33: FutureWarning: The behavior of DataFrame concatenation with empty or all-NA entries is deprecated. In a future version, this will no longer exclude empty or all-NA columns when determining the result dtypes. To retain the old behavior, exclude the relevant entries before the concat operation.\n",
            "  total_row_cnt_df = pd.concat([total_row_cnt_df, row_cnt_df], axis=0, join='outer', ignore_index=True)\n"
          ]
        },
        {
          "output_type": "stream",
          "name": "stdout",
          "text": [
            "   Result: <google.cloud.bigquery.table.RowIterator object at 0x7f1e6e8780a0>\n",
            "   Errors:  None\n",
            "- Finish writing to Partition  20250110\n",
            "- Check: insert 194 rows.\n",
            "- Execution:  2025-01-11  Partition:  20250111\n",
            "    Table dws_campaign_cost_prd_d_inc already exists.\n",
            "   Result: <google.cloud.bigquery.table.RowIterator object at 0x7f1e6e87bdf0>\n",
            "   Errors:  None\n",
            "- Finish writing to Partition  20250111\n",
            "- Check: insert 188 rows.\n",
            "- Execution:  2025-01-12  Partition:  20250112\n",
            "    Table dws_campaign_cost_prd_d_inc already exists.\n",
            "   Result: <google.cloud.bigquery.table.RowIterator object at 0x7f1e6d2dc910>\n",
            "   Errors:  None\n",
            "- Finish writing to Partition  20250112\n",
            "- Check: insert 200 rows.\n",
            "- Execution:  2025-01-13  Partition:  20250113\n",
            "    Table dws_campaign_cost_prd_d_inc already exists.\n",
            "   Result: <google.cloud.bigquery.table.RowIterator object at 0x7f1e6e84e3b0>\n",
            "   Errors:  None\n",
            "- Finish writing to Partition  20250113\n",
            "- Check: insert 202 rows.\n",
            "- Execution:  2025-01-14  Partition:  20250114\n",
            "    Table dws_campaign_cost_prd_d_inc already exists.\n",
            "   Result: <google.cloud.bigquery.table.RowIterator object at 0x7f1e6e84fd00>\n",
            "   Errors:  None\n",
            "- Finish writing to Partition  20250114\n",
            "- Check: insert 179 rows.\n",
            "- Execution:  2025-01-15  Partition:  20250115\n",
            "    Table dws_campaign_cost_prd_d_inc already exists.\n",
            "   Result: <google.cloud.bigquery.table.RowIterator object at 0x7f1e6d404a00>\n",
            "   Errors:  None\n",
            "- Finish writing to Partition  20250115\n",
            "- Check: insert 190 rows.\n",
            "- Execution:  2025-01-16  Partition:  20250116\n",
            "    Table dws_campaign_cost_prd_d_inc already exists.\n",
            "   Result: <google.cloud.bigquery.table.RowIterator object at 0x7f1e6e8780a0>\n",
            "   Errors:  None\n",
            "- Finish writing to Partition  20250116\n",
            "- Check: insert 180 rows.\n",
            "- Execution:  2025-01-17  Partition:  20250117\n",
            "    Table dws_campaign_cost_prd_d_inc already exists.\n",
            "   Result: <google.cloud.bigquery.table.RowIterator object at 0x7f1e6d216f50>\n",
            "   Errors:  None\n",
            "- Finish writing to Partition  20250117\n",
            "- Check: insert 184 rows.\n",
            "- Execution:  2025-01-18  Partition:  20250118\n",
            "    Table dws_campaign_cost_prd_d_inc already exists.\n",
            "   Result: <google.cloud.bigquery.table.RowIterator object at 0x7f1e6e84eb60>\n",
            "   Errors:  None\n",
            "- Finish writing to Partition  20250118\n",
            "- Check: insert 194 rows.\n",
            "- Execution:  2025-01-19  Partition:  20250119\n",
            "    Table dws_campaign_cost_prd_d_inc already exists.\n",
            "   Result: <google.cloud.bigquery.table.RowIterator object at 0x7f1e6f1bda50>\n",
            "   Errors:  None\n",
            "- Finish writing to Partition  20250119\n",
            "- Check: insert 189 rows.\n",
            "- Execution:  2025-01-20  Partition:  20250120\n",
            "    Table dws_campaign_cost_prd_d_inc already exists.\n",
            "   Result: <google.cloud.bigquery.table.RowIterator object at 0x7f1e6d405000>\n",
            "   Errors:  None\n",
            "- Finish writing to Partition  20250120\n",
            "- Check: insert 209 rows.\n",
            "- Execution:  2025-01-21  Partition:  20250121\n",
            "    Table dws_campaign_cost_prd_d_inc already exists.\n",
            "   Result: <google.cloud.bigquery.table.RowIterator object at 0x7f1e6d0e16f0>\n",
            "   Errors:  None\n",
            "- Finish writing to Partition  20250121\n",
            "- Check: insert 185 rows.\n",
            "- Execution:  2025-01-22  Partition:  20250122\n",
            "    Table dws_campaign_cost_prd_d_inc already exists.\n",
            "   Result: <google.cloud.bigquery.table.RowIterator object at 0x7f1e6d404cd0>\n",
            "   Errors:  None\n",
            "- Finish writing to Partition  20250122\n",
            "- Check: insert 203 rows.\n",
            "- Execution:  2025-01-23  Partition:  20250123\n",
            "    Table dws_campaign_cost_prd_d_inc already exists.\n",
            "   Result: <google.cloud.bigquery.table.RowIterator object at 0x7f1eb4162350>\n",
            "   Errors:  None\n",
            "- Finish writing to Partition  20250123\n",
            "- Check: insert 198 rows.\n",
            "- Execution:  2025-01-24  Partition:  20250124\n",
            "    Table dws_campaign_cost_prd_d_inc already exists.\n",
            "   Result: <google.cloud.bigquery.table.RowIterator object at 0x7f1e6d0e1330>\n",
            "   Errors:  None\n",
            "- Finish writing to Partition  20250124\n",
            "- Check: insert 198 rows.\n",
            "- Execution:  2025-01-25  Partition:  20250125\n",
            "    Table dws_campaign_cost_prd_d_inc already exists.\n",
            "   Result: <google.cloud.bigquery.table.RowIterator object at 0x7f1e6d0e1930>\n",
            "   Errors:  None\n",
            "- Finish writing to Partition  20250125\n",
            "- Check: insert 200 rows.\n",
            "- Execution:  2025-01-26  Partition:  20250126\n",
            "    Table dws_campaign_cost_prd_d_inc already exists.\n",
            "   Result: <google.cloud.bigquery.table.RowIterator object at 0x7f1e6f352c50>\n",
            "   Errors:  None\n",
            "- Finish writing to Partition  20250126\n",
            "- Check: insert 204 rows.\n",
            "- Execution:  2025-01-27  Partition:  20250127\n",
            "    Table dws_campaign_cost_prd_d_inc already exists.\n",
            "   Result: <google.cloud.bigquery.table.RowIterator object at 0x7f1e6d0e17e0>\n",
            "   Errors:  None\n",
            "- Finish writing to Partition  20250127\n",
            "- Check: insert 184 rows.\n",
            "- Execution:  2025-01-28  Partition:  20250128\n",
            "    Table dws_campaign_cost_prd_d_inc already exists.\n",
            "   Result: <google.cloud.bigquery.table.RowIterator object at 0x7f1e6d0e30a0>\n",
            "   Errors:  None\n",
            "- Finish writing to Partition  20250128\n",
            "- Check: insert 155 rows.\n",
            "- Execution:  2025-01-29  Partition:  20250129\n",
            "    Table dws_campaign_cost_prd_d_inc already exists.\n",
            "   Result: <google.cloud.bigquery.table.RowIterator object at 0x7f1e6d0e1600>\n",
            "   Errors:  None\n",
            "- Finish writing to Partition  20250129\n",
            "- Check: insert 176 rows.\n",
            "- Execution:  2025-01-30  Partition:  20250130\n",
            "    Table dws_campaign_cost_prd_d_inc already exists.\n",
            "   Result: <google.cloud.bigquery.table.RowIterator object at 0x7f1e6d0e13f0>\n",
            "   Errors:  None\n",
            "- Finish writing to Partition  20250130\n",
            "- Check: insert 191 rows.\n",
            "- Execution:  2025-01-31  Partition:  20250131\n",
            "    Table dws_campaign_cost_prd_d_inc already exists.\n",
            "   Result: <google.cloud.bigquery.table.RowIterator object at 0x7f1e6d0e3940>\n",
            "   Errors:  None\n",
            "- Finish writing to Partition  20250131\n",
            "- Check: insert 193 rows.\n",
            "- Execution:  2025-02-01  Partition:  20250201\n",
            "    Table dws_campaign_cost_prd_d_inc already exists.\n",
            "   Result: <google.cloud.bigquery.table.RowIterator object at 0x7f1e6d405000>\n",
            "   Errors:  None\n",
            "- Finish writing to Partition  20250201\n",
            "- Check: insert 0 rows.\n",
            "- Execution:  2025-02-02  Partition:  20250202\n",
            "    Table dws_campaign_cost_prd_d_inc already exists.\n"
          ]
        },
        {
          "output_type": "stream",
          "name": "stderr",
          "text": [
            "<ipython-input-11-551945fa7199>:33: FutureWarning: The behavior of DataFrame concatenation with empty or all-NA entries is deprecated. In a future version, this will no longer exclude empty or all-NA columns when determining the result dtypes. To retain the old behavior, exclude the relevant entries before the concat operation.\n",
            "  total_row_cnt_df = pd.concat([total_row_cnt_df, row_cnt_df], axis=0, join='outer', ignore_index=True)\n"
          ]
        },
        {
          "output_type": "stream",
          "name": "stdout",
          "text": [
            "   Result: <google.cloud.bigquery.table.RowIterator object at 0x7f1e6f3523e0>\n",
            "   Errors:  None\n",
            "- Finish writing to Partition  20250202\n",
            "- Check: insert 0 rows.\n",
            "- Execution:  2025-02-03  Partition:  20250203\n",
            "    Table dws_campaign_cost_prd_d_inc already exists.\n"
          ]
        },
        {
          "output_type": "stream",
          "name": "stderr",
          "text": [
            "<ipython-input-11-551945fa7199>:33: FutureWarning: The behavior of DataFrame concatenation with empty or all-NA entries is deprecated. In a future version, this will no longer exclude empty or all-NA columns when determining the result dtypes. To retain the old behavior, exclude the relevant entries before the concat operation.\n",
            "  total_row_cnt_df = pd.concat([total_row_cnt_df, row_cnt_df], axis=0, join='outer', ignore_index=True)\n"
          ]
        },
        {
          "output_type": "stream",
          "name": "stdout",
          "text": [
            "   Result: <google.cloud.bigquery.table.RowIterator object at 0x7f1e6d4072e0>\n",
            "   Errors:  None\n",
            "- Finish writing to Partition  20250203\n",
            "- Check: insert 0 rows.\n",
            "- Execution:  2025-02-04  Partition:  20250204\n",
            "    Table dws_campaign_cost_prd_d_inc already exists.\n"
          ]
        },
        {
          "output_type": "stream",
          "name": "stderr",
          "text": [
            "<ipython-input-11-551945fa7199>:33: FutureWarning: The behavior of DataFrame concatenation with empty or all-NA entries is deprecated. In a future version, this will no longer exclude empty or all-NA columns when determining the result dtypes. To retain the old behavior, exclude the relevant entries before the concat operation.\n",
            "  total_row_cnt_df = pd.concat([total_row_cnt_df, row_cnt_df], axis=0, join='outer', ignore_index=True)\n"
          ]
        },
        {
          "output_type": "stream",
          "name": "stdout",
          "text": [
            "   Result: <google.cloud.bigquery.table.RowIterator object at 0x7f1e6e84fd60>\n",
            "   Errors:  None\n",
            "- Finish writing to Partition  20250204\n",
            "- Check: insert 0 rows.\n",
            "- Execution:  2025-02-05  Partition:  20250205\n",
            "    Table dws_campaign_cost_prd_d_inc already exists.\n"
          ]
        },
        {
          "output_type": "stream",
          "name": "stderr",
          "text": [
            "<ipython-input-11-551945fa7199>:33: FutureWarning: The behavior of DataFrame concatenation with empty or all-NA entries is deprecated. In a future version, this will no longer exclude empty or all-NA columns when determining the result dtypes. To retain the old behavior, exclude the relevant entries before the concat operation.\n",
            "  total_row_cnt_df = pd.concat([total_row_cnt_df, row_cnt_df], axis=0, join='outer', ignore_index=True)\n"
          ]
        },
        {
          "output_type": "stream",
          "name": "stdout",
          "text": [
            "   Result: <google.cloud.bigquery.table.RowIterator object at 0x7f1e6d2dfdc0>\n",
            "   Errors:  None\n",
            "- Finish writing to Partition  20250205\n",
            "- Check: insert 0 rows.\n",
            "- Execution:  2025-02-06  Partition:  20250206\n",
            "    Table dws_campaign_cost_prd_d_inc already exists.\n"
          ]
        },
        {
          "output_type": "stream",
          "name": "stderr",
          "text": [
            "<ipython-input-11-551945fa7199>:33: FutureWarning: The behavior of DataFrame concatenation with empty or all-NA entries is deprecated. In a future version, this will no longer exclude empty or all-NA columns when determining the result dtypes. To retain the old behavior, exclude the relevant entries before the concat operation.\n",
            "  total_row_cnt_df = pd.concat([total_row_cnt_df, row_cnt_df], axis=0, join='outer', ignore_index=True)\n"
          ]
        },
        {
          "output_type": "stream",
          "name": "stdout",
          "text": [
            "   Result: <google.cloud.bigquery.table.RowIterator object at 0x7f1e6d4072e0>\n",
            "   Errors:  None\n",
            "- Finish writing to Partition  20250206\n",
            "- Check: insert 0 rows.\n",
            "- Execution:  2025-02-07  Partition:  20250207\n",
            "    Table dws_campaign_cost_prd_d_inc already exists.\n"
          ]
        },
        {
          "output_type": "stream",
          "name": "stderr",
          "text": [
            "<ipython-input-11-551945fa7199>:33: FutureWarning: The behavior of DataFrame concatenation with empty or all-NA entries is deprecated. In a future version, this will no longer exclude empty or all-NA columns when determining the result dtypes. To retain the old behavior, exclude the relevant entries before the concat operation.\n",
            "  total_row_cnt_df = pd.concat([total_row_cnt_df, row_cnt_df], axis=0, join='outer', ignore_index=True)\n"
          ]
        },
        {
          "output_type": "stream",
          "name": "stdout",
          "text": [
            "   Result: <google.cloud.bigquery.table.RowIterator object at 0x7f1e6f1bf2b0>\n",
            "   Errors:  None\n",
            "- Finish writing to Partition  20250207\n",
            "- Check: insert 0 rows.\n",
            "- Execution:  2025-02-08  Partition:  20250208\n",
            "    Table dws_campaign_cost_prd_d_inc already exists.\n"
          ]
        },
        {
          "output_type": "stream",
          "name": "stderr",
          "text": [
            "<ipython-input-11-551945fa7199>:33: FutureWarning: The behavior of DataFrame concatenation with empty or all-NA entries is deprecated. In a future version, this will no longer exclude empty or all-NA columns when determining the result dtypes. To retain the old behavior, exclude the relevant entries before the concat operation.\n",
            "  total_row_cnt_df = pd.concat([total_row_cnt_df, row_cnt_df], axis=0, join='outer', ignore_index=True)\n"
          ]
        },
        {
          "output_type": "stream",
          "name": "stdout",
          "text": [
            "   Result: <google.cloud.bigquery.table.RowIterator object at 0x7f1e6d2dc7f0>\n",
            "   Errors:  None\n",
            "- Finish writing to Partition  20250208\n",
            "- Check: insert 0 rows.\n",
            "- Execution:  2025-02-09  Partition:  20250209\n",
            "    Table dws_campaign_cost_prd_d_inc already exists.\n"
          ]
        },
        {
          "output_type": "stream",
          "name": "stderr",
          "text": [
            "<ipython-input-11-551945fa7199>:33: FutureWarning: The behavior of DataFrame concatenation with empty or all-NA entries is deprecated. In a future version, this will no longer exclude empty or all-NA columns when determining the result dtypes. To retain the old behavior, exclude the relevant entries before the concat operation.\n",
            "  total_row_cnt_df = pd.concat([total_row_cnt_df, row_cnt_df], axis=0, join='outer', ignore_index=True)\n"
          ]
        },
        {
          "output_type": "stream",
          "name": "stdout",
          "text": [
            "   Result: <google.cloud.bigquery.table.RowIterator object at 0x7f1e6d4062f0>\n",
            "   Errors:  None\n",
            "- Finish writing to Partition  20250209\n",
            "- Check: insert 0 rows.\n",
            "- Execution:  2025-02-10  Partition:  20250210\n",
            "    Table dws_campaign_cost_prd_d_inc already exists.\n"
          ]
        },
        {
          "output_type": "stream",
          "name": "stderr",
          "text": [
            "<ipython-input-11-551945fa7199>:33: FutureWarning: The behavior of DataFrame concatenation with empty or all-NA entries is deprecated. In a future version, this will no longer exclude empty or all-NA columns when determining the result dtypes. To retain the old behavior, exclude the relevant entries before the concat operation.\n",
            "  total_row_cnt_df = pd.concat([total_row_cnt_df, row_cnt_df], axis=0, join='outer', ignore_index=True)\n"
          ]
        },
        {
          "output_type": "stream",
          "name": "stdout",
          "text": [
            "   Result: <google.cloud.bigquery.table.RowIterator object at 0x7f1ea3ac0040>\n",
            "   Errors:  None\n",
            "- Finish writing to Partition  20250210\n",
            "- Check: insert 243 rows.\n",
            "- Execution:  2025-02-11  Partition:  20250211\n",
            "    Table dws_campaign_cost_prd_d_inc already exists.\n",
            "   Result: <google.cloud.bigquery.table.RowIterator object at 0x7f1e6f353790>\n",
            "   Errors:  None\n",
            "- Finish writing to Partition  20250211\n",
            "- Check: insert 222 rows.\n",
            "- Execution:  2025-02-12  Partition:  20250212\n",
            "    Table dws_campaign_cost_prd_d_inc already exists.\n",
            "   Result: <google.cloud.bigquery.table.RowIterator object at 0x7f1e6e84e9e0>\n",
            "   Errors:  None\n",
            "- Finish writing to Partition  20250212\n",
            "- Check: insert 210 rows.\n",
            "- Execution:  2025-02-13  Partition:  20250213\n",
            "    Table dws_campaign_cost_prd_d_inc already exists.\n",
            "   Result: <google.cloud.bigquery.table.RowIterator object at 0x7f1e6e84e020>\n",
            "   Errors:  None\n",
            "- Finish writing to Partition  20250213\n",
            "- Check: insert 251 rows.\n",
            "- Execution:  2025-02-14  Partition:  20250214\n",
            "    Table dws_campaign_cost_prd_d_inc already exists.\n",
            "   Result: <google.cloud.bigquery.table.RowIterator object at 0x7f1e6f1bc520>\n",
            "   Errors:  None\n",
            "- Finish writing to Partition  20250214\n",
            "- Check: insert 238 rows.\n",
            "- Execution:  2025-02-15  Partition:  20250215\n",
            "    Table dws_campaign_cost_prd_d_inc already exists.\n",
            "   Result: <google.cloud.bigquery.table.RowIterator object at 0x7f1e6d216230>\n",
            "   Errors:  None\n",
            "- Finish writing to Partition  20250215\n",
            "- Check: insert 223 rows.\n",
            "- Execution:  2025-02-16  Partition:  20250216\n",
            "    Table dws_campaign_cost_prd_d_inc already exists.\n",
            "   Result: <google.cloud.bigquery.table.RowIterator object at 0x7f1e6f1bcc40>\n",
            "   Errors:  None\n",
            "- Finish writing to Partition  20250216\n",
            "- Check: insert 187 rows.\n",
            "- Execution:  2025-02-17  Partition:  20250217\n",
            "    Table dws_campaign_cost_prd_d_inc already exists.\n",
            "   Result: <google.cloud.bigquery.table.RowIterator object at 0x7f1e6d2160e0>\n",
            "   Errors:  None\n",
            "- Finish writing to Partition  20250217\n",
            "- Check: insert 241 rows.\n",
            "- Execution:  2025-02-18  Partition:  20250218\n",
            "    Table dws_campaign_cost_prd_d_inc already exists.\n",
            "   Result: <google.cloud.bigquery.table.RowIterator object at 0x7f1e6f1bfdc0>\n",
            "   Errors:  None\n",
            "- Finish writing to Partition  20250218\n",
            "- Check: insert 234 rows.\n",
            "- Execution:  2025-02-19  Partition:  20250219\n",
            "    Table dws_campaign_cost_prd_d_inc already exists.\n",
            "   Result: <google.cloud.bigquery.table.RowIterator object at 0x7f1e6e84fd60>\n",
            "   Errors:  None\n",
            "- Finish writing to Partition  20250219\n",
            "- Check: insert 219 rows.\n",
            "- Execution:  2025-02-20  Partition:  20250220\n",
            "    Table dws_campaign_cost_prd_d_inc already exists.\n",
            "   Result: <google.cloud.bigquery.table.RowIterator object at 0x7f1e6d2de3b0>\n",
            "   Errors:  None\n",
            "- Finish writing to Partition  20250220\n",
            "- Check: insert 219 rows.\n",
            "- Execution:  2025-02-21  Partition:  20250221\n",
            "    Table dws_campaign_cost_prd_d_inc already exists.\n",
            "   Result: <google.cloud.bigquery.table.RowIterator object at 0x7f1e6d215360>\n",
            "   Errors:  None\n",
            "- Finish writing to Partition  20250221\n",
            "- Check: insert 194 rows.\n",
            "- Execution:  2025-02-22  Partition:  20250222\n",
            "    Table dws_campaign_cost_prd_d_inc already exists.\n",
            "   Result: <google.cloud.bigquery.table.RowIterator object at 0x7f1e6d2dd270>\n",
            "   Errors:  None\n",
            "- Finish writing to Partition  20250222\n",
            "- Check: insert 212 rows.\n",
            "- Execution:  2025-02-23  Partition:  20250223\n",
            "    Table dws_campaign_cost_prd_d_inc already exists.\n",
            "   Result: <google.cloud.bigquery.table.RowIterator object at 0x7f1e6d215720>\n",
            "   Errors:  None\n",
            "- Finish writing to Partition  20250223\n",
            "- Check: insert 180 rows.\n",
            "- Execution:  2025-02-24  Partition:  20250224\n",
            "    Table dws_campaign_cost_prd_d_inc already exists.\n",
            "   Result: <google.cloud.bigquery.table.RowIterator object at 0x7f1e6d0e3730>\n",
            "   Errors:  None\n",
            "- Finish writing to Partition  20250224\n",
            "- Check: insert 229 rows.\n",
            "- Execution:  2025-02-25  Partition:  20250225\n",
            "    Table dws_campaign_cost_prd_d_inc already exists.\n",
            "   Result: <google.cloud.bigquery.table.RowIterator object at 0x7f1e6d2dc700>\n",
            "   Errors:  None\n",
            "- Finish writing to Partition  20250225\n",
            "- Check: insert 0 rows.\n",
            "- Execution:  2025-02-26  Partition:  20250226\n",
            "    Table dws_campaign_cost_prd_d_inc already exists.\n"
          ]
        },
        {
          "output_type": "stream",
          "name": "stderr",
          "text": [
            "<ipython-input-11-551945fa7199>:33: FutureWarning: The behavior of DataFrame concatenation with empty or all-NA entries is deprecated. In a future version, this will no longer exclude empty or all-NA columns when determining the result dtypes. To retain the old behavior, exclude the relevant entries before the concat operation.\n",
            "  total_row_cnt_df = pd.concat([total_row_cnt_df, row_cnt_df], axis=0, join='outer', ignore_index=True)\n"
          ]
        },
        {
          "output_type": "stream",
          "name": "stdout",
          "text": [
            "   Result: <google.cloud.bigquery.table.RowIterator object at 0x7f1e6d0e0730>\n",
            "   Errors:  None\n",
            "- Finish writing to Partition  20250226\n",
            "- Check: insert 0 rows.\n",
            "- Execution:  2025-02-27  Partition:  20250227\n",
            "    Table dws_campaign_cost_prd_d_inc already exists.\n"
          ]
        },
        {
          "output_type": "stream",
          "name": "stderr",
          "text": [
            "<ipython-input-11-551945fa7199>:33: FutureWarning: The behavior of DataFrame concatenation with empty or all-NA entries is deprecated. In a future version, this will no longer exclude empty or all-NA columns when determining the result dtypes. To retain the old behavior, exclude the relevant entries before the concat operation.\n",
            "  total_row_cnt_df = pd.concat([total_row_cnt_df, row_cnt_df], axis=0, join='outer', ignore_index=True)\n"
          ]
        },
        {
          "output_type": "stream",
          "name": "stdout",
          "text": [
            "   Result: <google.cloud.bigquery.table.RowIterator object at 0x7f1e6d2dec20>\n",
            "   Errors:  None\n",
            "- Finish writing to Partition  20250227\n",
            "- Check: insert 0 rows.\n",
            "- Execution:  2025-02-28  Partition:  20250228\n",
            "    Table dws_campaign_cost_prd_d_inc already exists.\n"
          ]
        },
        {
          "output_type": "stream",
          "name": "stderr",
          "text": [
            "<ipython-input-11-551945fa7199>:33: FutureWarning: The behavior of DataFrame concatenation with empty or all-NA entries is deprecated. In a future version, this will no longer exclude empty or all-NA columns when determining the result dtypes. To retain the old behavior, exclude the relevant entries before the concat operation.\n",
            "  total_row_cnt_df = pd.concat([total_row_cnt_df, row_cnt_df], axis=0, join='outer', ignore_index=True)\n"
          ]
        },
        {
          "output_type": "stream",
          "name": "stdout",
          "text": [
            "   Result: <google.cloud.bigquery.table.RowIterator object at 0x7f1e6d0e3c10>\n",
            "   Errors:  None\n",
            "- Finish writing to Partition  20250228\n",
            "- Check: insert 0 rows.\n",
            "- Execution:  2025-03-01  Partition:  20250301\n",
            "    Table dws_campaign_cost_prd_d_inc already exists.\n"
          ]
        },
        {
          "output_type": "stream",
          "name": "stderr",
          "text": [
            "<ipython-input-11-551945fa7199>:33: FutureWarning: The behavior of DataFrame concatenation with empty or all-NA entries is deprecated. In a future version, this will no longer exclude empty or all-NA columns when determining the result dtypes. To retain the old behavior, exclude the relevant entries before the concat operation.\n",
            "  total_row_cnt_df = pd.concat([total_row_cnt_df, row_cnt_df], axis=0, join='outer', ignore_index=True)\n"
          ]
        },
        {
          "output_type": "stream",
          "name": "stdout",
          "text": [
            "   Result: <google.cloud.bigquery.table.RowIterator object at 0x7f1e6d0e3580>\n",
            "   Errors:  None\n",
            "- Finish writing to Partition  20250301\n",
            "- Check: insert 0 rows.\n",
            "- Execution:  2025-03-02  Partition:  20250302\n",
            "    Table dws_campaign_cost_prd_d_inc already exists.\n"
          ]
        },
        {
          "output_type": "stream",
          "name": "stderr",
          "text": [
            "<ipython-input-11-551945fa7199>:33: FutureWarning: The behavior of DataFrame concatenation with empty or all-NA entries is deprecated. In a future version, this will no longer exclude empty or all-NA columns when determining the result dtypes. To retain the old behavior, exclude the relevant entries before the concat operation.\n",
            "  total_row_cnt_df = pd.concat([total_row_cnt_df, row_cnt_df], axis=0, join='outer', ignore_index=True)\n"
          ]
        },
        {
          "output_type": "stream",
          "name": "stdout",
          "text": [
            "   Result: <google.cloud.bigquery.table.RowIterator object at 0x7f1e6d215ea0>\n",
            "   Errors:  None\n",
            "- Finish writing to Partition  20250302\n",
            "- Check: insert 115 rows.\n",
            "- Execution:  2025-03-03  Partition:  20250303\n",
            "    Table dws_campaign_cost_prd_d_inc already exists.\n",
            "   Result: <google.cloud.bigquery.table.RowIterator object at 0x7f1e6d0e2e60>\n",
            "   Errors:  None\n",
            "- Finish writing to Partition  20250303\n",
            "- Check: insert 100 rows.\n",
            "- Execution:  2025-03-04  Partition:  20250304\n",
            "    Table dws_campaign_cost_prd_d_inc already exists.\n",
            "   Result: <google.cloud.bigquery.table.RowIterator object at 0x7f1e6d0e2fe0>\n",
            "   Errors:  None\n",
            "- Finish writing to Partition  20250304\n",
            "- Check: insert 109 rows.\n",
            "- Execution:  2025-03-05  Partition:  20250305\n",
            "    Table dws_campaign_cost_prd_d_inc already exists.\n",
            "   Result: <google.cloud.bigquery.table.RowIterator object at 0x7f1e6d0e31f0>\n",
            "   Errors:  None\n",
            "- Finish writing to Partition  20250305\n",
            "- Check: insert 113 rows.\n",
            "- Execution:  2025-03-06  Partition:  20250306\n",
            "    Table dws_campaign_cost_prd_d_inc already exists.\n",
            "   Result: <google.cloud.bigquery.table.RowIterator object at 0x7f1e6d0e2410>\n",
            "   Errors:  None\n",
            "- Finish writing to Partition  20250306\n",
            "- Check: insert 106 rows.\n",
            "- Execution:  2025-03-07  Partition:  20250307\n",
            "    Table dws_campaign_cost_prd_d_inc already exists.\n",
            "   Result: <google.cloud.bigquery.table.RowIterator object at 0x7f1e6d0e12a0>\n",
            "   Errors:  None\n",
            "- Finish writing to Partition  20250307\n",
            "- Check: insert 98 rows.\n",
            "- Execution:  2025-03-08  Partition:  20250308\n",
            "    Table dws_campaign_cost_prd_d_inc already exists.\n",
            "   Result: <google.cloud.bigquery.table.RowIterator object at 0x7f1e6d0e2e90>\n",
            "   Errors:  None\n",
            "- Finish writing to Partition  20250308\n",
            "- Check: insert 106 rows.\n",
            "- Execution:  2025-03-09  Partition:  20250309\n",
            "    Table dws_campaign_cost_prd_d_inc already exists.\n",
            "   Result: <google.cloud.bigquery.table.RowIterator object at 0x7f1e6d0e1510>\n",
            "   Errors:  None\n",
            "- Finish writing to Partition  20250309\n",
            "- Check: insert 122 rows.\n",
            "- Execution:  2025-03-10  Partition:  20250310\n",
            "    Table dws_campaign_cost_prd_d_inc already exists.\n",
            "   Result: <google.cloud.bigquery.table.RowIterator object at 0x7f1e6d0e2ad0>\n",
            "   Errors:  None\n",
            "- Finish writing to Partition  20250310\n",
            "- Check: insert 113 rows.\n",
            "- Execution:  2025-03-11  Partition:  20250311\n",
            "    Table dws_campaign_cost_prd_d_inc already exists.\n",
            "   Result: <google.cloud.bigquery.table.RowIterator object at 0x7f1e6d0e3460>\n",
            "   Errors:  None\n",
            "- Finish writing to Partition  20250311\n",
            "- Check: insert 109 rows.\n",
            "- Execution:  2025-03-12  Partition:  20250312\n",
            "    Table dws_campaign_cost_prd_d_inc already exists.\n",
            "   Result: <google.cloud.bigquery.table.RowIterator object at 0x7f1e6d0e3880>\n",
            "   Errors:  None\n",
            "- Finish writing to Partition  20250312\n",
            "- Check: insert 134 rows.\n",
            "- Execution:  2025-03-13  Partition:  20250313\n",
            "    Table dws_campaign_cost_prd_d_inc already exists.\n",
            "   Result: <google.cloud.bigquery.table.RowIterator object at 0x7f1e6d0e3280>\n",
            "   Errors:  None\n",
            "- Finish writing to Partition  20250313\n",
            "- Check: insert 119 rows.\n",
            "- Execution:  2025-03-14  Partition:  20250314\n",
            "    Table dws_campaign_cost_prd_d_inc already exists.\n",
            "   Result: <google.cloud.bigquery.table.RowIterator object at 0x7f1e6d0e2470>\n",
            "   Errors:  None\n",
            "- Finish writing to Partition  20250314\n",
            "- Check: insert 110 rows.\n",
            "- Execution:  2025-03-15  Partition:  20250315\n",
            "    Table dws_campaign_cost_prd_d_inc already exists.\n",
            "   Result: <google.cloud.bigquery.table.RowIterator object at 0x7f1e6d0e33d0>\n",
            "   Errors:  None\n",
            "- Finish writing to Partition  20250315\n",
            "- Check: insert 116 rows.\n",
            "- Execution:  2025-03-16  Partition:  20250316\n",
            "    Table dws_campaign_cost_prd_d_inc already exists.\n",
            "   Result: <google.cloud.bigquery.table.RowIterator object at 0x7f1e6d0e1f00>\n",
            "   Errors:  None\n",
            "- Finish writing to Partition  20250316\n",
            "- Check: insert 100 rows.\n",
            "- Execution:  2025-03-17  Partition:  20250317\n",
            "    Table dws_campaign_cost_prd_d_inc already exists.\n",
            "   Result: <google.cloud.bigquery.table.RowIterator object at 0x7f1e6d0e15d0>\n",
            "   Errors:  None\n",
            "- Finish writing to Partition  20250317\n",
            "- Check: insert 0 rows.\n",
            "- Execution:  2025-03-18  Partition:  20250318\n",
            "    Table dws_campaign_cost_prd_d_inc already exists.\n"
          ]
        },
        {
          "output_type": "stream",
          "name": "stderr",
          "text": [
            "<ipython-input-11-551945fa7199>:33: FutureWarning: The behavior of DataFrame concatenation with empty or all-NA entries is deprecated. In a future version, this will no longer exclude empty or all-NA columns when determining the result dtypes. To retain the old behavior, exclude the relevant entries before the concat operation.\n",
            "  total_row_cnt_df = pd.concat([total_row_cnt_df, row_cnt_df], axis=0, join='outer', ignore_index=True)\n"
          ]
        },
        {
          "output_type": "stream",
          "name": "stdout",
          "text": [
            "   Result: <google.cloud.bigquery.table.RowIterator object at 0x7f1e6d216230>\n",
            "   Errors:  None\n",
            "- Finish writing to Partition  20250318\n",
            "- Check: insert 0 rows.\n",
            "- Execution:  2025-03-19  Partition:  20250319\n",
            "    Table dws_campaign_cost_prd_d_inc already exists.\n"
          ]
        },
        {
          "output_type": "stream",
          "name": "stderr",
          "text": [
            "<ipython-input-11-551945fa7199>:33: FutureWarning: The behavior of DataFrame concatenation with empty or all-NA entries is deprecated. In a future version, this will no longer exclude empty or all-NA columns when determining the result dtypes. To retain the old behavior, exclude the relevant entries before the concat operation.\n",
            "  total_row_cnt_df = pd.concat([total_row_cnt_df, row_cnt_df], axis=0, join='outer', ignore_index=True)\n"
          ]
        },
        {
          "output_type": "stream",
          "name": "stdout",
          "text": [
            "   Result: <google.cloud.bigquery.table.RowIterator object at 0x7f1e6d0e3af0>\n",
            "   Errors:  None\n",
            "- Finish writing to Partition  20250319\n",
            "- Check: insert 0 rows.\n",
            "- Execution:  2025-03-20  Partition:  20250320\n",
            "    Table dws_campaign_cost_prd_d_inc already exists.\n"
          ]
        },
        {
          "output_type": "stream",
          "name": "stderr",
          "text": [
            "<ipython-input-11-551945fa7199>:33: FutureWarning: The behavior of DataFrame concatenation with empty or all-NA entries is deprecated. In a future version, this will no longer exclude empty or all-NA columns when determining the result dtypes. To retain the old behavior, exclude the relevant entries before the concat operation.\n",
            "  total_row_cnt_df = pd.concat([total_row_cnt_df, row_cnt_df], axis=0, join='outer', ignore_index=True)\n"
          ]
        },
        {
          "output_type": "stream",
          "name": "stdout",
          "text": [
            "   Result: <google.cloud.bigquery.table.RowIterator object at 0x7f1e6d214700>\n",
            "   Errors:  None\n",
            "- Finish writing to Partition  20250320\n",
            "- Check: insert 0 rows.\n",
            "- Execution:  2025-03-21  Partition:  20250321\n",
            "    Table dws_campaign_cost_prd_d_inc already exists.\n"
          ]
        },
        {
          "output_type": "stream",
          "name": "stderr",
          "text": [
            "<ipython-input-11-551945fa7199>:33: FutureWarning: The behavior of DataFrame concatenation with empty or all-NA entries is deprecated. In a future version, this will no longer exclude empty or all-NA columns when determining the result dtypes. To retain the old behavior, exclude the relevant entries before the concat operation.\n",
            "  total_row_cnt_df = pd.concat([total_row_cnt_df, row_cnt_df], axis=0, join='outer', ignore_index=True)\n"
          ]
        },
        {
          "output_type": "stream",
          "name": "stdout",
          "text": [
            "   Result: <google.cloud.bigquery.table.RowIterator object at 0x7f1e6d216e90>\n",
            "   Errors:  None\n",
            "- Finish writing to Partition  20250321\n",
            "- Check: insert 0 rows.\n",
            "- Execution:  2025-03-22  Partition:  20250322\n",
            "    Table dws_campaign_cost_prd_d_inc already exists.\n"
          ]
        },
        {
          "output_type": "stream",
          "name": "stderr",
          "text": [
            "<ipython-input-11-551945fa7199>:33: FutureWarning: The behavior of DataFrame concatenation with empty or all-NA entries is deprecated. In a future version, this will no longer exclude empty or all-NA columns when determining the result dtypes. To retain the old behavior, exclude the relevant entries before the concat operation.\n",
            "  total_row_cnt_df = pd.concat([total_row_cnt_df, row_cnt_df], axis=0, join='outer', ignore_index=True)\n"
          ]
        },
        {
          "output_type": "stream",
          "name": "stdout",
          "text": [
            "   Result: <google.cloud.bigquery.table.RowIterator object at 0x7f1e6d2156f0>\n",
            "   Errors:  None\n",
            "- Finish writing to Partition  20250322\n",
            "- Check: insert 0 rows.\n",
            "- Execution:  2025-03-23  Partition:  20250323\n",
            "    Table dws_campaign_cost_prd_d_inc already exists.\n"
          ]
        },
        {
          "output_type": "stream",
          "name": "stderr",
          "text": [
            "<ipython-input-11-551945fa7199>:33: FutureWarning: The behavior of DataFrame concatenation with empty or all-NA entries is deprecated. In a future version, this will no longer exclude empty or all-NA columns when determining the result dtypes. To retain the old behavior, exclude the relevant entries before the concat operation.\n",
            "  total_row_cnt_df = pd.concat([total_row_cnt_df, row_cnt_df], axis=0, join='outer', ignore_index=True)\n"
          ]
        },
        {
          "output_type": "stream",
          "name": "stdout",
          "text": [
            "   Result: <google.cloud.bigquery.table.RowIterator object at 0x7f1e6d216cb0>\n",
            "   Errors:  None\n",
            "- Finish writing to Partition  20250323\n",
            "- Check: insert 0 rows.\n",
            "- Execution:  2025-03-24  Partition:  20250324\n",
            "    Table dws_campaign_cost_prd_d_inc already exists.\n"
          ]
        },
        {
          "output_type": "stream",
          "name": "stderr",
          "text": [
            "<ipython-input-11-551945fa7199>:33: FutureWarning: The behavior of DataFrame concatenation with empty or all-NA entries is deprecated. In a future version, this will no longer exclude empty or all-NA columns when determining the result dtypes. To retain the old behavior, exclude the relevant entries before the concat operation.\n",
            "  total_row_cnt_df = pd.concat([total_row_cnt_df, row_cnt_df], axis=0, join='outer', ignore_index=True)\n"
          ]
        },
        {
          "output_type": "stream",
          "name": "stdout",
          "text": [
            "   Result: <google.cloud.bigquery.table.RowIterator object at 0x7f1e6d0e09a0>\n",
            "   Errors:  None\n",
            "- Finish writing to Partition  20250324\n",
            "- Check: insert 0 rows.\n",
            "- Execution:  2025-03-25  Partition:  20250325\n",
            "    Table dws_campaign_cost_prd_d_inc already exists.\n"
          ]
        },
        {
          "output_type": "stream",
          "name": "stderr",
          "text": [
            "<ipython-input-11-551945fa7199>:33: FutureWarning: The behavior of DataFrame concatenation with empty or all-NA entries is deprecated. In a future version, this will no longer exclude empty or all-NA columns when determining the result dtypes. To retain the old behavior, exclude the relevant entries before the concat operation.\n",
            "  total_row_cnt_df = pd.concat([total_row_cnt_df, row_cnt_df], axis=0, join='outer', ignore_index=True)\n"
          ]
        },
        {
          "output_type": "stream",
          "name": "stdout",
          "text": [
            "   Result: <google.cloud.bigquery.table.RowIterator object at 0x7f1e6d2dff40>\n",
            "   Errors:  None\n",
            "- Finish writing to Partition  20250325\n",
            "- Check: insert 0 rows.\n",
            "- Execution:  2025-03-26  Partition:  20250326\n",
            "    Table dws_campaign_cost_prd_d_inc already exists.\n"
          ]
        },
        {
          "output_type": "stream",
          "name": "stderr",
          "text": [
            "<ipython-input-11-551945fa7199>:33: FutureWarning: The behavior of DataFrame concatenation with empty or all-NA entries is deprecated. In a future version, this will no longer exclude empty or all-NA columns when determining the result dtypes. To retain the old behavior, exclude the relevant entries before the concat operation.\n",
            "  total_row_cnt_df = pd.concat([total_row_cnt_df, row_cnt_df], axis=0, join='outer', ignore_index=True)\n"
          ]
        },
        {
          "output_type": "stream",
          "name": "stdout",
          "text": [
            "   Result: <google.cloud.bigquery.table.RowIterator object at 0x7f1e6d2165c0>\n",
            "   Errors:  None\n",
            "- Finish writing to Partition  20250326\n",
            "- Check: insert 0 rows.\n",
            "- Execution:  2025-03-27  Partition:  20250327\n",
            "    Table dws_campaign_cost_prd_d_inc already exists.\n"
          ]
        },
        {
          "output_type": "stream",
          "name": "stderr",
          "text": [
            "<ipython-input-11-551945fa7199>:33: FutureWarning: The behavior of DataFrame concatenation with empty or all-NA entries is deprecated. In a future version, this will no longer exclude empty or all-NA columns when determining the result dtypes. To retain the old behavior, exclude the relevant entries before the concat operation.\n",
            "  total_row_cnt_df = pd.concat([total_row_cnt_df, row_cnt_df], axis=0, join='outer', ignore_index=True)\n"
          ]
        },
        {
          "output_type": "stream",
          "name": "stdout",
          "text": [
            "   Result: <google.cloud.bigquery.table.RowIterator object at 0x7f1e6e87aaa0>\n",
            "   Errors:  None\n",
            "- Finish writing to Partition  20250327\n",
            "- Check: insert 0 rows.\n",
            "- Execution:  2025-03-28  Partition:  20250328\n",
            "    Table dws_campaign_cost_prd_d_inc already exists.\n"
          ]
        },
        {
          "output_type": "stream",
          "name": "stderr",
          "text": [
            "<ipython-input-11-551945fa7199>:33: FutureWarning: The behavior of DataFrame concatenation with empty or all-NA entries is deprecated. In a future version, this will no longer exclude empty or all-NA columns when determining the result dtypes. To retain the old behavior, exclude the relevant entries before the concat operation.\n",
            "  total_row_cnt_df = pd.concat([total_row_cnt_df, row_cnt_df], axis=0, join='outer', ignore_index=True)\n"
          ]
        },
        {
          "output_type": "stream",
          "name": "stdout",
          "text": [
            "   Result: <google.cloud.bigquery.table.RowIterator object at 0x7f1e6f1bc640>\n",
            "   Errors:  None\n",
            "- Finish writing to Partition  20250328\n",
            "- Check: insert 119 rows.\n",
            "- Execution:  2025-03-29  Partition:  20250329\n",
            "    Table dws_campaign_cost_prd_d_inc already exists.\n",
            "   Result: <google.cloud.bigquery.table.RowIterator object at 0x7f1e6d4072e0>\n",
            "   Errors:  None\n",
            "- Finish writing to Partition  20250329\n",
            "- Check: insert 134 rows.\n",
            "- Execution:  2025-03-30  Partition:  20250330\n",
            "    Table dws_campaign_cost_prd_d_inc already exists.\n",
            "   Result: <google.cloud.bigquery.table.RowIterator object at 0x7f1e6f1bc730>\n",
            "   Errors:  None\n",
            "- Finish writing to Partition  20250330\n",
            "- Check: insert 116 rows.\n",
            "- Execution:  2025-03-31  Partition:  20250331\n",
            "    Table dws_campaign_cost_prd_d_inc already exists.\n",
            "   Result: <google.cloud.bigquery.table.RowIterator object at 0x7f1e6d215780>\n",
            "   Errors:  None\n",
            "- Finish writing to Partition  20250331\n",
            "- Check: insert 132 rows.\n",
            "- Execution:  2025-04-01  Partition:  20250401\n",
            "    Table dws_campaign_cost_prd_d_inc already exists.\n",
            "   Result: <google.cloud.bigquery.table.RowIterator object at 0x7f1e6e84e890>\n",
            "   Errors:  None\n",
            "- Finish writing to Partition  20250401\n",
            "- Check: insert 133 rows.\n",
            "- Execution:  2025-04-02  Partition:  20250402\n",
            "    Table dws_campaign_cost_prd_d_inc already exists.\n",
            "   Result: <google.cloud.bigquery.table.RowIterator object at 0x7f1e6d0e2bf0>\n",
            "   Errors:  None\n",
            "- Finish writing to Partition  20250402\n",
            "- Check: insert 117 rows.\n",
            "- Execution:  2025-04-03  Partition:  20250403\n",
            "    Table dws_campaign_cost_prd_d_inc already exists.\n",
            "   Result: <google.cloud.bigquery.table.RowIterator object at 0x7f1e6f352f20>\n",
            "   Errors:  None\n",
            "- Finish writing to Partition  20250403\n",
            "- Check: insert 127 rows.\n",
            "- Execution:  2025-04-04  Partition:  20250404\n",
            "    Table dws_campaign_cost_prd_d_inc already exists.\n",
            "   Result: <google.cloud.bigquery.table.RowIterator object at 0x7f1e6d2ddd80>\n",
            "   Errors:  None\n",
            "- Finish writing to Partition  20250404\n",
            "- Check: insert 113 rows.\n",
            "- Execution:  2025-04-05  Partition:  20250405\n",
            "    Table dws_campaign_cost_prd_d_inc already exists.\n",
            "   Result: <google.cloud.bigquery.table.RowIterator object at 0x7f1e6f3523e0>\n",
            "   Errors:  None\n",
            "- Finish writing to Partition  20250405\n",
            "- Check: insert 123 rows.\n",
            "- Execution:  2025-04-06  Partition:  20250406\n",
            "    Table dws_campaign_cost_prd_d_inc already exists.\n",
            "   Result: <google.cloud.bigquery.table.RowIterator object at 0x7f1e6d0e1390>\n",
            "   Errors:  None\n",
            "- Finish writing to Partition  20250406\n",
            "- Check: insert 132 rows.\n",
            "- Execution:  2025-04-07  Partition:  20250407\n",
            "    Table dws_campaign_cost_prd_d_inc already exists.\n",
            "   Result: <google.cloud.bigquery.table.RowIterator object at 0x7f1e6d217460>\n",
            "   Errors:  None\n",
            "- Finish writing to Partition  20250407\n",
            "- Check: insert 124 rows.\n",
            "- Execution:  2025-04-08  Partition:  20250408\n",
            "    Table dws_campaign_cost_prd_d_inc already exists.\n",
            "   Result: <google.cloud.bigquery.table.RowIterator object at 0x7f1e6d0e2890>\n",
            "   Errors:  None\n",
            "- Finish writing to Partition  20250408\n",
            "- Check: insert 127 rows.\n",
            "- Execution:  2025-04-09  Partition:  20250409\n",
            "    Table dws_campaign_cost_prd_d_inc already exists.\n",
            "   Result: <google.cloud.bigquery.table.RowIterator object at 0x7f1e6cf745b0>\n",
            "   Errors:  None\n",
            "- Finish writing to Partition  20250409\n",
            "- Check: insert 112 rows.\n",
            "- Execution:  2025-04-10  Partition:  20250410\n",
            "    Table dws_campaign_cost_prd_d_inc already exists.\n",
            "   Result: <google.cloud.bigquery.table.RowIterator object at 0x7f1e6cf75ba0>\n",
            "   Errors:  None\n",
            "- Finish writing to Partition  20250410\n",
            "- Check: insert 118 rows.\n",
            "- Execution:  2025-04-11  Partition:  20250411\n",
            "    Table dws_campaign_cost_prd_d_inc already exists.\n",
            "   Result: <google.cloud.bigquery.table.RowIterator object at 0x7f1e6cf75ab0>\n",
            "   Errors:  None\n",
            "- Finish writing to Partition  20250411\n",
            "- Check: insert 136 rows.\n",
            "- Execution:  2025-04-12  Partition:  20250412\n",
            "    Table dws_campaign_cost_prd_d_inc already exists.\n",
            "   Result: <google.cloud.bigquery.table.RowIterator object at 0x7f1e6cf75690>\n",
            "   Errors:  None\n",
            "- Finish writing to Partition  20250412\n",
            "- Check: insert 123 rows.\n",
            "- Execution:  2025-04-13  Partition:  20250413\n",
            "    Table dws_campaign_cost_prd_d_inc already exists.\n",
            "   Result: <google.cloud.bigquery.table.RowIterator object at 0x7f1e6cf75e70>\n",
            "   Errors:  None\n",
            "- Finish writing to Partition  20250413\n",
            "- Check: insert 109 rows.\n",
            "- Execution:  2025-04-14  Partition:  20250414\n",
            "    Table dws_campaign_cost_prd_d_inc already exists.\n",
            "   Result: <google.cloud.bigquery.table.RowIterator object at 0x7f1e6e84d150>\n",
            "   Errors:  None\n",
            "- Finish writing to Partition  20250414\n",
            "- Check: insert 118 rows.\n",
            "- Execution:  2025-04-15  Partition:  20250415\n",
            "    Table dws_campaign_cost_prd_d_inc already exists.\n",
            "   Result: <google.cloud.bigquery.table.RowIterator object at 0x7f1e6d2de080>\n",
            "   Errors:  None\n",
            "- Finish writing to Partition  20250415\n",
            "- Check: insert 120 rows.\n",
            "- Execution:  2025-04-16  Partition:  20250416\n",
            "    Table dws_campaign_cost_prd_d_inc already exists.\n",
            "   Result: <google.cloud.bigquery.table.RowIterator object at 0x7f1e6d4072e0>\n",
            "   Errors:  None\n",
            "- Finish writing to Partition  20250416\n",
            "- Check: insert 124 rows.\n",
            "- Execution:  2025-04-17  Partition:  20250417\n",
            "    Table dws_campaign_cost_prd_d_inc already exists.\n",
            "   Result: <google.cloud.bigquery.table.RowIterator object at 0x7f1e6d404eb0>\n",
            "   Errors:  None\n",
            "- Finish writing to Partition  20250417\n",
            "- Check: insert 121 rows.\n",
            "- Execution:  2025-04-18  Partition:  20250418\n",
            "    Table dws_campaign_cost_prd_d_inc already exists.\n",
            "   Result: <google.cloud.bigquery.table.RowIterator object at 0x7f1e6d2ddd80>\n",
            "   Errors:  None\n",
            "- Finish writing to Partition  20250418\n",
            "- Check: insert 120 rows.\n",
            "- Execution:  2025-04-19  Partition:  20250419\n",
            "    Table dws_campaign_cost_prd_d_inc already exists.\n",
            "   Result: <google.cloud.bigquery.table.RowIterator object at 0x7f1e6e84fbb0>\n",
            "   Errors:  None\n",
            "- Finish writing to Partition  20250419\n",
            "- Check: insert 0 rows.\n",
            "- Execution:  2025-04-20  Partition:  20250420\n",
            "    Table dws_campaign_cost_prd_d_inc already exists.\n"
          ]
        },
        {
          "output_type": "stream",
          "name": "stderr",
          "text": [
            "<ipython-input-11-551945fa7199>:33: FutureWarning: The behavior of DataFrame concatenation with empty or all-NA entries is deprecated. In a future version, this will no longer exclude empty or all-NA columns when determining the result dtypes. To retain the old behavior, exclude the relevant entries before the concat operation.\n",
            "  total_row_cnt_df = pd.concat([total_row_cnt_df, row_cnt_df], axis=0, join='outer', ignore_index=True)\n"
          ]
        },
        {
          "output_type": "stream",
          "name": "stdout",
          "text": [
            "   Result: <google.cloud.bigquery.table.RowIterator object at 0x7f1e6d215ea0>\n",
            "   Errors:  None\n",
            "- Finish writing to Partition  20250420\n",
            "- Check: insert 0 rows.\n",
            "- Execution:  2025-04-21  Partition:  20250421\n",
            "    Table dws_campaign_cost_prd_d_inc already exists.\n"
          ]
        },
        {
          "output_type": "stream",
          "name": "stderr",
          "text": [
            "<ipython-input-11-551945fa7199>:33: FutureWarning: The behavior of DataFrame concatenation with empty or all-NA entries is deprecated. In a future version, this will no longer exclude empty or all-NA columns when determining the result dtypes. To retain the old behavior, exclude the relevant entries before the concat operation.\n",
            "  total_row_cnt_df = pd.concat([total_row_cnt_df, row_cnt_df], axis=0, join='outer', ignore_index=True)\n"
          ]
        },
        {
          "output_type": "stream",
          "name": "stdout",
          "text": [
            "   Result: <google.cloud.bigquery.table.RowIterator object at 0x7f1e6d216890>\n",
            "   Errors:  None\n",
            "- Finish writing to Partition  20250421\n",
            "- Check: insert 0 rows.\n",
            "- Execution:  2025-04-22  Partition:  20250422\n",
            "    Table dws_campaign_cost_prd_d_inc already exists.\n"
          ]
        },
        {
          "output_type": "stream",
          "name": "stderr",
          "text": [
            "<ipython-input-11-551945fa7199>:33: FutureWarning: The behavior of DataFrame concatenation with empty or all-NA entries is deprecated. In a future version, this will no longer exclude empty or all-NA columns when determining the result dtypes. To retain the old behavior, exclude the relevant entries before the concat operation.\n",
            "  total_row_cnt_df = pd.concat([total_row_cnt_df, row_cnt_df], axis=0, join='outer', ignore_index=True)\n"
          ]
        },
        {
          "output_type": "stream",
          "name": "stdout",
          "text": [
            "   Result: <google.cloud.bigquery.table.RowIterator object at 0x7f1e6e84e3b0>\n",
            "   Errors:  None\n",
            "- Finish writing to Partition  20250422\n",
            "- Check: insert 0 rows.\n",
            "- Execution:  2025-04-23  Partition:  20250423\n",
            "    Table dws_campaign_cost_prd_d_inc already exists.\n"
          ]
        },
        {
          "output_type": "stream",
          "name": "stderr",
          "text": [
            "<ipython-input-11-551945fa7199>:33: FutureWarning: The behavior of DataFrame concatenation with empty or all-NA entries is deprecated. In a future version, this will no longer exclude empty or all-NA columns when determining the result dtypes. To retain the old behavior, exclude the relevant entries before the concat operation.\n",
            "  total_row_cnt_df = pd.concat([total_row_cnt_df, row_cnt_df], axis=0, join='outer', ignore_index=True)\n"
          ]
        },
        {
          "output_type": "stream",
          "name": "stdout",
          "text": [
            "   Result: <google.cloud.bigquery.table.RowIterator object at 0x7f1e6e84e3b0>\n",
            "   Errors:  None\n",
            "- Finish writing to Partition  20250423\n",
            "- Check: insert 0 rows.\n",
            "- Execution:  2025-04-24  Partition:  20250424\n",
            "    Table dws_campaign_cost_prd_d_inc already exists.\n"
          ]
        },
        {
          "output_type": "stream",
          "name": "stderr",
          "text": [
            "<ipython-input-11-551945fa7199>:33: FutureWarning: The behavior of DataFrame concatenation with empty or all-NA entries is deprecated. In a future version, this will no longer exclude empty or all-NA columns when determining the result dtypes. To retain the old behavior, exclude the relevant entries before the concat operation.\n",
            "  total_row_cnt_df = pd.concat([total_row_cnt_df, row_cnt_df], axis=0, join='outer', ignore_index=True)\n"
          ]
        },
        {
          "output_type": "stream",
          "name": "stdout",
          "text": [
            "   Result: <google.cloud.bigquery.table.RowIterator object at 0x7f1e6e84c0d0>\n",
            "   Errors:  None\n",
            "- Finish writing to Partition  20250424\n",
            "- Check: insert 0 rows.\n",
            "- Execution:  2025-04-25  Partition:  20250425\n",
            "    Table dws_campaign_cost_prd_d_inc already exists.\n"
          ]
        },
        {
          "output_type": "stream",
          "name": "stderr",
          "text": [
            "<ipython-input-11-551945fa7199>:33: FutureWarning: The behavior of DataFrame concatenation with empty or all-NA entries is deprecated. In a future version, this will no longer exclude empty or all-NA columns when determining the result dtypes. To retain the old behavior, exclude the relevant entries before the concat operation.\n",
            "  total_row_cnt_df = pd.concat([total_row_cnt_df, row_cnt_df], axis=0, join='outer', ignore_index=True)\n"
          ]
        },
        {
          "output_type": "stream",
          "name": "stdout",
          "text": [
            "   Result: <google.cloud.bigquery.table.RowIterator object at 0x7f1e6e84d4b0>\n",
            "   Errors:  None\n",
            "- Finish writing to Partition  20250425\n",
            "- Check: insert 0 rows.\n"
          ]
        },
        {
          "output_type": "stream",
          "name": "stderr",
          "text": [
            "<ipython-input-11-551945fa7199>:33: FutureWarning: The behavior of DataFrame concatenation with empty or all-NA entries is deprecated. In a future version, this will no longer exclude empty or all-NA columns when determining the result dtypes. To retain the old behavior, exclude the relevant entries before the concat operation.\n",
            "  total_row_cnt_df = pd.concat([total_row_cnt_df, row_cnt_df], axis=0, join='outer', ignore_index=True)\n"
          ]
        }
      ]
    },
    {
      "cell_type": "code",
      "source": [
        "total_row_cnt_df"
      ],
      "metadata": {
        "colab": {
          "base_uri": "https://localhost:8080/",
          "height": 424
        },
        "collapsed": true,
        "id": "mKzuw7Mjj7vR",
        "executionInfo": {
          "status": "ok",
          "timestamp": 1746147752414,
          "user_tz": 420,
          "elapsed": 219,
          "user": {
            "displayName": "",
            "userId": ""
          }
        },
        "outputId": "268dd0bc-4e51-4df7-c84c-fa304ebff408"
      },
      "execution_count": 12,
      "outputs": [
        {
          "output_type": "execute_result",
          "data": {
            "text/plain": [
              "           date  row_cnt\n",
              "0    2024-01-13      146\n",
              "1    2024-01-14      157\n",
              "2    2024-01-15      178\n",
              "3    2024-01-16      175\n",
              "4    2024-01-17      165\n",
              "..          ...      ...\n",
              "273  2025-04-14      118\n",
              "274  2025-04-15      120\n",
              "275  2025-04-16      124\n",
              "276  2025-04-17      121\n",
              "277  2025-04-18      120\n",
              "\n",
              "[278 rows x 2 columns]"
            ],
            "text/html": [
              "\n",
              "  <div id=\"df-625ddc96-9830-4dc5-a46c-da0d3528aea5\" class=\"colab-df-container\">\n",
              "    <div>\n",
              "<style scoped>\n",
              "    .dataframe tbody tr th:only-of-type {\n",
              "        vertical-align: middle;\n",
              "    }\n",
              "\n",
              "    .dataframe tbody tr th {\n",
              "        vertical-align: top;\n",
              "    }\n",
              "\n",
              "    .dataframe thead th {\n",
              "        text-align: right;\n",
              "    }\n",
              "</style>\n",
              "<table border=\"1\" class=\"dataframe\">\n",
              "  <thead>\n",
              "    <tr style=\"text-align: right;\">\n",
              "      <th></th>\n",
              "      <th>date</th>\n",
              "      <th>row_cnt</th>\n",
              "    </tr>\n",
              "  </thead>\n",
              "  <tbody>\n",
              "    <tr>\n",
              "      <th>0</th>\n",
              "      <td>2024-01-13</td>\n",
              "      <td>146</td>\n",
              "    </tr>\n",
              "    <tr>\n",
              "      <th>1</th>\n",
              "      <td>2024-01-14</td>\n",
              "      <td>157</td>\n",
              "    </tr>\n",
              "    <tr>\n",
              "      <th>2</th>\n",
              "      <td>2024-01-15</td>\n",
              "      <td>178</td>\n",
              "    </tr>\n",
              "    <tr>\n",
              "      <th>3</th>\n",
              "      <td>2024-01-16</td>\n",
              "      <td>175</td>\n",
              "    </tr>\n",
              "    <tr>\n",
              "      <th>4</th>\n",
              "      <td>2024-01-17</td>\n",
              "      <td>165</td>\n",
              "    </tr>\n",
              "    <tr>\n",
              "      <th>...</th>\n",
              "      <td>...</td>\n",
              "      <td>...</td>\n",
              "    </tr>\n",
              "    <tr>\n",
              "      <th>273</th>\n",
              "      <td>2025-04-14</td>\n",
              "      <td>118</td>\n",
              "    </tr>\n",
              "    <tr>\n",
              "      <th>274</th>\n",
              "      <td>2025-04-15</td>\n",
              "      <td>120</td>\n",
              "    </tr>\n",
              "    <tr>\n",
              "      <th>275</th>\n",
              "      <td>2025-04-16</td>\n",
              "      <td>124</td>\n",
              "    </tr>\n",
              "    <tr>\n",
              "      <th>276</th>\n",
              "      <td>2025-04-17</td>\n",
              "      <td>121</td>\n",
              "    </tr>\n",
              "    <tr>\n",
              "      <th>277</th>\n",
              "      <td>2025-04-18</td>\n",
              "      <td>120</td>\n",
              "    </tr>\n",
              "  </tbody>\n",
              "</table>\n",
              "<p>278 rows × 2 columns</p>\n",
              "</div>\n",
              "    <div class=\"colab-df-buttons\">\n",
              "\n",
              "  <div class=\"colab-df-container\">\n",
              "    <button class=\"colab-df-convert\" onclick=\"convertToInteractive('df-625ddc96-9830-4dc5-a46c-da0d3528aea5')\"\n",
              "            title=\"Convert this dataframe to an interactive table.\"\n",
              "            style=\"display:none;\">\n",
              "\n",
              "  <svg xmlns=\"http://www.w3.org/2000/svg\" height=\"24px\" viewBox=\"0 -960 960 960\">\n",
              "    <path d=\"M120-120v-720h720v720H120Zm60-500h600v-160H180v160Zm220 220h160v-160H400v160Zm0 220h160v-160H400v160ZM180-400h160v-160H180v160Zm440 0h160v-160H620v160ZM180-180h160v-160H180v160Zm440 0h160v-160H620v160Z\"/>\n",
              "  </svg>\n",
              "    </button>\n",
              "\n",
              "  <style>\n",
              "    .colab-df-container {\n",
              "      display:flex;\n",
              "      gap: 12px;\n",
              "    }\n",
              "\n",
              "    .colab-df-convert {\n",
              "      background-color: #E8F0FE;\n",
              "      border: none;\n",
              "      border-radius: 50%;\n",
              "      cursor: pointer;\n",
              "      display: none;\n",
              "      fill: #1967D2;\n",
              "      height: 32px;\n",
              "      padding: 0 0 0 0;\n",
              "      width: 32px;\n",
              "    }\n",
              "\n",
              "    .colab-df-convert:hover {\n",
              "      background-color: #E2EBFA;\n",
              "      box-shadow: 0px 1px 2px rgba(60, 64, 67, 0.3), 0px 1px 3px 1px rgba(60, 64, 67, 0.15);\n",
              "      fill: #174EA6;\n",
              "    }\n",
              "\n",
              "    .colab-df-buttons div {\n",
              "      margin-bottom: 4px;\n",
              "    }\n",
              "\n",
              "    [theme=dark] .colab-df-convert {\n",
              "      background-color: #3B4455;\n",
              "      fill: #D2E3FC;\n",
              "    }\n",
              "\n",
              "    [theme=dark] .colab-df-convert:hover {\n",
              "      background-color: #434B5C;\n",
              "      box-shadow: 0px 1px 3px 1px rgba(0, 0, 0, 0.15);\n",
              "      filter: drop-shadow(0px 1px 2px rgba(0, 0, 0, 0.3));\n",
              "      fill: #FFFFFF;\n",
              "    }\n",
              "  </style>\n",
              "\n",
              "    <script>\n",
              "      const buttonEl =\n",
              "        document.querySelector('#df-625ddc96-9830-4dc5-a46c-da0d3528aea5 button.colab-df-convert');\n",
              "      buttonEl.style.display =\n",
              "        google.colab.kernel.accessAllowed ? 'block' : 'none';\n",
              "\n",
              "      async function convertToInteractive(key) {\n",
              "        const element = document.querySelector('#df-625ddc96-9830-4dc5-a46c-da0d3528aea5');\n",
              "        const dataTable =\n",
              "          await google.colab.kernel.invokeFunction('convertToInteractive',\n",
              "                                                    [key], {});\n",
              "        if (!dataTable) return;\n",
              "\n",
              "        const docLinkHtml = 'Like what you see? Visit the ' +\n",
              "          '<a target=\"_blank\" href=https://colab.research.google.com/notebooks/data_table.ipynb>data table notebook</a>'\n",
              "          + ' to learn more about interactive tables.';\n",
              "        element.innerHTML = '';\n",
              "        dataTable['output_type'] = 'display_data';\n",
              "        await google.colab.output.renderOutput(dataTable, element);\n",
              "        const docLink = document.createElement('div');\n",
              "        docLink.innerHTML = docLinkHtml;\n",
              "        element.appendChild(docLink);\n",
              "      }\n",
              "    </script>\n",
              "  </div>\n",
              "\n",
              "\n",
              "<div id=\"df-2c1bc10a-cfa6-4af8-aa91-72204c091484\">\n",
              "  <button class=\"colab-df-quickchart\" onclick=\"quickchart('df-2c1bc10a-cfa6-4af8-aa91-72204c091484')\"\n",
              "            title=\"Suggest charts\"\n",
              "            style=\"display:none;\">\n",
              "\n",
              "<svg xmlns=\"http://www.w3.org/2000/svg\" height=\"24px\"viewBox=\"0 0 24 24\"\n",
              "     width=\"24px\">\n",
              "    <g>\n",
              "        <path d=\"M19 3H5c-1.1 0-2 .9-2 2v14c0 1.1.9 2 2 2h14c1.1 0 2-.9 2-2V5c0-1.1-.9-2-2-2zM9 17H7v-7h2v7zm4 0h-2V7h2v10zm4 0h-2v-4h2v4z\"/>\n",
              "    </g>\n",
              "</svg>\n",
              "  </button>\n",
              "\n",
              "<style>\n",
              "  .colab-df-quickchart {\n",
              "      --bg-color: #E8F0FE;\n",
              "      --fill-color: #1967D2;\n",
              "      --hover-bg-color: #E2EBFA;\n",
              "      --hover-fill-color: #174EA6;\n",
              "      --disabled-fill-color: #AAA;\n",
              "      --disabled-bg-color: #DDD;\n",
              "  }\n",
              "\n",
              "  [theme=dark] .colab-df-quickchart {\n",
              "      --bg-color: #3B4455;\n",
              "      --fill-color: #D2E3FC;\n",
              "      --hover-bg-color: #434B5C;\n",
              "      --hover-fill-color: #FFFFFF;\n",
              "      --disabled-bg-color: #3B4455;\n",
              "      --disabled-fill-color: #666;\n",
              "  }\n",
              "\n",
              "  .colab-df-quickchart {\n",
              "    background-color: var(--bg-color);\n",
              "    border: none;\n",
              "    border-radius: 50%;\n",
              "    cursor: pointer;\n",
              "    display: none;\n",
              "    fill: var(--fill-color);\n",
              "    height: 32px;\n",
              "    padding: 0;\n",
              "    width: 32px;\n",
              "  }\n",
              "\n",
              "  .colab-df-quickchart:hover {\n",
              "    background-color: var(--hover-bg-color);\n",
              "    box-shadow: 0 1px 2px rgba(60, 64, 67, 0.3), 0 1px 3px 1px rgba(60, 64, 67, 0.15);\n",
              "    fill: var(--button-hover-fill-color);\n",
              "  }\n",
              "\n",
              "  .colab-df-quickchart-complete:disabled,\n",
              "  .colab-df-quickchart-complete:disabled:hover {\n",
              "    background-color: var(--disabled-bg-color);\n",
              "    fill: var(--disabled-fill-color);\n",
              "    box-shadow: none;\n",
              "  }\n",
              "\n",
              "  .colab-df-spinner {\n",
              "    border: 2px solid var(--fill-color);\n",
              "    border-color: transparent;\n",
              "    border-bottom-color: var(--fill-color);\n",
              "    animation:\n",
              "      spin 1s steps(1) infinite;\n",
              "  }\n",
              "\n",
              "  @keyframes spin {\n",
              "    0% {\n",
              "      border-color: transparent;\n",
              "      border-bottom-color: var(--fill-color);\n",
              "      border-left-color: var(--fill-color);\n",
              "    }\n",
              "    20% {\n",
              "      border-color: transparent;\n",
              "      border-left-color: var(--fill-color);\n",
              "      border-top-color: var(--fill-color);\n",
              "    }\n",
              "    30% {\n",
              "      border-color: transparent;\n",
              "      border-left-color: var(--fill-color);\n",
              "      border-top-color: var(--fill-color);\n",
              "      border-right-color: var(--fill-color);\n",
              "    }\n",
              "    40% {\n",
              "      border-color: transparent;\n",
              "      border-right-color: var(--fill-color);\n",
              "      border-top-color: var(--fill-color);\n",
              "    }\n",
              "    60% {\n",
              "      border-color: transparent;\n",
              "      border-right-color: var(--fill-color);\n",
              "    }\n",
              "    80% {\n",
              "      border-color: transparent;\n",
              "      border-right-color: var(--fill-color);\n",
              "      border-bottom-color: var(--fill-color);\n",
              "    }\n",
              "    90% {\n",
              "      border-color: transparent;\n",
              "      border-bottom-color: var(--fill-color);\n",
              "    }\n",
              "  }\n",
              "</style>\n",
              "\n",
              "  <script>\n",
              "    async function quickchart(key) {\n",
              "      const quickchartButtonEl =\n",
              "        document.querySelector('#' + key + ' button');\n",
              "      quickchartButtonEl.disabled = true;  // To prevent multiple clicks.\n",
              "      quickchartButtonEl.classList.add('colab-df-spinner');\n",
              "      try {\n",
              "        const charts = await google.colab.kernel.invokeFunction(\n",
              "            'suggestCharts', [key], {});\n",
              "      } catch (error) {\n",
              "        console.error('Error during call to suggestCharts:', error);\n",
              "      }\n",
              "      quickchartButtonEl.classList.remove('colab-df-spinner');\n",
              "      quickchartButtonEl.classList.add('colab-df-quickchart-complete');\n",
              "    }\n",
              "    (() => {\n",
              "      let quickchartButtonEl =\n",
              "        document.querySelector('#df-2c1bc10a-cfa6-4af8-aa91-72204c091484 button');\n",
              "      quickchartButtonEl.style.display =\n",
              "        google.colab.kernel.accessAllowed ? 'block' : 'none';\n",
              "    })();\n",
              "  </script>\n",
              "</div>\n",
              "\n",
              "  <div id=\"id_bc9f81e5-426e-4d88-8611-a84b9e4da888\">\n",
              "    <style>\n",
              "      .colab-df-generate {\n",
              "        background-color: #E8F0FE;\n",
              "        border: none;\n",
              "        border-radius: 50%;\n",
              "        cursor: pointer;\n",
              "        display: none;\n",
              "        fill: #1967D2;\n",
              "        height: 32px;\n",
              "        padding: 0 0 0 0;\n",
              "        width: 32px;\n",
              "      }\n",
              "\n",
              "      .colab-df-generate:hover {\n",
              "        background-color: #E2EBFA;\n",
              "        box-shadow: 0px 1px 2px rgba(60, 64, 67, 0.3), 0px 1px 3px 1px rgba(60, 64, 67, 0.15);\n",
              "        fill: #174EA6;\n",
              "      }\n",
              "\n",
              "      [theme=dark] .colab-df-generate {\n",
              "        background-color: #3B4455;\n",
              "        fill: #D2E3FC;\n",
              "      }\n",
              "\n",
              "      [theme=dark] .colab-df-generate:hover {\n",
              "        background-color: #434B5C;\n",
              "        box-shadow: 0px 1px 3px 1px rgba(0, 0, 0, 0.15);\n",
              "        filter: drop-shadow(0px 1px 2px rgba(0, 0, 0, 0.3));\n",
              "        fill: #FFFFFF;\n",
              "      }\n",
              "    </style>\n",
              "    <button class=\"colab-df-generate\" onclick=\"generateWithVariable('total_row_cnt_df')\"\n",
              "            title=\"Generate code using this dataframe.\"\n",
              "            style=\"display:none;\">\n",
              "\n",
              "  <svg xmlns=\"http://www.w3.org/2000/svg\" height=\"24px\"viewBox=\"0 0 24 24\"\n",
              "       width=\"24px\">\n",
              "    <path d=\"M7,19H8.4L18.45,9,17,7.55,7,17.6ZM5,21V16.75L18.45,3.32a2,2,0,0,1,2.83,0l1.4,1.43a1.91,1.91,0,0,1,.58,1.4,1.91,1.91,0,0,1-.58,1.4L9.25,21ZM18.45,9,17,7.55Zm-12,3A5.31,5.31,0,0,0,4.9,8.1,5.31,5.31,0,0,0,1,6.5,5.31,5.31,0,0,0,4.9,4.9,5.31,5.31,0,0,0,6.5,1,5.31,5.31,0,0,0,8.1,4.9,5.31,5.31,0,0,0,12,6.5,5.46,5.46,0,0,0,6.5,12Z\"/>\n",
              "  </svg>\n",
              "    </button>\n",
              "    <script>\n",
              "      (() => {\n",
              "      const buttonEl =\n",
              "        document.querySelector('#id_bc9f81e5-426e-4d88-8611-a84b9e4da888 button.colab-df-generate');\n",
              "      buttonEl.style.display =\n",
              "        google.colab.kernel.accessAllowed ? 'block' : 'none';\n",
              "\n",
              "      buttonEl.onclick = () => {\n",
              "        google.colab.notebook.generateWithVariable('total_row_cnt_df');\n",
              "      }\n",
              "      })();\n",
              "    </script>\n",
              "  </div>\n",
              "\n",
              "    </div>\n",
              "  </div>\n"
            ],
            "application/vnd.google.colaboratory.intrinsic+json": {
              "type": "dataframe",
              "variable_name": "total_row_cnt_df",
              "summary": "{\n  \"name\": \"total_row_cnt_df\",\n  \"rows\": 278,\n  \"fields\": [\n    {\n      \"column\": \"date\",\n      \"properties\": {\n        \"dtype\": \"dbdate\",\n        \"num_unique_values\": 278,\n        \"samples\": [\n          \"2024-03-07\",\n          \"2024-08-16\",\n          \"2024-12-24\"\n        ],\n        \"semantic_type\": \"\",\n        \"description\": \"\"\n      }\n    },\n    {\n      \"column\": \"row_cnt\",\n      \"properties\": {\n        \"dtype\": \"Int64\",\n        \"num_unique_values\": 146,\n        \"samples\": [\n          182,\n          221,\n          291\n        ],\n        \"semantic_type\": \"\",\n        \"description\": \"\"\n      }\n    }\n  ]\n}"
            }
          },
          "metadata": {},
          "execution_count": 12
        }
      ]
    }
  ]
}